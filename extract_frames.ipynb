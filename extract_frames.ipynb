{
 "cells": [
  {
   "cell_type": "code",
   "execution_count": 2,
   "id": "91082a65-5c7a-45df-be7a-130c1bfe4c2c",
   "metadata": {},
   "outputs": [],
   "source": [
    "import os\n",
    "import cv2\n",
    "import logging\n",
    "\n",
    "logging.basicConfig(level=logging.INFO, format=\"%(asctime)s [%(levelname)s] %(message)s\")\n",
    "\n",
    "def extract_frames(video_path: str, output_dir: str, interval_ms: int = 500) -> int:\n",
    "    if not os.path.exists(video_path):\n",
    "        logging.error(f\"Video not found: {video_path}\")\n",
    "        return 0\n",
    "\n",
    "    os.makedirs(output_dir, exist_ok=True)\n",
    "    cap = cv2.VideoCapture(video_path)\n",
    "    fps = cap.get(cv2.CAP_PROP_FPS)\n",
    "    if fps == 0:\n",
    "        logging.error(f\"Cannot read FPS for: {video_path}\")\n",
    "        return 0\n",
    "\n",
    "    interval_frames = int(fps * (interval_ms / 1000))\n",
    "    frame_idx, saved_idx = 0, 0\n",
    "\n",
    "    while True:\n",
    "        ret, frame = cap.read()\n",
    "        if not ret:\n",
    "            break\n",
    "        if frame_idx % interval_frames == 0:\n",
    "            filename = os.path.join(output_dir, f\"frame_{saved_idx:04d}.jpg\")\n",
    "            cv2.imwrite(filename, frame)\n",
    "            saved_idx += 1\n",
    "        frame_idx += 1\n",
    "\n",
    "    cap.release()\n",
    "    logging.info(f\"✅ Extracted {saved_idx} frames from {video_path}\")\n",
    "    return saved_idx"
   ]
  },
  {
   "cell_type": "code",
   "execution_count": null,
   "id": "7eabee97-d427-4fb2-93f1-c7dec528d191",
   "metadata": {},
   "outputs": [],
   "source": []
  }
 ],
 "metadata": {
  "kernelspec": {
   "display_name": "Python 3 (ipykernel)",
   "language": "python",
   "name": "python3"
  },
  "language_info": {
   "codemirror_mode": {
    "name": "ipython",
    "version": 3
   },
   "file_extension": ".py",
   "mimetype": "text/x-python",
   "name": "python",
   "nbconvert_exporter": "python",
   "pygments_lexer": "ipython3",
   "version": "3.12.7"
  }
 },
 "nbformat": 4,
 "nbformat_minor": 5
}
