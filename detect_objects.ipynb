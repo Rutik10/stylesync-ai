{
 "cells": [
  {
   "cell_type": "code",
   "execution_count": 1,
   "id": "b8ecf7cb-b1e4-4642-bdd1-1a57f7281238",
   "metadata": {},
   "outputs": [],
   "source": [
    "import os\n",
    "import json\n",
    "import logging\n",
    "from ultralytics import YOLO\n",
    "\n",
    "# Set up logging\n",
    "logging.basicConfig(level=logging.INFO, format=\"%(asctime)s [%(levelname)s] %(message)s\")\n",
    "\n",
    "# Load the YOLOv8 model (nano for speed)\n",
    "model = YOLO(\"yolov8n.pt\")\n",
    "\n",
    "\n",
    "def detect_objects_in_folder(input_folder: str) -> list:\n",
    "    \"\"\"\n",
    "    Runs YOLOv8 on all .jpg files in a folder.\n",
    "    Returns a list of detections for all frames.\n",
    "    \"\"\"\n",
    "    detections = []\n",
    "\n",
    "    for image_file in sorted(os.listdir(input_folder)):\n",
    "        if not image_file.endswith(\".jpg\"):\n",
    "            continue\n",
    "\n",
    "        image_path = os.path.join(input_folder, image_file)\n",
    "        logging.info(f\"🔍 Detecting objects in: {image_file}\")\n",
    "\n",
    "        result = model(image_path)[0]\n",
    "        frame_result = {\n",
    "            \"frame\": image_file,\n",
    "            \"detections\": []\n",
    "        }\n",
    "\n",
    "        for box in result.boxes:\n",
    "            cls_id = int(box.cls[0])\n",
    "            frame_result[\"detections\"].append({\n",
    "                \"class_id\": cls_id,\n",
    "                \"class_name\": result.names[cls_id],\n",
    "                \"confidence\": round(float(box.conf[0]), 3),\n",
    "                \"bbox\": [round(x, 2) for x in box.xywh[0].tolist()]\n",
    "            })\n",
    "\n",
    "        detections.append(frame_result)\n",
    "\n",
    "    return detections\n",
    "\n",
    "\n",
    "def detect_all_videos(frames_dir=\"frames\", output_dir=\"outputs\"):\n",
    "    \"\"\"\n",
    "    Runs detection on all frame folders and saves a .json per video.\n",
    "    \"\"\"\n",
    "    os.makedirs(output_dir, exist_ok=True)\n",
    "\n",
    "    for video_id in sorted(os.listdir(frames_dir)):\n",
    "        input_folder = os.path.join(frames_dir, video_id)\n",
    "        if not os.path.isdir(input_folder):\n",
    "            continue\n",
    "\n",
    "        output_file = os.path.join(output_dir, f\"{video_id}.json\")\n",
    "        logging.info(f\"📂 Running detection for: {video_id}\")\n",
    "\n",
    "        video_detections = detect_objects_in_folder(input_folder)\n",
    "\n",
    "        with open(output_file, \"w\") as f:\n",
    "            json.dump(video_detections, f, indent=2)\n",
    "\n",
    "        logging.info(f\"✅ Saved: {output_file}\")\n"
   ]
  },
  {
   "cell_type": "code",
   "execution_count": 2,
   "id": "f7094c50-8fc9-4909-a097-f5139450d259",
   "metadata": {},
   "outputs": [
    {
     "name": "stderr",
     "output_type": "stream",
     "text": [
      "2025-06-04 23:38:15,242 [INFO] 📂 Running detection for: 2025-05-22_08-25-12_UTC\n",
      "2025-06-04 23:38:15,248 [INFO] 🔍 Detecting objects in: frame_0000.jpg\n"
     ]
    },
    {
     "name": "stdout",
     "output_type": "stream",
     "text": [
      "\n",
      "image 1/1 C:\\Users\\rutik\\frames\\2025-05-22_08-25-12_UTC\\frame_0000.jpg: 640x384 (no detections), 459.5ms\n",
      "Speed: 16.1ms preprocess, 459.5ms inference, 9.8ms postprocess per image at shape (1, 3, 640, 384)\n"
     ]
    },
    {
     "name": "stderr",
     "output_type": "stream",
     "text": [
      "2025-06-04 23:38:23,600 [INFO] 🔍 Detecting objects in: frame_0001.jpg\n"
     ]
    },
    {
     "name": "stdout",
     "output_type": "stream",
     "text": [
      "\n",
      "image 1/1 C:\\Users\\rutik\\frames\\2025-05-22_08-25-12_UTC\\frame_0001.jpg: 640x384 (no detections), 247.1ms\n",
      "Speed: 5.6ms preprocess, 247.1ms inference, 1.9ms postprocess per image at shape (1, 3, 640, 384)\n"
     ]
    },
    {
     "name": "stderr",
     "output_type": "stream",
     "text": [
      "2025-06-04 23:38:23,908 [INFO] 🔍 Detecting objects in: frame_0002.jpg\n"
     ]
    },
    {
     "name": "stdout",
     "output_type": "stream",
     "text": [
      "\n",
      "image 1/1 C:\\Users\\rutik\\frames\\2025-05-22_08-25-12_UTC\\frame_0002.jpg: 640x384 (no detections), 231.7ms\n",
      "Speed: 3.4ms preprocess, 231.7ms inference, 1.8ms postprocess per image at shape (1, 3, 640, 384)\n"
     ]
    },
    {
     "name": "stderr",
     "output_type": "stream",
     "text": [
      "2025-06-04 23:38:24,182 [INFO] 🔍 Detecting objects in: frame_0003.jpg\n"
     ]
    },
    {
     "name": "stdout",
     "output_type": "stream",
     "text": [
      "\n",
      "image 1/1 C:\\Users\\rutik\\frames\\2025-05-22_08-25-12_UTC\\frame_0003.jpg: 640x384 (no detections), 282.4ms\n",
      "Speed: 2.8ms preprocess, 282.4ms inference, 3.0ms postprocess per image at shape (1, 3, 640, 384)\n"
     ]
    },
    {
     "name": "stderr",
     "output_type": "stream",
     "text": [
      "2025-06-04 23:38:24,508 [INFO] 🔍 Detecting objects in: frame_0004.jpg\n"
     ]
    },
    {
     "name": "stdout",
     "output_type": "stream",
     "text": [
      "\n",
      "image 1/1 C:\\Users\\rutik\\frames\\2025-05-22_08-25-12_UTC\\frame_0004.jpg: 640x384 (no detections), 260.9ms\n",
      "Speed: 6.7ms preprocess, 260.9ms inference, 1.8ms postprocess per image at shape (1, 3, 640, 384)\n"
     ]
    },
    {
     "name": "stderr",
     "output_type": "stream",
     "text": [
      "2025-06-04 23:38:24,831 [INFO] 🔍 Detecting objects in: frame_0005.jpg\n"
     ]
    },
    {
     "name": "stdout",
     "output_type": "stream",
     "text": [
      "\n",
      "image 1/1 C:\\Users\\rutik\\frames\\2025-05-22_08-25-12_UTC\\frame_0005.jpg: 640x384 (no detections), 279.2ms\n",
      "Speed: 4.1ms preprocess, 279.2ms inference, 2.2ms postprocess per image at shape (1, 3, 640, 384)\n"
     ]
    },
    {
     "name": "stderr",
     "output_type": "stream",
     "text": [
      "2025-06-04 23:38:25,158 [INFO] 🔍 Detecting objects in: frame_0006.jpg\n"
     ]
    },
    {
     "name": "stdout",
     "output_type": "stream",
     "text": [
      "\n",
      "image 1/1 C:\\Users\\rutik\\frames\\2025-05-22_08-25-12_UTC\\frame_0006.jpg: 640x384 (no detections), 272.4ms\n",
      "Speed: 3.9ms preprocess, 272.4ms inference, 1.9ms postprocess per image at shape (1, 3, 640, 384)\n"
     ]
    },
    {
     "name": "stderr",
     "output_type": "stream",
     "text": [
      "2025-06-04 23:38:25,481 [INFO] 🔍 Detecting objects in: frame_0007.jpg\n"
     ]
    },
    {
     "name": "stdout",
     "output_type": "stream",
     "text": [
      "\n",
      "image 1/1 C:\\Users\\rutik\\frames\\2025-05-22_08-25-12_UTC\\frame_0007.jpg: 640x384 (no detections), 239.9ms\n",
      "Speed: 4.5ms preprocess, 239.9ms inference, 1.8ms postprocess per image at shape (1, 3, 640, 384)\n"
     ]
    },
    {
     "name": "stderr",
     "output_type": "stream",
     "text": [
      "2025-06-04 23:38:25,779 [INFO] 🔍 Detecting objects in: frame_0008.jpg\n"
     ]
    },
    {
     "name": "stdout",
     "output_type": "stream",
     "text": [
      "\n",
      "image 1/1 C:\\Users\\rutik\\frames\\2025-05-22_08-25-12_UTC\\frame_0008.jpg: 640x384 (no detections), 269.0ms\n",
      "Speed: 5.6ms preprocess, 269.0ms inference, 1.7ms postprocess per image at shape (1, 3, 640, 384)\n"
     ]
    },
    {
     "name": "stderr",
     "output_type": "stream",
     "text": [
      "2025-06-04 23:38:26,094 [INFO] 🔍 Detecting objects in: frame_0009.jpg\n"
     ]
    },
    {
     "name": "stdout",
     "output_type": "stream",
     "text": [
      "\n",
      "image 1/1 C:\\Users\\rutik\\frames\\2025-05-22_08-25-12_UTC\\frame_0009.jpg: 640x384 (no detections), 253.4ms\n",
      "Speed: 4.9ms preprocess, 253.4ms inference, 1.3ms postprocess per image at shape (1, 3, 640, 384)\n"
     ]
    },
    {
     "name": "stderr",
     "output_type": "stream",
     "text": [
      "2025-06-04 23:38:26,398 [INFO] 🔍 Detecting objects in: frame_0010.jpg\n"
     ]
    },
    {
     "name": "stdout",
     "output_type": "stream",
     "text": [
      "\n",
      "image 1/1 C:\\Users\\rutik\\frames\\2025-05-22_08-25-12_UTC\\frame_0010.jpg: 640x384 (no detections), 226.4ms\n",
      "Speed: 4.1ms preprocess, 226.4ms inference, 2.1ms postprocess per image at shape (1, 3, 640, 384)\n"
     ]
    },
    {
     "name": "stderr",
     "output_type": "stream",
     "text": [
      "2025-06-04 23:38:26,677 [INFO] 🔍 Detecting objects in: frame_0011.jpg\n"
     ]
    },
    {
     "name": "stdout",
     "output_type": "stream",
     "text": [
      "\n",
      "image 1/1 C:\\Users\\rutik\\frames\\2025-05-22_08-25-12_UTC\\frame_0011.jpg: 640x384 (no detections), 269.1ms\n",
      "Speed: 4.6ms preprocess, 269.1ms inference, 1.7ms postprocess per image at shape (1, 3, 640, 384)\n"
     ]
    },
    {
     "name": "stderr",
     "output_type": "stream",
     "text": [
      "2025-06-04 23:38:26,993 [INFO] 🔍 Detecting objects in: frame_0012.jpg\n"
     ]
    },
    {
     "name": "stdout",
     "output_type": "stream",
     "text": [
      "\n",
      "image 1/1 C:\\Users\\rutik\\frames\\2025-05-22_08-25-12_UTC\\frame_0012.jpg: 640x384 (no detections), 204.2ms\n",
      "Speed: 4.3ms preprocess, 204.2ms inference, 2.2ms postprocess per image at shape (1, 3, 640, 384)\n"
     ]
    },
    {
     "name": "stderr",
     "output_type": "stream",
     "text": [
      "2025-06-04 23:38:27,243 [INFO] 🔍 Detecting objects in: frame_0013.jpg\n"
     ]
    },
    {
     "name": "stdout",
     "output_type": "stream",
     "text": [
      "\n",
      "image 1/1 C:\\Users\\rutik\\frames\\2025-05-22_08-25-12_UTC\\frame_0013.jpg: 640x384 (no detections), 219.2ms\n",
      "Speed: 3.7ms preprocess, 219.2ms inference, 1.6ms postprocess per image at shape (1, 3, 640, 384)\n"
     ]
    },
    {
     "name": "stderr",
     "output_type": "stream",
     "text": [
      "2025-06-04 23:38:27,512 [INFO] 🔍 Detecting objects in: frame_0014.jpg\n"
     ]
    },
    {
     "name": "stdout",
     "output_type": "stream",
     "text": [
      "\n",
      "image 1/1 C:\\Users\\rutik\\frames\\2025-05-22_08-25-12_UTC\\frame_0014.jpg: 640x384 (no detections), 196.3ms\n",
      "Speed: 4.3ms preprocess, 196.3ms inference, 1.7ms postprocess per image at shape (1, 3, 640, 384)\n"
     ]
    },
    {
     "name": "stderr",
     "output_type": "stream",
     "text": [
      "2025-06-04 23:38:27,751 [INFO] 🔍 Detecting objects in: frame_0015.jpg\n"
     ]
    },
    {
     "name": "stdout",
     "output_type": "stream",
     "text": [
      "\n",
      "image 1/1 C:\\Users\\rutik\\frames\\2025-05-22_08-25-12_UTC\\frame_0015.jpg: 640x384 (no detections), 275.8ms\n",
      "Speed: 4.5ms preprocess, 275.8ms inference, 1.5ms postprocess per image at shape (1, 3, 640, 384)\n"
     ]
    },
    {
     "name": "stderr",
     "output_type": "stream",
     "text": [
      "2025-06-04 23:38:28,076 [INFO] 🔍 Detecting objects in: frame_0016.jpg\n"
     ]
    },
    {
     "name": "stdout",
     "output_type": "stream",
     "text": [
      "\n",
      "image 1/1 C:\\Users\\rutik\\frames\\2025-05-22_08-25-12_UTC\\frame_0016.jpg: 640x384 1 sports ball, 249.3ms\n",
      "Speed: 3.6ms preprocess, 249.3ms inference, 12.1ms postprocess per image at shape (1, 3, 640, 384)\n"
     ]
    },
    {
     "name": "stderr",
     "output_type": "stream",
     "text": [
      "2025-06-04 23:38:28,391 [INFO] 🔍 Detecting objects in: frame_0017.jpg\n"
     ]
    },
    {
     "name": "stdout",
     "output_type": "stream",
     "text": [
      "\n",
      "image 1/1 C:\\Users\\rutik\\frames\\2025-05-22_08-25-12_UTC\\frame_0017.jpg: 640x384 1 sports ball, 235.4ms\n",
      "Speed: 4.1ms preprocess, 235.4ms inference, 2.7ms postprocess per image at shape (1, 3, 640, 384)\n"
     ]
    },
    {
     "name": "stderr",
     "output_type": "stream",
     "text": [
      "2025-06-04 23:38:28,677 [INFO] 🔍 Detecting objects in: frame_0018.jpg\n"
     ]
    },
    {
     "name": "stdout",
     "output_type": "stream",
     "text": [
      "\n",
      "image 1/1 C:\\Users\\rutik\\frames\\2025-05-22_08-25-12_UTC\\frame_0018.jpg: 640x384 1 sports ball, 210.8ms\n",
      "Speed: 3.3ms preprocess, 210.8ms inference, 2.9ms postprocess per image at shape (1, 3, 640, 384)\n"
     ]
    },
    {
     "name": "stderr",
     "output_type": "stream",
     "text": [
      "2025-06-04 23:38:28,936 [INFO] ✅ Saved: outputs\\2025-05-22_08-25-12_UTC.json\n",
      "2025-06-04 23:38:28,937 [INFO] 📂 Running detection for: 2025-05-27_13-46-16_UTC\n",
      "2025-06-04 23:38:28,939 [INFO] 🔍 Detecting objects in: frame_0000.jpg\n"
     ]
    },
    {
     "name": "stdout",
     "output_type": "stream",
     "text": [
      "\n",
      "image 1/1 C:\\Users\\rutik\\frames\\2025-05-27_13-46-16_UTC\\frame_0000.jpg: 640x384 1 person, 1 umbrella, 190.1ms\n",
      "Speed: 3.9ms preprocess, 190.1ms inference, 5.0ms postprocess per image at shape (1, 3, 640, 384)\n"
     ]
    },
    {
     "name": "stderr",
     "output_type": "stream",
     "text": [
      "2025-06-04 23:38:29,174 [INFO] 🔍 Detecting objects in: frame_0001.jpg\n"
     ]
    },
    {
     "name": "stdout",
     "output_type": "stream",
     "text": [
      "\n",
      "image 1/1 C:\\Users\\rutik\\frames\\2025-05-27_13-46-16_UTC\\frame_0001.jpg: 640x384 1 person, 2 umbrellas, 230.9ms\n",
      "Speed: 3.6ms preprocess, 230.9ms inference, 2.3ms postprocess per image at shape (1, 3, 640, 384)\n"
     ]
    },
    {
     "name": "stderr",
     "output_type": "stream",
     "text": [
      "2025-06-04 23:38:29,451 [INFO] 🔍 Detecting objects in: frame_0002.jpg\n"
     ]
    },
    {
     "name": "stdout",
     "output_type": "stream",
     "text": [
      "\n",
      "image 1/1 C:\\Users\\rutik\\frames\\2025-05-27_13-46-16_UTC\\frame_0002.jpg: 640x384 1 person, 1 umbrella, 217.6ms\n",
      "Speed: 4.0ms preprocess, 217.6ms inference, 2.8ms postprocess per image at shape (1, 3, 640, 384)\n"
     ]
    },
    {
     "name": "stderr",
     "output_type": "stream",
     "text": [
      "2025-06-04 23:38:29,713 [INFO] 🔍 Detecting objects in: frame_0003.jpg\n"
     ]
    },
    {
     "name": "stdout",
     "output_type": "stream",
     "text": [
      "\n",
      "image 1/1 C:\\Users\\rutik\\frames\\2025-05-27_13-46-16_UTC\\frame_0003.jpg: 640x384 1 person, 1 tie, 280.9ms\n",
      "Speed: 3.9ms preprocess, 280.9ms inference, 3.0ms postprocess per image at shape (1, 3, 640, 384)\n"
     ]
    },
    {
     "name": "stderr",
     "output_type": "stream",
     "text": [
      "2025-06-04 23:38:30,039 [INFO] 🔍 Detecting objects in: frame_0004.jpg\n"
     ]
    },
    {
     "name": "stdout",
     "output_type": "stream",
     "text": [
      "\n",
      "image 1/1 C:\\Users\\rutik\\frames\\2025-05-27_13-46-16_UTC\\frame_0004.jpg: 640x384 1 person, 1 tie, 226.7ms\n",
      "Speed: 3.5ms preprocess, 226.7ms inference, 2.9ms postprocess per image at shape (1, 3, 640, 384)\n"
     ]
    },
    {
     "name": "stderr",
     "output_type": "stream",
     "text": [
      "2025-06-04 23:38:30,311 [INFO] 🔍 Detecting objects in: frame_0005.jpg\n"
     ]
    },
    {
     "name": "stdout",
     "output_type": "stream",
     "text": [
      "\n",
      "image 1/1 C:\\Users\\rutik\\frames\\2025-05-27_13-46-16_UTC\\frame_0005.jpg: 640x384 2 persons, 221.6ms\n",
      "Speed: 4.0ms preprocess, 221.6ms inference, 2.1ms postprocess per image at shape (1, 3, 640, 384)\n"
     ]
    },
    {
     "name": "stderr",
     "output_type": "stream",
     "text": [
      "2025-06-04 23:38:30,578 [INFO] 🔍 Detecting objects in: frame_0006.jpg\n"
     ]
    },
    {
     "name": "stdout",
     "output_type": "stream",
     "text": [
      "\n",
      "image 1/1 C:\\Users\\rutik\\frames\\2025-05-27_13-46-16_UTC\\frame_0006.jpg: 640x384 2 persons, 1 handbag, 212.4ms\n",
      "Speed: 3.3ms preprocess, 212.4ms inference, 3.0ms postprocess per image at shape (1, 3, 640, 384)\n"
     ]
    },
    {
     "name": "stderr",
     "output_type": "stream",
     "text": [
      "2025-06-04 23:38:30,854 [INFO] 🔍 Detecting objects in: frame_0007.jpg\n"
     ]
    },
    {
     "name": "stdout",
     "output_type": "stream",
     "text": [
      "\n",
      "image 1/1 C:\\Users\\rutik\\frames\\2025-05-27_13-46-16_UTC\\frame_0007.jpg: 640x384 1 person, 196.0ms\n",
      "Speed: 3.6ms preprocess, 196.0ms inference, 2.8ms postprocess per image at shape (1, 3, 640, 384)\n"
     ]
    },
    {
     "name": "stderr",
     "output_type": "stream",
     "text": [
      "2025-06-04 23:38:31,097 [INFO] 🔍 Detecting objects in: frame_0008.jpg\n"
     ]
    },
    {
     "name": "stdout",
     "output_type": "stream",
     "text": [
      "\n",
      "image 1/1 C:\\Users\\rutik\\frames\\2025-05-27_13-46-16_UTC\\frame_0008.jpg: 640x384 1 person, 193.4ms\n",
      "Speed: 3.5ms preprocess, 193.4ms inference, 3.6ms postprocess per image at shape (1, 3, 640, 384)\n"
     ]
    },
    {
     "name": "stderr",
     "output_type": "stream",
     "text": [
      "2025-06-04 23:38:31,336 [INFO] 🔍 Detecting objects in: frame_0009.jpg\n"
     ]
    },
    {
     "name": "stdout",
     "output_type": "stream",
     "text": [
      "\n",
      "image 1/1 C:\\Users\\rutik\\frames\\2025-05-27_13-46-16_UTC\\frame_0009.jpg: 640x384 1 person, 1 chair, 219.9ms\n",
      "Speed: 4.0ms preprocess, 219.9ms inference, 2.2ms postprocess per image at shape (1, 3, 640, 384)\n"
     ]
    },
    {
     "name": "stderr",
     "output_type": "stream",
     "text": [
      "2025-06-04 23:38:31,601 [INFO] 🔍 Detecting objects in: frame_0010.jpg\n"
     ]
    },
    {
     "name": "stdout",
     "output_type": "stream",
     "text": [
      "\n",
      "image 1/1 C:\\Users\\rutik\\frames\\2025-05-27_13-46-16_UTC\\frame_0010.jpg: 640x384 1 person, 218.8ms\n",
      "Speed: 4.1ms preprocess, 218.8ms inference, 2.8ms postprocess per image at shape (1, 3, 640, 384)\n"
     ]
    },
    {
     "name": "stderr",
     "output_type": "stream",
     "text": [
      "2025-06-04 23:38:31,866 [INFO] 🔍 Detecting objects in: frame_0011.jpg\n"
     ]
    },
    {
     "name": "stdout",
     "output_type": "stream",
     "text": [
      "\n",
      "image 1/1 C:\\Users\\rutik\\frames\\2025-05-27_13-46-16_UTC\\frame_0011.jpg: 640x384 3 persons, 215.6ms\n",
      "Speed: 3.6ms preprocess, 215.6ms inference, 2.7ms postprocess per image at shape (1, 3, 640, 384)\n"
     ]
    },
    {
     "name": "stderr",
     "output_type": "stream",
     "text": [
      "2025-06-04 23:38:32,128 [INFO] 🔍 Detecting objects in: frame_0012.jpg\n"
     ]
    },
    {
     "name": "stdout",
     "output_type": "stream",
     "text": [
      "\n",
      "image 1/1 C:\\Users\\rutik\\frames\\2025-05-27_13-46-16_UTC\\frame_0012.jpg: 640x384 (no detections), 198.6ms\n",
      "Speed: 3.9ms preprocess, 198.6ms inference, 1.7ms postprocess per image at shape (1, 3, 640, 384)\n"
     ]
    },
    {
     "name": "stderr",
     "output_type": "stream",
     "text": [
      "2025-06-04 23:38:32,368 [INFO] 🔍 Detecting objects in: frame_0013.jpg\n"
     ]
    },
    {
     "name": "stdout",
     "output_type": "stream",
     "text": [
      "\n",
      "image 1/1 C:\\Users\\rutik\\frames\\2025-05-27_13-46-16_UTC\\frame_0013.jpg: 640x384 1 person, 212.3ms\n",
      "Speed: 3.3ms preprocess, 212.3ms inference, 3.0ms postprocess per image at shape (1, 3, 640, 384)\n"
     ]
    },
    {
     "name": "stderr",
     "output_type": "stream",
     "text": [
      "2025-06-04 23:38:32,623 [INFO] 🔍 Detecting objects in: frame_0014.jpg\n"
     ]
    },
    {
     "name": "stdout",
     "output_type": "stream",
     "text": [
      "\n",
      "image 1/1 C:\\Users\\rutik\\frames\\2025-05-27_13-46-16_UTC\\frame_0014.jpg: 640x384 1 person, 230.0ms\n",
      "Speed: 3.7ms preprocess, 230.0ms inference, 3.2ms postprocess per image at shape (1, 3, 640, 384)\n"
     ]
    },
    {
     "name": "stderr",
     "output_type": "stream",
     "text": [
      "2025-06-04 23:38:32,901 [INFO] 🔍 Detecting objects in: frame_0015.jpg\n"
     ]
    },
    {
     "name": "stdout",
     "output_type": "stream",
     "text": [
      "\n",
      "image 1/1 C:\\Users\\rutik\\frames\\2025-05-27_13-46-16_UTC\\frame_0015.jpg: 640x384 2 persons, 1 tv, 262.4ms\n",
      "Speed: 5.1ms preprocess, 262.4ms inference, 3.2ms postprocess per image at shape (1, 3, 640, 384)\n"
     ]
    },
    {
     "name": "stderr",
     "output_type": "stream",
     "text": [
      "2025-06-04 23:38:33,227 [INFO] 🔍 Detecting objects in: frame_0016.jpg\n"
     ]
    },
    {
     "name": "stdout",
     "output_type": "stream",
     "text": [
      "\n",
      "image 1/1 C:\\Users\\rutik\\frames\\2025-05-27_13-46-16_UTC\\frame_0016.jpg: 640x384 2 persons, 1 tv, 215.8ms\n",
      "Speed: 4.2ms preprocess, 215.8ms inference, 2.9ms postprocess per image at shape (1, 3, 640, 384)\n"
     ]
    },
    {
     "name": "stderr",
     "output_type": "stream",
     "text": [
      "2025-06-04 23:38:33,502 [INFO] 🔍 Detecting objects in: frame_0017.jpg\n"
     ]
    },
    {
     "name": "stdout",
     "output_type": "stream",
     "text": [
      "\n",
      "image 1/1 C:\\Users\\rutik\\frames\\2025-05-27_13-46-16_UTC\\frame_0017.jpg: 640x384 2 persons, 226.4ms\n",
      "Speed: 3.6ms preprocess, 226.4ms inference, 3.1ms postprocess per image at shape (1, 3, 640, 384)\n"
     ]
    },
    {
     "name": "stderr",
     "output_type": "stream",
     "text": [
      "2025-06-04 23:38:33,776 [INFO] 🔍 Detecting objects in: frame_0018.jpg\n"
     ]
    },
    {
     "name": "stdout",
     "output_type": "stream",
     "text": [
      "\n",
      "image 1/1 C:\\Users\\rutik\\frames\\2025-05-27_13-46-16_UTC\\frame_0018.jpg: 640x384 2 persons, 247.5ms\n",
      "Speed: 4.3ms preprocess, 247.5ms inference, 4.8ms postprocess per image at shape (1, 3, 640, 384)\n"
     ]
    },
    {
     "name": "stderr",
     "output_type": "stream",
     "text": [
      "2025-06-04 23:38:34,079 [INFO] 🔍 Detecting objects in: frame_0019.jpg\n"
     ]
    },
    {
     "name": "stdout",
     "output_type": "stream",
     "text": [
      "\n",
      "image 1/1 C:\\Users\\rutik\\frames\\2025-05-27_13-46-16_UTC\\frame_0019.jpg: 640x384 1 person, 204.2ms\n",
      "Speed: 4.6ms preprocess, 204.2ms inference, 3.1ms postprocess per image at shape (1, 3, 640, 384)\n"
     ]
    },
    {
     "name": "stderr",
     "output_type": "stream",
     "text": [
      "2025-06-04 23:38:34,334 [INFO] 🔍 Detecting objects in: frame_0020.jpg\n"
     ]
    },
    {
     "name": "stdout",
     "output_type": "stream",
     "text": [
      "\n",
      "image 1/1 C:\\Users\\rutik\\frames\\2025-05-27_13-46-16_UTC\\frame_0020.jpg: 640x384 1 person, 192.5ms\n",
      "Speed: 3.9ms preprocess, 192.5ms inference, 2.8ms postprocess per image at shape (1, 3, 640, 384)\n"
     ]
    },
    {
     "name": "stderr",
     "output_type": "stream",
     "text": [
      "2025-06-04 23:38:34,573 [INFO] 🔍 Detecting objects in: frame_0021.jpg\n"
     ]
    },
    {
     "name": "stdout",
     "output_type": "stream",
     "text": [
      "\n",
      "image 1/1 C:\\Users\\rutik\\frames\\2025-05-27_13-46-16_UTC\\frame_0021.jpg: 640x384 1 person, 212.1ms\n",
      "Speed: 4.0ms preprocess, 212.1ms inference, 3.2ms postprocess per image at shape (1, 3, 640, 384)\n"
     ]
    },
    {
     "name": "stderr",
     "output_type": "stream",
     "text": [
      "2025-06-04 23:38:34,832 [INFO] 🔍 Detecting objects in: frame_0022.jpg\n"
     ]
    },
    {
     "name": "stdout",
     "output_type": "stream",
     "text": [
      "\n",
      "image 1/1 C:\\Users\\rutik\\frames\\2025-05-27_13-46-16_UTC\\frame_0022.jpg: 640x384 1 person, 1 chair, 194.2ms\n",
      "Speed: 4.1ms preprocess, 194.2ms inference, 2.6ms postprocess per image at shape (1, 3, 640, 384)\n"
     ]
    },
    {
     "name": "stderr",
     "output_type": "stream",
     "text": [
      "2025-06-04 23:38:35,076 [INFO] 🔍 Detecting objects in: frame_0023.jpg\n"
     ]
    },
    {
     "name": "stdout",
     "output_type": "stream",
     "text": [
      "\n",
      "image 1/1 C:\\Users\\rutik\\frames\\2025-05-27_13-46-16_UTC\\frame_0023.jpg: 640x384 1 person, 238.2ms\n",
      "Speed: 4.2ms preprocess, 238.2ms inference, 2.9ms postprocess per image at shape (1, 3, 640, 384)\n"
     ]
    },
    {
     "name": "stderr",
     "output_type": "stream",
     "text": [
      "2025-06-04 23:38:35,362 [INFO] 🔍 Detecting objects in: frame_0024.jpg\n"
     ]
    },
    {
     "name": "stdout",
     "output_type": "stream",
     "text": [
      "\n",
      "image 1/1 C:\\Users\\rutik\\frames\\2025-05-27_13-46-16_UTC\\frame_0024.jpg: 640x384 1 scissors, 193.2ms\n",
      "Speed: 3.4ms preprocess, 193.2ms inference, 5.6ms postprocess per image at shape (1, 3, 640, 384)\n"
     ]
    },
    {
     "name": "stderr",
     "output_type": "stream",
     "text": [
      "2025-06-04 23:38:35,602 [INFO] 🔍 Detecting objects in: frame_0025.jpg\n"
     ]
    },
    {
     "name": "stdout",
     "output_type": "stream",
     "text": [
      "\n",
      "image 1/1 C:\\Users\\rutik\\frames\\2025-05-27_13-46-16_UTC\\frame_0025.jpg: 640x384 (no detections), 204.9ms\n",
      "Speed: 3.9ms preprocess, 204.9ms inference, 1.7ms postprocess per image at shape (1, 3, 640, 384)\n"
     ]
    },
    {
     "name": "stderr",
     "output_type": "stream",
     "text": [
      "2025-06-04 23:38:35,848 [INFO] 🔍 Detecting objects in: frame_0026.jpg\n"
     ]
    },
    {
     "name": "stdout",
     "output_type": "stream",
     "text": [
      "\n",
      "image 1/1 C:\\Users\\rutik\\frames\\2025-05-27_13-46-16_UTC\\frame_0026.jpg: 640x384 (no detections), 228.1ms\n",
      "Speed: 4.3ms preprocess, 228.1ms inference, 1.7ms postprocess per image at shape (1, 3, 640, 384)\n"
     ]
    },
    {
     "name": "stderr",
     "output_type": "stream",
     "text": [
      "2025-06-04 23:38:36,122 [INFO] 🔍 Detecting objects in: frame_0027.jpg\n"
     ]
    },
    {
     "name": "stdout",
     "output_type": "stream",
     "text": [
      "\n",
      "image 1/1 C:\\Users\\rutik\\frames\\2025-05-27_13-46-16_UTC\\frame_0027.jpg: 640x384 (no detections), 209.7ms\n",
      "Speed: 4.0ms preprocess, 209.7ms inference, 1.7ms postprocess per image at shape (1, 3, 640, 384)\n"
     ]
    },
    {
     "name": "stderr",
     "output_type": "stream",
     "text": [
      "2025-06-04 23:38:36,375 [INFO] 🔍 Detecting objects in: frame_0028.jpg\n"
     ]
    },
    {
     "name": "stdout",
     "output_type": "stream",
     "text": [
      "\n",
      "image 1/1 C:\\Users\\rutik\\frames\\2025-05-27_13-46-16_UTC\\frame_0028.jpg: 640x384 (no detections), 184.3ms\n",
      "Speed: 3.6ms preprocess, 184.3ms inference, 2.1ms postprocess per image at shape (1, 3, 640, 384)\n"
     ]
    },
    {
     "name": "stderr",
     "output_type": "stream",
     "text": [
      "2025-06-04 23:38:36,599 [INFO] 🔍 Detecting objects in: frame_0029.jpg\n"
     ]
    },
    {
     "name": "stdout",
     "output_type": "stream",
     "text": [
      "\n",
      "image 1/1 C:\\Users\\rutik\\frames\\2025-05-27_13-46-16_UTC\\frame_0029.jpg: 640x384 (no detections), 280.2ms\n",
      "Speed: 3.7ms preprocess, 280.2ms inference, 1.7ms postprocess per image at shape (1, 3, 640, 384)\n"
     ]
    },
    {
     "name": "stderr",
     "output_type": "stream",
     "text": [
      "2025-06-04 23:38:36,928 [INFO] ✅ Saved: outputs\\2025-05-27_13-46-16_UTC.json\n",
      "2025-06-04 23:38:36,930 [INFO] 📂 Running detection for: 2025-05-28_13-40-09_UTC\n",
      "2025-06-04 23:38:36,931 [INFO] 🔍 Detecting objects in: frame_0000.jpg\n"
     ]
    },
    {
     "name": "stdout",
     "output_type": "stream",
     "text": [
      "\n",
      "image 1/1 C:\\Users\\rutik\\frames\\2025-05-28_13-40-09_UTC\\frame_0000.jpg: 640x384 1 person, 226.0ms\n",
      "Speed: 4.1ms preprocess, 226.0ms inference, 3.7ms postprocess per image at shape (1, 3, 640, 384)\n"
     ]
    },
    {
     "name": "stderr",
     "output_type": "stream",
     "text": [
      "2025-06-04 23:38:37,209 [INFO] 🔍 Detecting objects in: frame_0001.jpg\n"
     ]
    },
    {
     "name": "stdout",
     "output_type": "stream",
     "text": [
      "\n",
      "image 1/1 C:\\Users\\rutik\\frames\\2025-05-28_13-40-09_UTC\\frame_0001.jpg: 640x384 1 person, 237.7ms\n",
      "Speed: 5.2ms preprocess, 237.7ms inference, 3.1ms postprocess per image at shape (1, 3, 640, 384)\n"
     ]
    },
    {
     "name": "stderr",
     "output_type": "stream",
     "text": [
      "2025-06-04 23:38:37,497 [INFO] 🔍 Detecting objects in: frame_0002.jpg\n"
     ]
    },
    {
     "name": "stdout",
     "output_type": "stream",
     "text": [
      "\n",
      "image 1/1 C:\\Users\\rutik\\frames\\2025-05-28_13-40-09_UTC\\frame_0002.jpg: 640x384 2 persons, 357.8ms\n",
      "Speed: 4.0ms preprocess, 357.8ms inference, 3.7ms postprocess per image at shape (1, 3, 640, 384)\n"
     ]
    },
    {
     "name": "stderr",
     "output_type": "stream",
     "text": [
      "2025-06-04 23:38:37,906 [INFO] 🔍 Detecting objects in: frame_0003.jpg\n"
     ]
    },
    {
     "name": "stdout",
     "output_type": "stream",
     "text": [
      "\n",
      "image 1/1 C:\\Users\\rutik\\frames\\2025-05-28_13-40-09_UTC\\frame_0003.jpg: 640x384 2 persons, 229.8ms\n",
      "Speed: 4.6ms preprocess, 229.8ms inference, 2.8ms postprocess per image at shape (1, 3, 640, 384)\n"
     ]
    },
    {
     "name": "stderr",
     "output_type": "stream",
     "text": [
      "2025-06-04 23:38:38,187 [INFO] 🔍 Detecting objects in: frame_0004.jpg\n"
     ]
    },
    {
     "name": "stdout",
     "output_type": "stream",
     "text": [
      "\n",
      "image 1/1 C:\\Users\\rutik\\frames\\2025-05-28_13-40-09_UTC\\frame_0004.jpg: 640x384 2 persons, 346.6ms\n",
      "Speed: 3.6ms preprocess, 346.6ms inference, 5.0ms postprocess per image at shape (1, 3, 640, 384)\n"
     ]
    },
    {
     "name": "stderr",
     "output_type": "stream",
     "text": [
      "2025-06-04 23:38:38,588 [INFO] 🔍 Detecting objects in: frame_0005.jpg\n"
     ]
    },
    {
     "name": "stdout",
     "output_type": "stream",
     "text": [
      "\n",
      "image 1/1 C:\\Users\\rutik\\frames\\2025-05-28_13-40-09_UTC\\frame_0005.jpg: 640x384 2 persons, 224.7ms\n",
      "Speed: 5.0ms preprocess, 224.7ms inference, 3.0ms postprocess per image at shape (1, 3, 640, 384)\n"
     ]
    },
    {
     "name": "stderr",
     "output_type": "stream",
     "text": [
      "2025-06-04 23:38:38,871 [INFO] 🔍 Detecting objects in: frame_0006.jpg\n"
     ]
    },
    {
     "name": "stdout",
     "output_type": "stream",
     "text": [
      "\n",
      "image 1/1 C:\\Users\\rutik\\frames\\2025-05-28_13-40-09_UTC\\frame_0006.jpg: 640x384 2 persons, 237.1ms\n",
      "Speed: 3.5ms preprocess, 237.1ms inference, 3.0ms postprocess per image at shape (1, 3, 640, 384)\n"
     ]
    },
    {
     "name": "stderr",
     "output_type": "stream",
     "text": [
      "2025-06-04 23:38:39,154 [INFO] 🔍 Detecting objects in: frame_0007.jpg\n"
     ]
    },
    {
     "name": "stdout",
     "output_type": "stream",
     "text": [
      "\n",
      "image 1/1 C:\\Users\\rutik\\frames\\2025-05-28_13-40-09_UTC\\frame_0007.jpg: 640x384 2 persons, 284.6ms\n",
      "Speed: 4.4ms preprocess, 284.6ms inference, 2.8ms postprocess per image at shape (1, 3, 640, 384)\n"
     ]
    },
    {
     "name": "stderr",
     "output_type": "stream",
     "text": [
      "2025-06-04 23:38:39,489 [INFO] 🔍 Detecting objects in: frame_0008.jpg\n"
     ]
    },
    {
     "name": "stdout",
     "output_type": "stream",
     "text": [
      "\n",
      "image 1/1 C:\\Users\\rutik\\frames\\2025-05-28_13-40-09_UTC\\frame_0008.jpg: 640x384 1 person, 1 potted plant, 206.5ms\n",
      "Speed: 4.1ms preprocess, 206.5ms inference, 2.9ms postprocess per image at shape (1, 3, 640, 384)\n"
     ]
    },
    {
     "name": "stderr",
     "output_type": "stream",
     "text": [
      "2025-06-04 23:38:39,745 [INFO] 🔍 Detecting objects in: frame_0009.jpg\n"
     ]
    },
    {
     "name": "stdout",
     "output_type": "stream",
     "text": [
      "\n",
      "image 1/1 C:\\Users\\rutik\\frames\\2025-05-28_13-40-09_UTC\\frame_0009.jpg: 640x384 2 persons, 189.3ms\n",
      "Speed: 3.7ms preprocess, 189.3ms inference, 2.7ms postprocess per image at shape (1, 3, 640, 384)\n"
     ]
    },
    {
     "name": "stderr",
     "output_type": "stream",
     "text": [
      "2025-06-04 23:38:39,981 [INFO] 🔍 Detecting objects in: frame_0010.jpg\n"
     ]
    },
    {
     "name": "stdout",
     "output_type": "stream",
     "text": [
      "\n",
      "image 1/1 C:\\Users\\rutik\\frames\\2025-05-28_13-40-09_UTC\\frame_0010.jpg: 640x384 1 person, 225.2ms\n",
      "Speed: 3.6ms preprocess, 225.2ms inference, 3.3ms postprocess per image at shape (1, 3, 640, 384)\n"
     ]
    },
    {
     "name": "stderr",
     "output_type": "stream",
     "text": [
      "2025-06-04 23:38:40,251 [INFO] 🔍 Detecting objects in: frame_0011.jpg\n"
     ]
    },
    {
     "name": "stdout",
     "output_type": "stream",
     "text": [
      "\n",
      "image 1/1 C:\\Users\\rutik\\frames\\2025-05-28_13-40-09_UTC\\frame_0011.jpg: 640x384 1 person, 224.0ms\n",
      "Speed: 4.2ms preprocess, 224.0ms inference, 3.2ms postprocess per image at shape (1, 3, 640, 384)\n"
     ]
    },
    {
     "name": "stderr",
     "output_type": "stream",
     "text": [
      "2025-06-04 23:38:40,527 [INFO] 🔍 Detecting objects in: frame_0012.jpg\n"
     ]
    },
    {
     "name": "stdout",
     "output_type": "stream",
     "text": [
      "\n",
      "image 1/1 C:\\Users\\rutik\\frames\\2025-05-28_13-40-09_UTC\\frame_0012.jpg: 640x384 1 person, 253.1ms\n",
      "Speed: 4.1ms preprocess, 253.1ms inference, 2.9ms postprocess per image at shape (1, 3, 640, 384)\n"
     ]
    },
    {
     "name": "stderr",
     "output_type": "stream",
     "text": [
      "2025-06-04 23:38:40,827 [INFO] 🔍 Detecting objects in: frame_0013.jpg\n"
     ]
    },
    {
     "name": "stdout",
     "output_type": "stream",
     "text": [
      "\n",
      "image 1/1 C:\\Users\\rutik\\frames\\2025-05-28_13-40-09_UTC\\frame_0013.jpg: 640x384 1 person, 221.4ms\n",
      "Speed: 5.6ms preprocess, 221.4ms inference, 3.4ms postprocess per image at shape (1, 3, 640, 384)\n"
     ]
    },
    {
     "name": "stderr",
     "output_type": "stream",
     "text": [
      "2025-06-04 23:38:41,105 [INFO] 🔍 Detecting objects in: frame_0014.jpg\n"
     ]
    },
    {
     "name": "stdout",
     "output_type": "stream",
     "text": [
      "\n",
      "image 1/1 C:\\Users\\rutik\\frames\\2025-05-28_13-40-09_UTC\\frame_0014.jpg: 640x384 2 persons, 212.6ms\n",
      "Speed: 4.2ms preprocess, 212.6ms inference, 2.8ms postprocess per image at shape (1, 3, 640, 384)\n"
     ]
    },
    {
     "name": "stderr",
     "output_type": "stream",
     "text": [
      "2025-06-04 23:38:41,368 [INFO] 🔍 Detecting objects in: frame_0015.jpg\n"
     ]
    },
    {
     "name": "stdout",
     "output_type": "stream",
     "text": [
      "\n",
      "image 1/1 C:\\Users\\rutik\\frames\\2025-05-28_13-40-09_UTC\\frame_0015.jpg: 640x384 2 persons, 242.2ms\n",
      "Speed: 3.9ms preprocess, 242.2ms inference, 2.9ms postprocess per image at shape (1, 3, 640, 384)\n"
     ]
    },
    {
     "name": "stderr",
     "output_type": "stream",
     "text": [
      "2025-06-04 23:38:41,658 [INFO] 🔍 Detecting objects in: frame_0016.jpg\n"
     ]
    },
    {
     "name": "stdout",
     "output_type": "stream",
     "text": [
      "\n",
      "image 1/1 C:\\Users\\rutik\\frames\\2025-05-28_13-40-09_UTC\\frame_0016.jpg: 640x384 2 persons, 195.3ms\n",
      "Speed: 4.0ms preprocess, 195.3ms inference, 2.6ms postprocess per image at shape (1, 3, 640, 384)\n"
     ]
    },
    {
     "name": "stderr",
     "output_type": "stream",
     "text": [
      "2025-06-04 23:38:41,897 [INFO] 🔍 Detecting objects in: frame_0017.jpg\n"
     ]
    },
    {
     "name": "stdout",
     "output_type": "stream",
     "text": [
      "\n",
      "image 1/1 C:\\Users\\rutik\\frames\\2025-05-28_13-40-09_UTC\\frame_0017.jpg: 640x384 1 person, 261.0ms\n",
      "Speed: 5.9ms preprocess, 261.0ms inference, 3.3ms postprocess per image at shape (1, 3, 640, 384)\n"
     ]
    },
    {
     "name": "stderr",
     "output_type": "stream",
     "text": [
      "2025-06-04 23:38:42,205 [INFO] 🔍 Detecting objects in: frame_0018.jpg\n"
     ]
    },
    {
     "name": "stdout",
     "output_type": "stream",
     "text": [
      "\n",
      "image 1/1 C:\\Users\\rutik\\frames\\2025-05-28_13-40-09_UTC\\frame_0018.jpg: 640x384 1 person, 230.8ms\n",
      "Speed: 3.5ms preprocess, 230.8ms inference, 3.0ms postprocess per image at shape (1, 3, 640, 384)\n"
     ]
    },
    {
     "name": "stderr",
     "output_type": "stream",
     "text": [
      "2025-06-04 23:38:42,481 [INFO] 🔍 Detecting objects in: frame_0019.jpg\n"
     ]
    },
    {
     "name": "stdout",
     "output_type": "stream",
     "text": [
      "\n",
      "image 1/1 C:\\Users\\rutik\\frames\\2025-05-28_13-40-09_UTC\\frame_0019.jpg: 640x384 1 person, 2 potted plants, 204.2ms\n",
      "Speed: 4.2ms preprocess, 204.2ms inference, 2.3ms postprocess per image at shape (1, 3, 640, 384)\n"
     ]
    },
    {
     "name": "stderr",
     "output_type": "stream",
     "text": [
      "2025-06-04 23:38:42,741 [INFO] 🔍 Detecting objects in: frame_0020.jpg\n"
     ]
    },
    {
     "name": "stdout",
     "output_type": "stream",
     "text": [
      "\n",
      "image 1/1 C:\\Users\\rutik\\frames\\2025-05-28_13-40-09_UTC\\frame_0020.jpg: 640x384 1 person, 2 potted plants, 239.6ms\n",
      "Speed: 4.1ms preprocess, 239.6ms inference, 3.4ms postprocess per image at shape (1, 3, 640, 384)\n"
     ]
    },
    {
     "name": "stderr",
     "output_type": "stream",
     "text": [
      "2025-06-04 23:38:43,033 [INFO] 🔍 Detecting objects in: frame_0021.jpg\n"
     ]
    },
    {
     "name": "stdout",
     "output_type": "stream",
     "text": [
      "\n",
      "image 1/1 C:\\Users\\rutik\\frames\\2025-05-28_13-40-09_UTC\\frame_0021.jpg: 640x384 1 person, 1 handbag, 2 potted plants, 257.8ms\n",
      "Speed: 5.1ms preprocess, 257.8ms inference, 8.2ms postprocess per image at shape (1, 3, 640, 384)\n"
     ]
    },
    {
     "name": "stderr",
     "output_type": "stream",
     "text": [
      "2025-06-04 23:38:43,354 [INFO] 🔍 Detecting objects in: frame_0022.jpg\n"
     ]
    },
    {
     "name": "stdout",
     "output_type": "stream",
     "text": [
      "\n",
      "image 1/1 C:\\Users\\rutik\\frames\\2025-05-28_13-40-09_UTC\\frame_0022.jpg: 640x384 1 person, 7 potted plants, 207.8ms\n",
      "Speed: 4.1ms preprocess, 207.8ms inference, 3.1ms postprocess per image at shape (1, 3, 640, 384)\n"
     ]
    },
    {
     "name": "stderr",
     "output_type": "stream",
     "text": [
      "2025-06-04 23:38:43,620 [INFO] 🔍 Detecting objects in: frame_0023.jpg\n"
     ]
    },
    {
     "name": "stdout",
     "output_type": "stream",
     "text": [
      "\n",
      "image 1/1 C:\\Users\\rutik\\frames\\2025-05-28_13-40-09_UTC\\frame_0023.jpg: 640x384 1 person, 6 potted plants, 276.2ms\n",
      "Speed: 4.4ms preprocess, 276.2ms inference, 3.4ms postprocess per image at shape (1, 3, 640, 384)\n"
     ]
    },
    {
     "name": "stderr",
     "output_type": "stream",
     "text": [
      "2025-06-04 23:38:43,950 [INFO] 🔍 Detecting objects in: frame_0024.jpg\n"
     ]
    },
    {
     "name": "stdout",
     "output_type": "stream",
     "text": [
      "\n",
      "image 1/1 C:\\Users\\rutik\\frames\\2025-05-28_13-40-09_UTC\\frame_0024.jpg: 640x384 1 person, 6 potted plants, 239.0ms\n",
      "Speed: 4.3ms preprocess, 239.0ms inference, 3.6ms postprocess per image at shape (1, 3, 640, 384)\n"
     ]
    },
    {
     "name": "stderr",
     "output_type": "stream",
     "text": [
      "2025-06-04 23:38:44,243 [INFO] 🔍 Detecting objects in: frame_0025.jpg\n"
     ]
    },
    {
     "name": "stdout",
     "output_type": "stream",
     "text": [
      "\n",
      "image 1/1 C:\\Users\\rutik\\frames\\2025-05-28_13-40-09_UTC\\frame_0025.jpg: 640x384 1 person, 1 potted plant, 190.8ms\n",
      "Speed: 4.1ms preprocess, 190.8ms inference, 3.0ms postprocess per image at shape (1, 3, 640, 384)\n"
     ]
    },
    {
     "name": "stderr",
     "output_type": "stream",
     "text": [
      "2025-06-04 23:38:44,483 [INFO] 🔍 Detecting objects in: frame_0026.jpg\n"
     ]
    },
    {
     "name": "stdout",
     "output_type": "stream",
     "text": [
      "\n",
      "image 1/1 C:\\Users\\rutik\\frames\\2025-05-28_13-40-09_UTC\\frame_0026.jpg: 640x384 1 person, 201.7ms\n",
      "Speed: 3.9ms preprocess, 201.7ms inference, 2.8ms postprocess per image at shape (1, 3, 640, 384)\n"
     ]
    },
    {
     "name": "stderr",
     "output_type": "stream",
     "text": [
      "2025-06-04 23:38:44,731 [INFO] 🔍 Detecting objects in: frame_0027.jpg\n"
     ]
    },
    {
     "name": "stdout",
     "output_type": "stream",
     "text": [
      "\n",
      "image 1/1 C:\\Users\\rutik\\frames\\2025-05-28_13-40-09_UTC\\frame_0027.jpg: 640x384 1 person, 5 potted plants, 271.3ms\n",
      "Speed: 4.9ms preprocess, 271.3ms inference, 6.1ms postprocess per image at shape (1, 3, 640, 384)\n"
     ]
    },
    {
     "name": "stderr",
     "output_type": "stream",
     "text": [
      "2025-06-04 23:38:45,056 [INFO] 🔍 Detecting objects in: frame_0028.jpg\n"
     ]
    },
    {
     "name": "stdout",
     "output_type": "stream",
     "text": [
      "\n",
      "image 1/1 C:\\Users\\rutik\\frames\\2025-05-28_13-40-09_UTC\\frame_0028.jpg: 640x384 1 person, 11 potted plants, 238.6ms\n",
      "Speed: 4.4ms preprocess, 238.6ms inference, 3.2ms postprocess per image at shape (1, 3, 640, 384)\n"
     ]
    },
    {
     "name": "stderr",
     "output_type": "stream",
     "text": [
      "2025-06-04 23:38:45,348 [INFO] 🔍 Detecting objects in: frame_0029.jpg\n"
     ]
    },
    {
     "name": "stdout",
     "output_type": "stream",
     "text": [
      "\n",
      "image 1/1 C:\\Users\\rutik\\frames\\2025-05-28_13-40-09_UTC\\frame_0029.jpg: 640x384 1 person, 2 potted plants, 285.9ms\n",
      "Speed: 4.1ms preprocess, 285.9ms inference, 3.7ms postprocess per image at shape (1, 3, 640, 384)\n"
     ]
    },
    {
     "name": "stderr",
     "output_type": "stream",
     "text": [
      "2025-06-04 23:38:45,688 [INFO] 🔍 Detecting objects in: frame_0030.jpg\n"
     ]
    },
    {
     "name": "stdout",
     "output_type": "stream",
     "text": [
      "\n",
      "image 1/1 C:\\Users\\rutik\\frames\\2025-05-28_13-40-09_UTC\\frame_0030.jpg: 640x384 1 person, 2 potted plants, 234.0ms\n",
      "Speed: 4.5ms preprocess, 234.0ms inference, 3.6ms postprocess per image at shape (1, 3, 640, 384)\n"
     ]
    },
    {
     "name": "stderr",
     "output_type": "stream",
     "text": [
      "2025-06-04 23:38:45,977 [INFO] 🔍 Detecting objects in: frame_0031.jpg\n"
     ]
    },
    {
     "name": "stdout",
     "output_type": "stream",
     "text": [
      "\n",
      "image 1/1 C:\\Users\\rutik\\frames\\2025-05-28_13-40-09_UTC\\frame_0031.jpg: 640x384 9 potted plants, 1 vase, 208.8ms\n",
      "Speed: 4.5ms preprocess, 208.8ms inference, 3.7ms postprocess per image at shape (1, 3, 640, 384)\n"
     ]
    },
    {
     "name": "stderr",
     "output_type": "stream",
     "text": [
      "2025-06-04 23:38:46,245 [INFO] 🔍 Detecting objects in: frame_0032.jpg\n"
     ]
    },
    {
     "name": "stdout",
     "output_type": "stream",
     "text": [
      "\n",
      "image 1/1 C:\\Users\\rutik\\frames\\2025-05-28_13-40-09_UTC\\frame_0032.jpg: 640x384 1 person, 1 handbag, 6 potted plants, 213.7ms\n",
      "Speed: 4.0ms preprocess, 213.7ms inference, 3.0ms postprocess per image at shape (1, 3, 640, 384)\n"
     ]
    },
    {
     "name": "stderr",
     "output_type": "stream",
     "text": [
      "2025-06-04 23:38:46,512 [INFO] 🔍 Detecting objects in: frame_0033.jpg\n"
     ]
    },
    {
     "name": "stdout",
     "output_type": "stream",
     "text": [
      "\n",
      "image 1/1 C:\\Users\\rutik\\frames\\2025-05-28_13-40-09_UTC\\frame_0033.jpg: 640x384 1 person, 5 potted plants, 205.7ms\n",
      "Speed: 4.1ms preprocess, 205.7ms inference, 3.0ms postprocess per image at shape (1, 3, 640, 384)\n"
     ]
    },
    {
     "name": "stderr",
     "output_type": "stream",
     "text": [
      "2025-06-04 23:38:46,767 [INFO] 🔍 Detecting objects in: frame_0034.jpg\n"
     ]
    },
    {
     "name": "stdout",
     "output_type": "stream",
     "text": [
      "\n",
      "image 1/1 C:\\Users\\rutik\\frames\\2025-05-28_13-40-09_UTC\\frame_0034.jpg: 640x384 1 person, 1 handbag, 5 potted plants, 220.8ms\n",
      "Speed: 2.7ms preprocess, 220.8ms inference, 2.8ms postprocess per image at shape (1, 3, 640, 384)\n"
     ]
    },
    {
     "name": "stderr",
     "output_type": "stream",
     "text": [
      "2025-06-04 23:38:47,036 [INFO] 🔍 Detecting objects in: frame_0035.jpg\n"
     ]
    },
    {
     "name": "stdout",
     "output_type": "stream",
     "text": [
      "\n",
      "image 1/1 C:\\Users\\rutik\\frames\\2025-05-28_13-40-09_UTC\\frame_0035.jpg: 640x384 1 person, 1 handbag, 5 potted plants, 220.6ms\n",
      "Speed: 4.1ms preprocess, 220.6ms inference, 3.0ms postprocess per image at shape (1, 3, 640, 384)\n"
     ]
    },
    {
     "name": "stderr",
     "output_type": "stream",
     "text": [
      "2025-06-04 23:38:47,310 [INFO] 🔍 Detecting objects in: frame_0036.jpg\n"
     ]
    },
    {
     "name": "stdout",
     "output_type": "stream",
     "text": [
      "\n",
      "image 1/1 C:\\Users\\rutik\\frames\\2025-05-28_13-40-09_UTC\\frame_0036.jpg: 640x384 1 person, 235.0ms\n",
      "Speed: 5.0ms preprocess, 235.0ms inference, 2.6ms postprocess per image at shape (1, 3, 640, 384)\n"
     ]
    },
    {
     "name": "stderr",
     "output_type": "stream",
     "text": [
      "2025-06-04 23:38:47,596 [INFO] 🔍 Detecting objects in: frame_0037.jpg\n"
     ]
    },
    {
     "name": "stdout",
     "output_type": "stream",
     "text": [
      "\n",
      "image 1/1 C:\\Users\\rutik\\frames\\2025-05-28_13-40-09_UTC\\frame_0037.jpg: 640x384 1 person, 314.6ms\n",
      "Speed: 4.0ms preprocess, 314.6ms inference, 3.2ms postprocess per image at shape (1, 3, 640, 384)\n"
     ]
    },
    {
     "name": "stderr",
     "output_type": "stream",
     "text": [
      "2025-06-04 23:38:47,959 [INFO] 🔍 Detecting objects in: frame_0038.jpg\n"
     ]
    },
    {
     "name": "stdout",
     "output_type": "stream",
     "text": [
      "\n",
      "image 1/1 C:\\Users\\rutik\\frames\\2025-05-28_13-40-09_UTC\\frame_0038.jpg: 640x384 1 person, 270.7ms\n",
      "Speed: 6.0ms preprocess, 270.7ms inference, 2.8ms postprocess per image at shape (1, 3, 640, 384)\n"
     ]
    },
    {
     "name": "stderr",
     "output_type": "stream",
     "text": [
      "2025-06-04 23:38:48,319 [INFO] ✅ Saved: outputs\\2025-05-28_13-40-09_UTC.json\n",
      "2025-06-04 23:38:48,321 [INFO] 📂 Running detection for: 2025-05-28_13-42-32_UTC\n",
      "2025-06-04 23:38:48,324 [INFO] 🔍 Detecting objects in: frame_0000.jpg\n"
     ]
    },
    {
     "name": "stdout",
     "output_type": "stream",
     "text": [
      "\n",
      "image 1/1 C:\\Users\\rutik\\frames\\2025-05-28_13-42-32_UTC\\frame_0000.jpg: 640x384 1 person, 1 chair, 1 potted plant, 1 clock, 1 vase, 273.6ms\n",
      "Speed: 3.5ms preprocess, 273.6ms inference, 4.2ms postprocess per image at shape (1, 3, 640, 384)\n"
     ]
    },
    {
     "name": "stderr",
     "output_type": "stream",
     "text": [
      "2025-06-04 23:38:48,670 [INFO] 🔍 Detecting objects in: frame_0001.jpg\n"
     ]
    },
    {
     "name": "stdout",
     "output_type": "stream",
     "text": [
      "\n",
      "image 1/1 C:\\Users\\rutik\\frames\\2025-05-28_13-42-32_UTC\\frame_0001.jpg: 640x384 1 person, 1 frisbee, 1 chair, 1 potted plant, 251.7ms\n",
      "Speed: 4.1ms preprocess, 251.7ms inference, 3.1ms postprocess per image at shape (1, 3, 640, 384)\n"
     ]
    },
    {
     "name": "stderr",
     "output_type": "stream",
     "text": [
      "2025-06-04 23:38:48,979 [INFO] 🔍 Detecting objects in: frame_0002.jpg\n"
     ]
    },
    {
     "name": "stdout",
     "output_type": "stream",
     "text": [
      "\n",
      "image 1/1 C:\\Users\\rutik\\frames\\2025-05-28_13-42-32_UTC\\frame_0002.jpg: 640x384 1 person, 1 chair, 1 potted plant, 1 refrigerator, 1 vase, 244.1ms\n",
      "Speed: 4.8ms preprocess, 244.1ms inference, 3.2ms postprocess per image at shape (1, 3, 640, 384)\n"
     ]
    },
    {
     "name": "stderr",
     "output_type": "stream",
     "text": [
      "2025-06-04 23:38:49,279 [INFO] 🔍 Detecting objects in: frame_0003.jpg\n"
     ]
    },
    {
     "name": "stdout",
     "output_type": "stream",
     "text": [
      "\n",
      "image 1/1 C:\\Users\\rutik\\frames\\2025-05-28_13-42-32_UTC\\frame_0003.jpg: 640x384 1 person, 1 chair, 1 potted plant, 2 vases, 222.1ms\n",
      "Speed: 4.5ms preprocess, 222.1ms inference, 3.1ms postprocess per image at shape (1, 3, 640, 384)\n"
     ]
    },
    {
     "name": "stderr",
     "output_type": "stream",
     "text": [
      "2025-06-04 23:38:49,554 [INFO] 🔍 Detecting objects in: frame_0004.jpg\n"
     ]
    },
    {
     "name": "stdout",
     "output_type": "stream",
     "text": [
      "\n",
      "image 1/1 C:\\Users\\rutik\\frames\\2025-05-28_13-42-32_UTC\\frame_0004.jpg: 640x384 1 person, 227.2ms\n",
      "Speed: 4.4ms preprocess, 227.2ms inference, 2.8ms postprocess per image at shape (1, 3, 640, 384)\n"
     ]
    },
    {
     "name": "stderr",
     "output_type": "stream",
     "text": [
      "2025-06-04 23:38:49,831 [INFO] 🔍 Detecting objects in: frame_0005.jpg\n"
     ]
    },
    {
     "name": "stdout",
     "output_type": "stream",
     "text": [
      "\n",
      "image 1/1 C:\\Users\\rutik\\frames\\2025-05-28_13-42-32_UTC\\frame_0005.jpg: 640x384 1 person, 264.0ms\n",
      "Speed: 4.8ms preprocess, 264.0ms inference, 3.5ms postprocess per image at shape (1, 3, 640, 384)\n"
     ]
    },
    {
     "name": "stderr",
     "output_type": "stream",
     "text": [
      "2025-06-04 23:38:50,144 [INFO] 🔍 Detecting objects in: frame_0006.jpg\n"
     ]
    },
    {
     "name": "stdout",
     "output_type": "stream",
     "text": [
      "\n",
      "image 1/1 C:\\Users\\rutik\\frames\\2025-05-28_13-42-32_UTC\\frame_0006.jpg: 640x384 1 person, 299.7ms\n",
      "Speed: 11.8ms preprocess, 299.7ms inference, 3.0ms postprocess per image at shape (1, 3, 640, 384)\n"
     ]
    },
    {
     "name": "stderr",
     "output_type": "stream",
     "text": [
      "2025-06-04 23:38:50,504 [INFO] 🔍 Detecting objects in: frame_0007.jpg\n"
     ]
    },
    {
     "name": "stdout",
     "output_type": "stream",
     "text": [
      "\n",
      "image 1/1 C:\\Users\\rutik\\frames\\2025-05-28_13-42-32_UTC\\frame_0007.jpg: 640x384 1 person, 237.9ms\n",
      "Speed: 4.4ms preprocess, 237.9ms inference, 2.9ms postprocess per image at shape (1, 3, 640, 384)\n"
     ]
    },
    {
     "name": "stderr",
     "output_type": "stream",
     "text": [
      "2025-06-04 23:38:50,795 [INFO] 🔍 Detecting objects in: frame_0008.jpg\n"
     ]
    },
    {
     "name": "stdout",
     "output_type": "stream",
     "text": [
      "\n",
      "image 1/1 C:\\Users\\rutik\\frames\\2025-05-28_13-42-32_UTC\\frame_0008.jpg: 640x384 1 person, 1 cup, 230.0ms\n",
      "Speed: 4.0ms preprocess, 230.0ms inference, 2.9ms postprocess per image at shape (1, 3, 640, 384)\n"
     ]
    },
    {
     "name": "stderr",
     "output_type": "stream",
     "text": [
      "2025-06-04 23:38:51,075 [INFO] 🔍 Detecting objects in: frame_0009.jpg\n"
     ]
    },
    {
     "name": "stdout",
     "output_type": "stream",
     "text": [
      "\n",
      "image 1/1 C:\\Users\\rutik\\frames\\2025-05-28_13-42-32_UTC\\frame_0009.jpg: 640x384 1 person, 1 cell phone, 244.8ms\n",
      "Speed: 4.2ms preprocess, 244.8ms inference, 3.0ms postprocess per image at shape (1, 3, 640, 384)\n"
     ]
    },
    {
     "name": "stderr",
     "output_type": "stream",
     "text": [
      "2025-06-04 23:38:51,370 [INFO] 🔍 Detecting objects in: frame_0010.jpg\n"
     ]
    },
    {
     "name": "stdout",
     "output_type": "stream",
     "text": [
      "\n",
      "image 1/1 C:\\Users\\rutik\\frames\\2025-05-28_13-42-32_UTC\\frame_0010.jpg: 640x384 1 person, 189.0ms\n",
      "Speed: 3.5ms preprocess, 189.0ms inference, 2.9ms postprocess per image at shape (1, 3, 640, 384)\n"
     ]
    },
    {
     "name": "stderr",
     "output_type": "stream",
     "text": [
      "2025-06-04 23:38:51,607 [INFO] 🔍 Detecting objects in: frame_0011.jpg\n"
     ]
    },
    {
     "name": "stdout",
     "output_type": "stream",
     "text": [
      "\n",
      "image 1/1 C:\\Users\\rutik\\frames\\2025-05-28_13-42-32_UTC\\frame_0011.jpg: 640x384 1 person, 1 cell phone, 186.5ms\n",
      "Speed: 3.9ms preprocess, 186.5ms inference, 2.8ms postprocess per image at shape (1, 3, 640, 384)\n"
     ]
    },
    {
     "name": "stderr",
     "output_type": "stream",
     "text": [
      "2025-06-04 23:38:51,840 [INFO] 🔍 Detecting objects in: frame_0012.jpg\n"
     ]
    },
    {
     "name": "stdout",
     "output_type": "stream",
     "text": [
      "\n",
      "image 1/1 C:\\Users\\rutik\\frames\\2025-05-28_13-42-32_UTC\\frame_0012.jpg: 640x384 1 person, 1 cell phone, 190.2ms\n",
      "Speed: 4.0ms preprocess, 190.2ms inference, 2.9ms postprocess per image at shape (1, 3, 640, 384)\n"
     ]
    },
    {
     "name": "stderr",
     "output_type": "stream",
     "text": [
      "2025-06-04 23:38:52,076 [INFO] 🔍 Detecting objects in: frame_0013.jpg\n"
     ]
    },
    {
     "name": "stdout",
     "output_type": "stream",
     "text": [
      "\n",
      "image 1/1 C:\\Users\\rutik\\frames\\2025-05-28_13-42-32_UTC\\frame_0013.jpg: 640x384 1 person, 1 cell phone, 183.8ms\n",
      "Speed: 3.8ms preprocess, 183.8ms inference, 1.8ms postprocess per image at shape (1, 3, 640, 384)\n"
     ]
    },
    {
     "name": "stderr",
     "output_type": "stream",
     "text": [
      "2025-06-04 23:38:52,305 [INFO] 🔍 Detecting objects in: frame_0014.jpg\n"
     ]
    },
    {
     "name": "stdout",
     "output_type": "stream",
     "text": [
      "\n",
      "image 1/1 C:\\Users\\rutik\\frames\\2025-05-28_13-42-32_UTC\\frame_0014.jpg: 640x384 1 person, 1 cell phone, 218.1ms\n",
      "Speed: 4.5ms preprocess, 218.1ms inference, 3.3ms postprocess per image at shape (1, 3, 640, 384)\n"
     ]
    },
    {
     "name": "stderr",
     "output_type": "stream",
     "text": [
      "2025-06-04 23:38:52,577 [INFO] 🔍 Detecting objects in: frame_0015.jpg\n"
     ]
    },
    {
     "name": "stdout",
     "output_type": "stream",
     "text": [
      "\n",
      "image 1/1 C:\\Users\\rutik\\frames\\2025-05-28_13-42-32_UTC\\frame_0015.jpg: 640x384 1 person, 201.1ms\n",
      "Speed: 4.5ms preprocess, 201.1ms inference, 2.9ms postprocess per image at shape (1, 3, 640, 384)\n"
     ]
    },
    {
     "name": "stderr",
     "output_type": "stream",
     "text": [
      "2025-06-04 23:38:52,827 [INFO] 🔍 Detecting objects in: frame_0016.jpg\n"
     ]
    },
    {
     "name": "stdout",
     "output_type": "stream",
     "text": [
      "\n",
      "image 1/1 C:\\Users\\rutik\\frames\\2025-05-28_13-42-32_UTC\\frame_0016.jpg: 640x384 1 person, 178.3ms\n",
      "Speed: 3.7ms preprocess, 178.3ms inference, 2.9ms postprocess per image at shape (1, 3, 640, 384)\n"
     ]
    },
    {
     "name": "stderr",
     "output_type": "stream",
     "text": [
      "2025-06-04 23:38:53,052 [INFO] 🔍 Detecting objects in: frame_0017.jpg\n"
     ]
    },
    {
     "name": "stdout",
     "output_type": "stream",
     "text": [
      "\n",
      "image 1/1 C:\\Users\\rutik\\frames\\2025-05-28_13-42-32_UTC\\frame_0017.jpg: 640x384 1 person, 219.0ms\n",
      "Speed: 4.2ms preprocess, 219.0ms inference, 3.2ms postprocess per image at shape (1, 3, 640, 384)\n"
     ]
    },
    {
     "name": "stderr",
     "output_type": "stream",
     "text": [
      "2025-06-04 23:38:53,323 [INFO] 🔍 Detecting objects in: frame_0018.jpg\n"
     ]
    },
    {
     "name": "stdout",
     "output_type": "stream",
     "text": [
      "\n",
      "image 1/1 C:\\Users\\rutik\\frames\\2025-05-28_13-42-32_UTC\\frame_0018.jpg: 640x384 1 person, 1 cup, 225.6ms\n",
      "Speed: 4.2ms preprocess, 225.6ms inference, 2.8ms postprocess per image at shape (1, 3, 640, 384)\n"
     ]
    },
    {
     "name": "stderr",
     "output_type": "stream",
     "text": [
      "2025-06-04 23:38:53,597 [INFO] 🔍 Detecting objects in: frame_0019.jpg\n"
     ]
    },
    {
     "name": "stdout",
     "output_type": "stream",
     "text": [
      "\n",
      "image 1/1 C:\\Users\\rutik\\frames\\2025-05-28_13-42-32_UTC\\frame_0019.jpg: 640x384 1 person, 1 vase, 213.2ms\n",
      "Speed: 4.1ms preprocess, 213.2ms inference, 2.8ms postprocess per image at shape (1, 3, 640, 384)\n"
     ]
    },
    {
     "name": "stderr",
     "output_type": "stream",
     "text": [
      "2025-06-04 23:38:53,861 [INFO] 🔍 Detecting objects in: frame_0020.jpg\n"
     ]
    },
    {
     "name": "stdout",
     "output_type": "stream",
     "text": [
      "\n",
      "image 1/1 C:\\Users\\rutik\\frames\\2025-05-28_13-42-32_UTC\\frame_0020.jpg: 640x384 1 person, 229.9ms\n",
      "Speed: 3.9ms preprocess, 229.9ms inference, 3.5ms postprocess per image at shape (1, 3, 640, 384)\n"
     ]
    },
    {
     "name": "stderr",
     "output_type": "stream",
     "text": [
      "2025-06-04 23:38:54,138 [INFO] 🔍 Detecting objects in: frame_0021.jpg\n"
     ]
    },
    {
     "name": "stdout",
     "output_type": "stream",
     "text": [
      "\n",
      "image 1/1 C:\\Users\\rutik\\frames\\2025-05-28_13-42-32_UTC\\frame_0021.jpg: 640x384 1 person, 1 vase, 277.3ms\n",
      "Speed: 4.3ms preprocess, 277.3ms inference, 2.7ms postprocess per image at shape (1, 3, 640, 384)\n"
     ]
    },
    {
     "name": "stderr",
     "output_type": "stream",
     "text": [
      "2025-06-04 23:38:54,466 [INFO] 🔍 Detecting objects in: frame_0022.jpg\n"
     ]
    },
    {
     "name": "stdout",
     "output_type": "stream",
     "text": [
      "\n",
      "image 1/1 C:\\Users\\rutik\\frames\\2025-05-28_13-42-32_UTC\\frame_0022.jpg: 640x384 1 person, 1 skateboard, 1 chair, 1 dining table, 257.3ms\n",
      "Speed: 3.9ms preprocess, 257.3ms inference, 2.9ms postprocess per image at shape (1, 3, 640, 384)\n"
     ]
    },
    {
     "name": "stderr",
     "output_type": "stream",
     "text": [
      "2025-06-04 23:38:54,779 [INFO] 🔍 Detecting objects in: frame_0023.jpg\n"
     ]
    },
    {
     "name": "stdout",
     "output_type": "stream",
     "text": [
      "\n",
      "image 1/1 C:\\Users\\rutik\\frames\\2025-05-28_13-42-32_UTC\\frame_0023.jpg: 640x384 1 person, 226.6ms\n",
      "Speed: 4.4ms preprocess, 226.6ms inference, 3.0ms postprocess per image at shape (1, 3, 640, 384)\n"
     ]
    },
    {
     "name": "stderr",
     "output_type": "stream",
     "text": [
      "2025-06-04 23:38:55,057 [INFO] 🔍 Detecting objects in: frame_0024.jpg\n"
     ]
    },
    {
     "name": "stdout",
     "output_type": "stream",
     "text": [
      "\n",
      "image 1/1 C:\\Users\\rutik\\frames\\2025-05-28_13-42-32_UTC\\frame_0024.jpg: 640x384 1 person, 1 cup, 220.9ms\n",
      "Speed: 4.1ms preprocess, 220.9ms inference, 3.4ms postprocess per image at shape (1, 3, 640, 384)\n"
     ]
    },
    {
     "name": "stderr",
     "output_type": "stream",
     "text": [
      "2025-06-04 23:38:55,328 [INFO] 🔍 Detecting objects in: frame_0025.jpg\n"
     ]
    },
    {
     "name": "stdout",
     "output_type": "stream",
     "text": [
      "\n",
      "image 1/1 C:\\Users\\rutik\\frames\\2025-05-28_13-42-32_UTC\\frame_0025.jpg: 640x384 1 person, 227.8ms\n",
      "Speed: 4.9ms preprocess, 227.8ms inference, 3.1ms postprocess per image at shape (1, 3, 640, 384)\n"
     ]
    },
    {
     "name": "stderr",
     "output_type": "stream",
     "text": [
      "2025-06-04 23:38:55,605 [INFO] 🔍 Detecting objects in: frame_0026.jpg\n"
     ]
    },
    {
     "name": "stdout",
     "output_type": "stream",
     "text": [
      "\n",
      "image 1/1 C:\\Users\\rutik\\frames\\2025-05-28_13-42-32_UTC\\frame_0026.jpg: 640x384 1 person, 219.7ms\n",
      "Speed: 3.8ms preprocess, 219.7ms inference, 3.0ms postprocess per image at shape (1, 3, 640, 384)\n"
     ]
    },
    {
     "name": "stderr",
     "output_type": "stream",
     "text": [
      "2025-06-04 23:38:55,875 [INFO] 🔍 Detecting objects in: frame_0027.jpg\n"
     ]
    },
    {
     "name": "stdout",
     "output_type": "stream",
     "text": [
      "\n",
      "image 1/1 C:\\Users\\rutik\\frames\\2025-05-28_13-42-32_UTC\\frame_0027.jpg: 640x384 1 person, 241.4ms\n",
      "Speed: 4.2ms preprocess, 241.4ms inference, 3.0ms postprocess per image at shape (1, 3, 640, 384)\n"
     ]
    },
    {
     "name": "stderr",
     "output_type": "stream",
     "text": [
      "2025-06-04 23:38:56,165 [INFO] 🔍 Detecting objects in: frame_0028.jpg\n"
     ]
    },
    {
     "name": "stdout",
     "output_type": "stream",
     "text": [
      "\n",
      "image 1/1 C:\\Users\\rutik\\frames\\2025-05-28_13-42-32_UTC\\frame_0028.jpg: 640x384 1 person, 1 toothbrush, 209.0ms\n",
      "Speed: 4.3ms preprocess, 209.0ms inference, 2.7ms postprocess per image at shape (1, 3, 640, 384)\n"
     ]
    },
    {
     "name": "stderr",
     "output_type": "stream",
     "text": [
      "2025-06-04 23:38:56,426 [INFO] 🔍 Detecting objects in: frame_0029.jpg\n"
     ]
    },
    {
     "name": "stdout",
     "output_type": "stream",
     "text": [
      "\n",
      "image 1/1 C:\\Users\\rutik\\frames\\2025-05-28_13-42-32_UTC\\frame_0029.jpg: 640x384 1 person, 1 potted plant, 213.6ms\n",
      "Speed: 4.4ms preprocess, 213.6ms inference, 2.3ms postprocess per image at shape (1, 3, 640, 384)\n"
     ]
    },
    {
     "name": "stderr",
     "output_type": "stream",
     "text": [
      "2025-06-04 23:38:56,693 [INFO] 🔍 Detecting objects in: frame_0030.jpg\n"
     ]
    },
    {
     "name": "stdout",
     "output_type": "stream",
     "text": [
      "\n",
      "image 1/1 C:\\Users\\rutik\\frames\\2025-05-28_13-42-32_UTC\\frame_0030.jpg: 640x384 1 person, 2 potted plants, 218.2ms\n",
      "Speed: 3.7ms preprocess, 218.2ms inference, 3.4ms postprocess per image at shape (1, 3, 640, 384)\n"
     ]
    },
    {
     "name": "stderr",
     "output_type": "stream",
     "text": [
      "2025-06-04 23:38:56,964 [INFO] 🔍 Detecting objects in: frame_0031.jpg\n"
     ]
    },
    {
     "name": "stdout",
     "output_type": "stream",
     "text": [
      "\n",
      "image 1/1 C:\\Users\\rutik\\frames\\2025-05-28_13-42-32_UTC\\frame_0031.jpg: 640x384 1 person, 2 potted plants, 217.5ms\n",
      "Speed: 3.9ms preprocess, 217.5ms inference, 2.9ms postprocess per image at shape (1, 3, 640, 384)\n"
     ]
    },
    {
     "name": "stderr",
     "output_type": "stream",
     "text": [
      "2025-06-04 23:38:57,236 [INFO] 🔍 Detecting objects in: frame_0032.jpg\n"
     ]
    },
    {
     "name": "stdout",
     "output_type": "stream",
     "text": [
      "\n",
      "image 1/1 C:\\Users\\rutik\\frames\\2025-05-28_13-42-32_UTC\\frame_0032.jpg: 640x384 1 person, 3 potted plants, 212.6ms\n",
      "Speed: 4.7ms preprocess, 212.6ms inference, 3.0ms postprocess per image at shape (1, 3, 640, 384)\n"
     ]
    },
    {
     "name": "stderr",
     "output_type": "stream",
     "text": [
      "2025-06-04 23:38:57,502 [INFO] 🔍 Detecting objects in: frame_0033.jpg\n"
     ]
    },
    {
     "name": "stdout",
     "output_type": "stream",
     "text": [
      "\n",
      "image 1/1 C:\\Users\\rutik\\frames\\2025-05-28_13-42-32_UTC\\frame_0033.jpg: 640x384 1 person, 2 potted plants, 253.6ms\n",
      "Speed: 3.7ms preprocess, 253.6ms inference, 3.3ms postprocess per image at shape (1, 3, 640, 384)\n"
     ]
    },
    {
     "name": "stderr",
     "output_type": "stream",
     "text": [
      "2025-06-04 23:38:57,807 [INFO] 🔍 Detecting objects in: frame_0034.jpg\n"
     ]
    },
    {
     "name": "stdout",
     "output_type": "stream",
     "text": [
      "\n",
      "image 1/1 C:\\Users\\rutik\\frames\\2025-05-28_13-42-32_UTC\\frame_0034.jpg: 640x384 1 person, 1 potted plant, 248.0ms\n",
      "Speed: 4.5ms preprocess, 248.0ms inference, 3.3ms postprocess per image at shape (1, 3, 640, 384)\n"
     ]
    },
    {
     "name": "stderr",
     "output_type": "stream",
     "text": [
      "2025-06-04 23:38:58,112 [INFO] 🔍 Detecting objects in: frame_0035.jpg\n"
     ]
    },
    {
     "name": "stdout",
     "output_type": "stream",
     "text": [
      "\n",
      "image 1/1 C:\\Users\\rutik\\frames\\2025-05-28_13-42-32_UTC\\frame_0035.jpg: 640x384 1 person, 2 potted plants, 233.6ms\n",
      "Speed: 4.1ms preprocess, 233.6ms inference, 3.1ms postprocess per image at shape (1, 3, 640, 384)\n"
     ]
    },
    {
     "name": "stderr",
     "output_type": "stream",
     "text": [
      "2025-06-04 23:38:58,401 [INFO] 🔍 Detecting objects in: frame_0036.jpg\n"
     ]
    },
    {
     "name": "stdout",
     "output_type": "stream",
     "text": [
      "\n",
      "image 1/1 C:\\Users\\rutik\\frames\\2025-05-28_13-42-32_UTC\\frame_0036.jpg: 640x384 1 person, 1 potted plant, 228.9ms\n",
      "Speed: 3.8ms preprocess, 228.9ms inference, 2.9ms postprocess per image at shape (1, 3, 640, 384)\n"
     ]
    },
    {
     "name": "stderr",
     "output_type": "stream",
     "text": [
      "2025-06-04 23:38:58,685 [INFO] 🔍 Detecting objects in: frame_0037.jpg\n"
     ]
    },
    {
     "name": "stdout",
     "output_type": "stream",
     "text": [
      "\n",
      "image 1/1 C:\\Users\\rutik\\frames\\2025-05-28_13-42-32_UTC\\frame_0037.jpg: 640x384 1 person, 1 bowl, 211.7ms\n",
      "Speed: 3.7ms preprocess, 211.7ms inference, 2.7ms postprocess per image at shape (1, 3, 640, 384)\n"
     ]
    },
    {
     "name": "stderr",
     "output_type": "stream",
     "text": [
      "2025-06-04 23:38:58,944 [INFO] 🔍 Detecting objects in: frame_0038.jpg\n"
     ]
    },
    {
     "name": "stdout",
     "output_type": "stream",
     "text": [
      "\n",
      "image 1/1 C:\\Users\\rutik\\frames\\2025-05-28_13-42-32_UTC\\frame_0038.jpg: 640x384 7 persons, 1 wine glass, 2 bowls, 251.6ms\n",
      "Speed: 4.4ms preprocess, 251.6ms inference, 3.3ms postprocess per image at shape (1, 3, 640, 384)\n"
     ]
    },
    {
     "name": "stderr",
     "output_type": "stream",
     "text": [
      "2025-06-04 23:38:59,250 [INFO] 🔍 Detecting objects in: frame_0039.jpg\n"
     ]
    },
    {
     "name": "stdout",
     "output_type": "stream",
     "text": [
      "\n",
      "image 1/1 C:\\Users\\rutik\\frames\\2025-05-28_13-42-32_UTC\\frame_0039.jpg: 640x384 1 person, 2 potted plants, 268.5ms\n",
      "Speed: 5.4ms preprocess, 268.5ms inference, 3.0ms postprocess per image at shape (1, 3, 640, 384)\n"
     ]
    },
    {
     "name": "stderr",
     "output_type": "stream",
     "text": [
      "2025-06-04 23:38:59,574 [INFO] 🔍 Detecting objects in: frame_0040.jpg\n"
     ]
    },
    {
     "name": "stdout",
     "output_type": "stream",
     "text": [
      "\n",
      "image 1/1 C:\\Users\\rutik\\frames\\2025-05-28_13-42-32_UTC\\frame_0040.jpg: 640x384 1 person, 2 potted plants, 233.6ms\n",
      "Speed: 4.0ms preprocess, 233.6ms inference, 3.4ms postprocess per image at shape (1, 3, 640, 384)\n"
     ]
    },
    {
     "name": "stderr",
     "output_type": "stream",
     "text": [
      "2025-06-04 23:38:59,860 [INFO] 🔍 Detecting objects in: frame_0041.jpg\n"
     ]
    },
    {
     "name": "stdout",
     "output_type": "stream",
     "text": [
      "\n",
      "image 1/1 C:\\Users\\rutik\\frames\\2025-05-28_13-42-32_UTC\\frame_0041.jpg: 640x384 5 persons, 1 cup, 7 chairs, 1 potted plant, 2 dining tables, 244.4ms\n",
      "Speed: 4.4ms preprocess, 244.4ms inference, 6.7ms postprocess per image at shape (1, 3, 640, 384)\n"
     ]
    },
    {
     "name": "stderr",
     "output_type": "stream",
     "text": [
      "2025-06-04 23:39:00,164 [INFO] 🔍 Detecting objects in: frame_0042.jpg\n"
     ]
    },
    {
     "name": "stdout",
     "output_type": "stream",
     "text": [
      "\n",
      "image 1/1 C:\\Users\\rutik\\frames\\2025-05-28_13-42-32_UTC\\frame_0042.jpg: 640x384 1 person, 301.3ms\n",
      "Speed: 4.7ms preprocess, 301.3ms inference, 2.9ms postprocess per image at shape (1, 3, 640, 384)\n"
     ]
    },
    {
     "name": "stderr",
     "output_type": "stream",
     "text": [
      "2025-06-04 23:39:00,523 [INFO] 🔍 Detecting objects in: frame_0043.jpg\n"
     ]
    },
    {
     "name": "stdout",
     "output_type": "stream",
     "text": [
      "\n",
      "image 1/1 C:\\Users\\rutik\\frames\\2025-05-28_13-42-32_UTC\\frame_0043.jpg: 640x384 2 persons, 1 potted plant, 233.0ms\n",
      "Speed: 4.2ms preprocess, 233.0ms inference, 2.9ms postprocess per image at shape (1, 3, 640, 384)\n"
     ]
    },
    {
     "name": "stderr",
     "output_type": "stream",
     "text": [
      "2025-06-04 23:39:00,814 [INFO] 🔍 Detecting objects in: frame_0044.jpg\n"
     ]
    },
    {
     "name": "stdout",
     "output_type": "stream",
     "text": [
      "\n",
      "image 1/1 C:\\Users\\rutik\\frames\\2025-05-28_13-42-32_UTC\\frame_0044.jpg: 640x384 2 persons, 1 potted plant, 217.4ms\n",
      "Speed: 3.8ms preprocess, 217.4ms inference, 3.8ms postprocess per image at shape (1, 3, 640, 384)\n"
     ]
    },
    {
     "name": "stderr",
     "output_type": "stream",
     "text": [
      "2025-06-04 23:39:01,083 [INFO] 🔍 Detecting objects in: frame_0045.jpg\n"
     ]
    },
    {
     "name": "stdout",
     "output_type": "stream",
     "text": [
      "\n",
      "image 1/1 C:\\Users\\rutik\\frames\\2025-05-28_13-42-32_UTC\\frame_0045.jpg: 640x384 1 person, 1 potted plant, 239.4ms\n",
      "Speed: 4.0ms preprocess, 239.4ms inference, 2.8ms postprocess per image at shape (1, 3, 640, 384)\n"
     ]
    },
    {
     "name": "stderr",
     "output_type": "stream",
     "text": [
      "2025-06-04 23:39:01,381 [INFO] 🔍 Detecting objects in: frame_0046.jpg\n"
     ]
    },
    {
     "name": "stdout",
     "output_type": "stream",
     "text": [
      "\n",
      "image 1/1 C:\\Users\\rutik\\frames\\2025-05-28_13-42-32_UTC\\frame_0046.jpg: 640x384 1 person, 1 bowl, 1 potted plant, 231.8ms\n",
      "Speed: 3.5ms preprocess, 231.8ms inference, 3.2ms postprocess per image at shape (1, 3, 640, 384)\n"
     ]
    },
    {
     "name": "stderr",
     "output_type": "stream",
     "text": [
      "2025-06-04 23:39:01,668 [INFO] 🔍 Detecting objects in: frame_0047.jpg\n"
     ]
    },
    {
     "name": "stdout",
     "output_type": "stream",
     "text": [
      "\n",
      "image 1/1 C:\\Users\\rutik\\frames\\2025-05-28_13-42-32_UTC\\frame_0047.jpg: 640x384 1 person, 1 potted plant, 233.7ms\n",
      "Speed: 4.5ms preprocess, 233.7ms inference, 3.3ms postprocess per image at shape (1, 3, 640, 384)\n"
     ]
    },
    {
     "name": "stderr",
     "output_type": "stream",
     "text": [
      "2025-06-04 23:39:01,954 [INFO] 🔍 Detecting objects in: frame_0048.jpg\n"
     ]
    },
    {
     "name": "stdout",
     "output_type": "stream",
     "text": [
      "\n",
      "image 1/1 C:\\Users\\rutik\\frames\\2025-05-28_13-42-32_UTC\\frame_0048.jpg: 640x384 1 person, 2 potted plants, 238.8ms\n",
      "Speed: 4.3ms preprocess, 238.8ms inference, 3.1ms postprocess per image at shape (1, 3, 640, 384)\n"
     ]
    },
    {
     "name": "stderr",
     "output_type": "stream",
     "text": [
      "2025-06-04 23:39:02,247 [INFO] 🔍 Detecting objects in: frame_0049.jpg\n"
     ]
    },
    {
     "name": "stdout",
     "output_type": "stream",
     "text": [
      "\n",
      "image 1/1 C:\\Users\\rutik\\frames\\2025-05-28_13-42-32_UTC\\frame_0049.jpg: 640x384 2 persons, 3 potted plants, 218.3ms\n",
      "Speed: 3.8ms preprocess, 218.3ms inference, 2.8ms postprocess per image at shape (1, 3, 640, 384)\n"
     ]
    },
    {
     "name": "stderr",
     "output_type": "stream",
     "text": [
      "2025-06-04 23:39:02,522 [INFO] 🔍 Detecting objects in: frame_0050.jpg\n"
     ]
    },
    {
     "name": "stdout",
     "output_type": "stream",
     "text": [
      "\n",
      "image 1/1 C:\\Users\\rutik\\frames\\2025-05-28_13-42-32_UTC\\frame_0050.jpg: 640x384 1 person, 1 potted plant, 202.3ms\n",
      "Speed: 4.1ms preprocess, 202.3ms inference, 2.7ms postprocess per image at shape (1, 3, 640, 384)\n"
     ]
    },
    {
     "name": "stderr",
     "output_type": "stream",
     "text": [
      "2025-06-04 23:39:02,784 [INFO] ✅ Saved: outputs\\2025-05-28_13-42-32_UTC.json\n",
      "2025-06-04 23:39:02,785 [INFO] 📂 Running detection for: 2025-05-31_14-01-37_UTC\n",
      "2025-06-04 23:39:02,787 [INFO] 🔍 Detecting objects in: frame_0000.jpg\n"
     ]
    },
    {
     "name": "stdout",
     "output_type": "stream",
     "text": [
      "\n",
      "image 1/1 C:\\Users\\rutik\\frames\\2025-05-31_14-01-37_UTC\\frame_0000.jpg: 640x384 1 person, 1 potted plant, 242.8ms\n",
      "Speed: 4.0ms preprocess, 242.8ms inference, 3.6ms postprocess per image at shape (1, 3, 640, 384)\n"
     ]
    },
    {
     "name": "stderr",
     "output_type": "stream",
     "text": [
      "2025-06-04 23:39:03,077 [INFO] 🔍 Detecting objects in: frame_0001.jpg\n"
     ]
    },
    {
     "name": "stdout",
     "output_type": "stream",
     "text": [
      "\n",
      "image 1/1 C:\\Users\\rutik\\frames\\2025-05-31_14-01-37_UTC\\frame_0001.jpg: 640x384 1 person, 220.2ms\n",
      "Speed: 4.1ms preprocess, 220.2ms inference, 2.2ms postprocess per image at shape (1, 3, 640, 384)\n"
     ]
    },
    {
     "name": "stderr",
     "output_type": "stream",
     "text": [
      "2025-06-04 23:39:03,346 [INFO] 🔍 Detecting objects in: frame_0002.jpg\n"
     ]
    },
    {
     "name": "stdout",
     "output_type": "stream",
     "text": [
      "\n",
      "image 1/1 C:\\Users\\rutik\\frames\\2025-05-31_14-01-37_UTC\\frame_0002.jpg: 640x384 1 person, 1 bed, 221.4ms\n",
      "Speed: 4.1ms preprocess, 221.4ms inference, 3.2ms postprocess per image at shape (1, 3, 640, 384)\n"
     ]
    },
    {
     "name": "stderr",
     "output_type": "stream",
     "text": [
      "2025-06-04 23:39:03,618 [INFO] 🔍 Detecting objects in: frame_0003.jpg\n"
     ]
    },
    {
     "name": "stdout",
     "output_type": "stream",
     "text": [
      "\n",
      "image 1/1 C:\\Users\\rutik\\frames\\2025-05-31_14-01-37_UTC\\frame_0003.jpg: 640x384 1 person, 242.5ms\n",
      "Speed: 4.6ms preprocess, 242.5ms inference, 2.9ms postprocess per image at shape (1, 3, 640, 384)\n"
     ]
    },
    {
     "name": "stderr",
     "output_type": "stream",
     "text": [
      "2025-06-04 23:39:03,909 [INFO] 🔍 Detecting objects in: frame_0004.jpg\n"
     ]
    },
    {
     "name": "stdout",
     "output_type": "stream",
     "text": [
      "\n",
      "image 1/1 C:\\Users\\rutik\\frames\\2025-05-31_14-01-37_UTC\\frame_0004.jpg: 640x384 1 person, 218.4ms\n",
      "Speed: 4.1ms preprocess, 218.4ms inference, 2.8ms postprocess per image at shape (1, 3, 640, 384)\n"
     ]
    },
    {
     "name": "stderr",
     "output_type": "stream",
     "text": [
      "2025-06-04 23:39:04,179 [INFO] 🔍 Detecting objects in: frame_0005.jpg\n"
     ]
    },
    {
     "name": "stdout",
     "output_type": "stream",
     "text": [
      "\n",
      "image 1/1 C:\\Users\\rutik\\frames\\2025-05-31_14-01-37_UTC\\frame_0005.jpg: 640x384 1 person, 1 potted plant, 272.0ms\n",
      "Speed: 4.6ms preprocess, 272.0ms inference, 2.9ms postprocess per image at shape (1, 3, 640, 384)\n"
     ]
    },
    {
     "name": "stderr",
     "output_type": "stream",
     "text": [
      "2025-06-04 23:39:04,501 [INFO] 🔍 Detecting objects in: frame_0006.jpg\n"
     ]
    },
    {
     "name": "stdout",
     "output_type": "stream",
     "text": [
      "\n",
      "image 1/1 C:\\Users\\rutik\\frames\\2025-05-31_14-01-37_UTC\\frame_0006.jpg: 640x384 1 person, 214.9ms\n",
      "Speed: 4.1ms preprocess, 214.9ms inference, 2.8ms postprocess per image at shape (1, 3, 640, 384)\n"
     ]
    },
    {
     "name": "stderr",
     "output_type": "stream",
     "text": [
      "2025-06-04 23:39:04,769 [INFO] 🔍 Detecting objects in: frame_0007.jpg\n"
     ]
    },
    {
     "name": "stdout",
     "output_type": "stream",
     "text": [
      "\n",
      "image 1/1 C:\\Users\\rutik\\frames\\2025-05-31_14-01-37_UTC\\frame_0007.jpg: 640x384 1 person, 234.9ms\n",
      "Speed: 4.9ms preprocess, 234.9ms inference, 3.0ms postprocess per image at shape (1, 3, 640, 384)\n"
     ]
    },
    {
     "name": "stderr",
     "output_type": "stream",
     "text": [
      "2025-06-04 23:39:05,056 [INFO] 🔍 Detecting objects in: frame_0008.jpg\n"
     ]
    },
    {
     "name": "stdout",
     "output_type": "stream",
     "text": [
      "\n",
      "image 1/1 C:\\Users\\rutik\\frames\\2025-05-31_14-01-37_UTC\\frame_0008.jpg: 640x384 1 person, 212.8ms\n",
      "Speed: 4.1ms preprocess, 212.8ms inference, 2.4ms postprocess per image at shape (1, 3, 640, 384)\n"
     ]
    },
    {
     "name": "stderr",
     "output_type": "stream",
     "text": [
      "2025-06-04 23:39:05,318 [INFO] 🔍 Detecting objects in: frame_0009.jpg\n"
     ]
    },
    {
     "name": "stdout",
     "output_type": "stream",
     "text": [
      "\n",
      "image 1/1 C:\\Users\\rutik\\frames\\2025-05-31_14-01-37_UTC\\frame_0009.jpg: 640x384 1 person, 355.9ms\n",
      "Speed: 6.2ms preprocess, 355.9ms inference, 3.3ms postprocess per image at shape (1, 3, 640, 384)\n"
     ]
    },
    {
     "name": "stderr",
     "output_type": "stream",
     "text": [
      "2025-06-04 23:39:05,756 [INFO] 🔍 Detecting objects in: frame_0010.jpg\n"
     ]
    },
    {
     "name": "stdout",
     "output_type": "stream",
     "text": [
      "\n",
      "image 1/1 C:\\Users\\rutik\\frames\\2025-05-31_14-01-37_UTC\\frame_0010.jpg: 640x384 1 person, 295.3ms\n",
      "Speed: 4.8ms preprocess, 295.3ms inference, 3.1ms postprocess per image at shape (1, 3, 640, 384)\n"
     ]
    },
    {
     "name": "stderr",
     "output_type": "stream",
     "text": [
      "2025-06-04 23:39:06,111 [INFO] 🔍 Detecting objects in: frame_0011.jpg\n"
     ]
    },
    {
     "name": "stdout",
     "output_type": "stream",
     "text": [
      "\n",
      "image 1/1 C:\\Users\\rutik\\frames\\2025-05-31_14-01-37_UTC\\frame_0011.jpg: 640x384 1 person, 289.4ms\n",
      "Speed: 4.6ms preprocess, 289.4ms inference, 9.5ms postprocess per image at shape (1, 3, 640, 384)\n"
     ]
    },
    {
     "name": "stderr",
     "output_type": "stream",
     "text": [
      "2025-06-04 23:39:06,472 [INFO] 🔍 Detecting objects in: frame_0012.jpg\n"
     ]
    },
    {
     "name": "stdout",
     "output_type": "stream",
     "text": [
      "\n",
      "image 1/1 C:\\Users\\rutik\\frames\\2025-05-31_14-01-37_UTC\\frame_0012.jpg: 640x384 1 person, 233.0ms\n",
      "Speed: 4.5ms preprocess, 233.0ms inference, 2.7ms postprocess per image at shape (1, 3, 640, 384)\n"
     ]
    },
    {
     "name": "stderr",
     "output_type": "stream",
     "text": [
      "2025-06-04 23:39:06,784 [INFO] 🔍 Detecting objects in: frame_0013.jpg\n"
     ]
    },
    {
     "name": "stdout",
     "output_type": "stream",
     "text": [
      "\n",
      "image 1/1 C:\\Users\\rutik\\frames\\2025-05-31_14-01-37_UTC\\frame_0013.jpg: 640x384 1 person, 223.3ms\n",
      "Speed: 4.3ms preprocess, 223.3ms inference, 2.8ms postprocess per image at shape (1, 3, 640, 384)\n"
     ]
    },
    {
     "name": "stderr",
     "output_type": "stream",
     "text": [
      "2025-06-04 23:39:07,058 [INFO] 🔍 Detecting objects in: frame_0014.jpg\n"
     ]
    },
    {
     "name": "stdout",
     "output_type": "stream",
     "text": [
      "\n",
      "image 1/1 C:\\Users\\rutik\\frames\\2025-05-31_14-01-37_UTC\\frame_0014.jpg: 640x384 1 person, 2 potted plants, 267.6ms\n",
      "Speed: 4.5ms preprocess, 267.6ms inference, 2.8ms postprocess per image at shape (1, 3, 640, 384)\n"
     ]
    },
    {
     "name": "stderr",
     "output_type": "stream",
     "text": [
      "2025-06-04 23:39:07,379 [INFO] 🔍 Detecting objects in: frame_0015.jpg\n"
     ]
    },
    {
     "name": "stdout",
     "output_type": "stream",
     "text": [
      "\n",
      "image 1/1 C:\\Users\\rutik\\frames\\2025-05-31_14-01-37_UTC\\frame_0015.jpg: 640x384 1 person, 227.0ms\n",
      "Speed: 6.0ms preprocess, 227.0ms inference, 2.8ms postprocess per image at shape (1, 3, 640, 384)\n"
     ]
    },
    {
     "name": "stderr",
     "output_type": "stream",
     "text": [
      "2025-06-04 23:39:07,664 [INFO] 🔍 Detecting objects in: frame_0016.jpg\n"
     ]
    },
    {
     "name": "stdout",
     "output_type": "stream",
     "text": [
      "\n",
      "image 1/1 C:\\Users\\rutik\\frames\\2025-05-31_14-01-37_UTC\\frame_0016.jpg: 640x384 1 person, 278.4ms\n",
      "Speed: 4.1ms preprocess, 278.4ms inference, 2.7ms postprocess per image at shape (1, 3, 640, 384)\n"
     ]
    },
    {
     "name": "stderr",
     "output_type": "stream",
     "text": [
      "2025-06-04 23:39:07,994 [INFO] 🔍 Detecting objects in: frame_0017.jpg\n"
     ]
    },
    {
     "name": "stdout",
     "output_type": "stream",
     "text": [
      "\n",
      "image 1/1 C:\\Users\\rutik\\frames\\2025-05-31_14-01-37_UTC\\frame_0017.jpg: 640x384 1 person, 223.1ms\n",
      "Speed: 4.9ms preprocess, 223.1ms inference, 2.8ms postprocess per image at shape (1, 3, 640, 384)\n"
     ]
    },
    {
     "name": "stderr",
     "output_type": "stream",
     "text": [
      "2025-06-04 23:39:08,269 [INFO] 🔍 Detecting objects in: frame_0018.jpg\n"
     ]
    },
    {
     "name": "stdout",
     "output_type": "stream",
     "text": [
      "\n",
      "image 1/1 C:\\Users\\rutik\\frames\\2025-05-31_14-01-37_UTC\\frame_0018.jpg: 640x384 1 person, 202.5ms\n",
      "Speed: 4.0ms preprocess, 202.5ms inference, 2.8ms postprocess per image at shape (1, 3, 640, 384)\n"
     ]
    },
    {
     "name": "stderr",
     "output_type": "stream",
     "text": [
      "2025-06-04 23:39:08,520 [INFO] 🔍 Detecting objects in: frame_0019.jpg\n"
     ]
    },
    {
     "name": "stdout",
     "output_type": "stream",
     "text": [
      "\n",
      "image 1/1 C:\\Users\\rutik\\frames\\2025-05-31_14-01-37_UTC\\frame_0019.jpg: 640x384 1 person, 220.1ms\n",
      "Speed: 4.0ms preprocess, 220.1ms inference, 2.7ms postprocess per image at shape (1, 3, 640, 384)\n"
     ]
    },
    {
     "name": "stderr",
     "output_type": "stream",
     "text": [
      "2025-06-04 23:39:08,787 [INFO] 🔍 Detecting objects in: frame_0020.jpg\n"
     ]
    },
    {
     "name": "stdout",
     "output_type": "stream",
     "text": [
      "\n",
      "image 1/1 C:\\Users\\rutik\\frames\\2025-05-31_14-01-37_UTC\\frame_0020.jpg: 640x384 1 person, 325.6ms\n",
      "Speed: 4.8ms preprocess, 325.6ms inference, 3.6ms postprocess per image at shape (1, 3, 640, 384)\n"
     ]
    },
    {
     "name": "stderr",
     "output_type": "stream",
     "text": [
      "2025-06-04 23:39:09,162 [INFO] 🔍 Detecting objects in: frame_0021.jpg\n"
     ]
    },
    {
     "name": "stdout",
     "output_type": "stream",
     "text": [
      "\n",
      "image 1/1 C:\\Users\\rutik\\frames\\2025-05-31_14-01-37_UTC\\frame_0021.jpg: 640x384 (no detections), 236.3ms\n",
      "Speed: 4.5ms preprocess, 236.3ms inference, 2.0ms postprocess per image at shape (1, 3, 640, 384)\n"
     ]
    },
    {
     "name": "stderr",
     "output_type": "stream",
     "text": [
      "2025-06-04 23:39:09,444 [INFO] 🔍 Detecting objects in: frame_0022.jpg\n"
     ]
    },
    {
     "name": "stdout",
     "output_type": "stream",
     "text": [
      "\n",
      "image 1/1 C:\\Users\\rutik\\frames\\2025-05-31_14-01-37_UTC\\frame_0022.jpg: 640x384 (no detections), 228.1ms\n",
      "Speed: 4.6ms preprocess, 228.1ms inference, 1.7ms postprocess per image at shape (1, 3, 640, 384)\n"
     ]
    },
    {
     "name": "stderr",
     "output_type": "stream",
     "text": [
      "2025-06-04 23:39:09,722 [INFO] ✅ Saved: outputs\\2025-05-31_14-01-37_UTC.json\n",
      "2025-06-04 23:39:09,723 [INFO] 📂 Running detection for: 2025-06-02_11-31-19_UTC\n",
      "2025-06-04 23:39:09,728 [INFO] 🔍 Detecting objects in: frame_0000.jpg\n"
     ]
    },
    {
     "name": "stdout",
     "output_type": "stream",
     "text": [
      "\n",
      "image 1/1 C:\\Users\\rutik\\frames\\2025-06-02_11-31-19_UTC\\frame_0000.jpg: 640x384 1 person, 1 cell phone, 221.4ms\n",
      "Speed: 4.0ms preprocess, 221.4ms inference, 3.5ms postprocess per image at shape (1, 3, 640, 384)\n"
     ]
    },
    {
     "name": "stderr",
     "output_type": "stream",
     "text": [
      "2025-06-04 23:39:10,002 [INFO] 🔍 Detecting objects in: frame_0001.jpg\n"
     ]
    },
    {
     "name": "stdout",
     "output_type": "stream",
     "text": [
      "\n",
      "image 1/1 C:\\Users\\rutik\\frames\\2025-06-02_11-31-19_UTC\\frame_0001.jpg: 640x384 1 person, 1 cell phone, 223.7ms\n",
      "Speed: 4.1ms preprocess, 223.7ms inference, 3.0ms postprocess per image at shape (1, 3, 640, 384)\n"
     ]
    },
    {
     "name": "stderr",
     "output_type": "stream",
     "text": [
      "2025-06-04 23:39:10,280 [INFO] 🔍 Detecting objects in: frame_0002.jpg\n"
     ]
    },
    {
     "name": "stdout",
     "output_type": "stream",
     "text": [
      "\n",
      "image 1/1 C:\\Users\\rutik\\frames\\2025-06-02_11-31-19_UTC\\frame_0002.jpg: 640x384 1 person, 1 remote, 1 cell phone, 1 vase, 210.6ms\n",
      "Speed: 4.5ms preprocess, 210.6ms inference, 2.9ms postprocess per image at shape (1, 3, 640, 384)\n"
     ]
    },
    {
     "name": "stderr",
     "output_type": "stream",
     "text": [
      "2025-06-04 23:39:10,544 [INFO] 🔍 Detecting objects in: frame_0003.jpg\n"
     ]
    },
    {
     "name": "stdout",
     "output_type": "stream",
     "text": [
      "\n",
      "image 1/1 C:\\Users\\rutik\\frames\\2025-06-02_11-31-19_UTC\\frame_0003.jpg: 640x384 1 person, 1 remote, 1 cell phone, 1 vase, 208.3ms\n",
      "Speed: 4.5ms preprocess, 208.3ms inference, 3.1ms postprocess per image at shape (1, 3, 640, 384)\n"
     ]
    },
    {
     "name": "stderr",
     "output_type": "stream",
     "text": [
      "2025-06-04 23:39:10,806 [INFO] 🔍 Detecting objects in: frame_0004.jpg\n"
     ]
    },
    {
     "name": "stdout",
     "output_type": "stream",
     "text": [
      "\n",
      "image 1/1 C:\\Users\\rutik\\frames\\2025-06-02_11-31-19_UTC\\frame_0004.jpg: 640x384 1 person, 1 cell phone, 218.7ms\n",
      "Speed: 4.3ms preprocess, 218.7ms inference, 3.2ms postprocess per image at shape (1, 3, 640, 384)\n"
     ]
    },
    {
     "name": "stderr",
     "output_type": "stream",
     "text": [
      "2025-06-04 23:39:11,078 [INFO] 🔍 Detecting objects in: frame_0005.jpg\n"
     ]
    },
    {
     "name": "stdout",
     "output_type": "stream",
     "text": [
      "\n",
      "image 1/1 C:\\Users\\rutik\\frames\\2025-06-02_11-31-19_UTC\\frame_0005.jpg: 640x384 1 person, 210.4ms\n",
      "Speed: 3.9ms preprocess, 210.4ms inference, 3.0ms postprocess per image at shape (1, 3, 640, 384)\n"
     ]
    },
    {
     "name": "stderr",
     "output_type": "stream",
     "text": [
      "2025-06-04 23:39:11,337 [INFO] 🔍 Detecting objects in: frame_0006.jpg\n"
     ]
    },
    {
     "name": "stdout",
     "output_type": "stream",
     "text": [
      "\n",
      "image 1/1 C:\\Users\\rutik\\frames\\2025-06-02_11-31-19_UTC\\frame_0006.jpg: 640x384 1 person, 1 chair, 194.2ms\n",
      "Speed: 4.4ms preprocess, 194.2ms inference, 2.8ms postprocess per image at shape (1, 3, 640, 384)\n"
     ]
    },
    {
     "name": "stderr",
     "output_type": "stream",
     "text": [
      "2025-06-04 23:39:11,584 [INFO] 🔍 Detecting objects in: frame_0007.jpg\n"
     ]
    },
    {
     "name": "stdout",
     "output_type": "stream",
     "text": [
      "\n",
      "image 1/1 C:\\Users\\rutik\\frames\\2025-06-02_11-31-19_UTC\\frame_0007.jpg: 640x384 1 person, 234.9ms\n",
      "Speed: 5.2ms preprocess, 234.9ms inference, 2.7ms postprocess per image at shape (1, 3, 640, 384)\n"
     ]
    },
    {
     "name": "stderr",
     "output_type": "stream",
     "text": [
      "2025-06-04 23:39:11,868 [INFO] 🔍 Detecting objects in: frame_0008.jpg\n"
     ]
    },
    {
     "name": "stdout",
     "output_type": "stream",
     "text": [
      "\n",
      "image 1/1 C:\\Users\\rutik\\frames\\2025-06-02_11-31-19_UTC\\frame_0008.jpg: 640x384 1 person, 1 chair, 201.1ms\n",
      "Speed: 4.3ms preprocess, 201.1ms inference, 3.0ms postprocess per image at shape (1, 3, 640, 384)\n"
     ]
    },
    {
     "name": "stderr",
     "output_type": "stream",
     "text": [
      "2025-06-04 23:39:12,120 [INFO] 🔍 Detecting objects in: frame_0009.jpg\n"
     ]
    },
    {
     "name": "stdout",
     "output_type": "stream",
     "text": [
      "\n",
      "image 1/1 C:\\Users\\rutik\\frames\\2025-06-02_11-31-19_UTC\\frame_0009.jpg: 640x384 1 person, 1 chair, 1 vase, 211.9ms\n",
      "Speed: 3.9ms preprocess, 211.9ms inference, 3.0ms postprocess per image at shape (1, 3, 640, 384)\n"
     ]
    },
    {
     "name": "stderr",
     "output_type": "stream",
     "text": [
      "2025-06-04 23:39:12,379 [INFO] 🔍 Detecting objects in: frame_0010.jpg\n"
     ]
    },
    {
     "name": "stdout",
     "output_type": "stream",
     "text": [
      "\n",
      "image 1/1 C:\\Users\\rutik\\frames\\2025-06-02_11-31-19_UTC\\frame_0010.jpg: 640x384 1 person, 2 chairs, 1 vase, 328.0ms\n",
      "Speed: 6.0ms preprocess, 328.0ms inference, 3.3ms postprocess per image at shape (1, 3, 640, 384)\n"
     ]
    },
    {
     "name": "stderr",
     "output_type": "stream",
     "text": [
      "2025-06-04 23:39:12,765 [INFO] 🔍 Detecting objects in: frame_0011.jpg\n"
     ]
    },
    {
     "name": "stdout",
     "output_type": "stream",
     "text": [
      "\n",
      "image 1/1 C:\\Users\\rutik\\frames\\2025-06-02_11-31-19_UTC\\frame_0011.jpg: 640x384 1 person, 2 chairs, 236.1ms\n",
      "Speed: 5.4ms preprocess, 236.1ms inference, 2.9ms postprocess per image at shape (1, 3, 640, 384)\n"
     ]
    },
    {
     "name": "stderr",
     "output_type": "stream",
     "text": [
      "2025-06-04 23:39:13,063 [INFO] 🔍 Detecting objects in: frame_0012.jpg\n"
     ]
    },
    {
     "name": "stdout",
     "output_type": "stream",
     "text": [
      "\n",
      "image 1/1 C:\\Users\\rutik\\frames\\2025-06-02_11-31-19_UTC\\frame_0012.jpg: 640x384 1 person, 2 chairs, 199.3ms\n",
      "Speed: 3.9ms preprocess, 199.3ms inference, 2.8ms postprocess per image at shape (1, 3, 640, 384)\n"
     ]
    },
    {
     "name": "stderr",
     "output_type": "stream",
     "text": [
      "2025-06-04 23:39:13,315 [INFO] 🔍 Detecting objects in: frame_0013.jpg\n"
     ]
    },
    {
     "name": "stdout",
     "output_type": "stream",
     "text": [
      "\n",
      "image 1/1 C:\\Users\\rutik\\frames\\2025-06-02_11-31-19_UTC\\frame_0013.jpg: 640x384 1 person, 2 chairs, 198.0ms\n",
      "Speed: 4.0ms preprocess, 198.0ms inference, 2.8ms postprocess per image at shape (1, 3, 640, 384)\n"
     ]
    },
    {
     "name": "stderr",
     "output_type": "stream",
     "text": [
      "2025-06-04 23:39:13,565 [INFO] 🔍 Detecting objects in: frame_0014.jpg\n"
     ]
    },
    {
     "name": "stdout",
     "output_type": "stream",
     "text": [
      "\n",
      "image 1/1 C:\\Users\\rutik\\frames\\2025-06-02_11-31-19_UTC\\frame_0014.jpg: 640x384 1 person, 2 chairs, 199.0ms\n",
      "Speed: 4.0ms preprocess, 199.0ms inference, 2.7ms postprocess per image at shape (1, 3, 640, 384)\n"
     ]
    },
    {
     "name": "stderr",
     "output_type": "stream",
     "text": [
      "2025-06-04 23:39:13,811 [INFO] 🔍 Detecting objects in: frame_0015.jpg\n"
     ]
    },
    {
     "name": "stdout",
     "output_type": "stream",
     "text": [
      "\n",
      "image 1/1 C:\\Users\\rutik\\frames\\2025-06-02_11-31-19_UTC\\frame_0015.jpg: 640x384 1 person, 2 chairs, 1 vase, 242.9ms\n",
      "Speed: 4.5ms preprocess, 242.9ms inference, 3.3ms postprocess per image at shape (1, 3, 640, 384)\n"
     ]
    },
    {
     "name": "stderr",
     "output_type": "stream",
     "text": [
      "2025-06-04 23:39:14,105 [INFO] 🔍 Detecting objects in: frame_0016.jpg\n"
     ]
    },
    {
     "name": "stdout",
     "output_type": "stream",
     "text": [
      "\n",
      "image 1/1 C:\\Users\\rutik\\frames\\2025-06-02_11-31-19_UTC\\frame_0016.jpg: 640x384 1 person, 1 chair, 193.7ms\n",
      "Speed: 4.1ms preprocess, 193.7ms inference, 2.9ms postprocess per image at shape (1, 3, 640, 384)\n"
     ]
    },
    {
     "name": "stderr",
     "output_type": "stream",
     "text": [
      "2025-06-04 23:39:14,346 [INFO] 🔍 Detecting objects in: frame_0017.jpg\n"
     ]
    },
    {
     "name": "stdout",
     "output_type": "stream",
     "text": [
      "\n",
      "image 1/1 C:\\Users\\rutik\\frames\\2025-06-02_11-31-19_UTC\\frame_0017.jpg: 640x384 1 person, 2 chairs, 234.8ms\n",
      "Speed: 4.8ms preprocess, 234.8ms inference, 2.8ms postprocess per image at shape (1, 3, 640, 384)\n"
     ]
    },
    {
     "name": "stderr",
     "output_type": "stream",
     "text": [
      "2025-06-04 23:39:14,627 [INFO] 🔍 Detecting objects in: frame_0018.jpg\n"
     ]
    },
    {
     "name": "stdout",
     "output_type": "stream",
     "text": [
      "\n",
      "image 1/1 C:\\Users\\rutik\\frames\\2025-06-02_11-31-19_UTC\\frame_0018.jpg: 640x384 1 person, 237.2ms\n",
      "Speed: 4.7ms preprocess, 237.2ms inference, 2.8ms postprocess per image at shape (1, 3, 640, 384)\n"
     ]
    },
    {
     "name": "stderr",
     "output_type": "stream",
     "text": [
      "2025-06-04 23:39:14,914 [INFO] 🔍 Detecting objects in: frame_0019.jpg\n"
     ]
    },
    {
     "name": "stdout",
     "output_type": "stream",
     "text": [
      "\n",
      "image 1/1 C:\\Users\\rutik\\frames\\2025-06-02_11-31-19_UTC\\frame_0019.jpg: 640x384 1 person, 201.5ms\n",
      "Speed: 4.0ms preprocess, 201.5ms inference, 2.6ms postprocess per image at shape (1, 3, 640, 384)\n"
     ]
    },
    {
     "name": "stderr",
     "output_type": "stream",
     "text": [
      "2025-06-04 23:39:15,162 [INFO] 🔍 Detecting objects in: frame_0020.jpg\n"
     ]
    },
    {
     "name": "stdout",
     "output_type": "stream",
     "text": [
      "\n",
      "image 1/1 C:\\Users\\rutik\\frames\\2025-06-02_11-31-19_UTC\\frame_0020.jpg: 640x384 1 person, 372.3ms\n",
      "Speed: 4.3ms preprocess, 372.3ms inference, 2.9ms postprocess per image at shape (1, 3, 640, 384)\n"
     ]
    },
    {
     "name": "stderr",
     "output_type": "stream",
     "text": [
      "2025-06-04 23:39:15,580 [INFO] 🔍 Detecting objects in: frame_0021.jpg\n"
     ]
    },
    {
     "name": "stdout",
     "output_type": "stream",
     "text": [
      "\n",
      "image 1/1 C:\\Users\\rutik\\frames\\2025-06-02_11-31-19_UTC\\frame_0021.jpg: 640x384 1 person, 240.0ms\n",
      "Speed: 4.2ms preprocess, 240.0ms inference, 2.8ms postprocess per image at shape (1, 3, 640, 384)\n"
     ]
    },
    {
     "name": "stderr",
     "output_type": "stream",
     "text": [
      "2025-06-04 23:39:15,869 [INFO] 🔍 Detecting objects in: frame_0022.jpg\n"
     ]
    },
    {
     "name": "stdout",
     "output_type": "stream",
     "text": [
      "\n",
      "image 1/1 C:\\Users\\rutik\\frames\\2025-06-02_11-31-19_UTC\\frame_0022.jpg: 640x384 1 person, 230.4ms\n",
      "Speed: 4.1ms preprocess, 230.4ms inference, 2.8ms postprocess per image at shape (1, 3, 640, 384)\n"
     ]
    },
    {
     "name": "stderr",
     "output_type": "stream",
     "text": [
      "2025-06-04 23:39:16,147 [INFO] 🔍 Detecting objects in: frame_0023.jpg\n"
     ]
    },
    {
     "name": "stdout",
     "output_type": "stream",
     "text": [
      "\n",
      "image 1/1 C:\\Users\\rutik\\frames\\2025-06-02_11-31-19_UTC\\frame_0023.jpg: 640x384 2 persons, 1 remote, 223.9ms\n",
      "Speed: 4.5ms preprocess, 223.9ms inference, 2.8ms postprocess per image at shape (1, 3, 640, 384)\n"
     ]
    },
    {
     "name": "stderr",
     "output_type": "stream",
     "text": [
      "2025-06-04 23:39:16,423 [INFO] 🔍 Detecting objects in: frame_0024.jpg\n"
     ]
    },
    {
     "name": "stdout",
     "output_type": "stream",
     "text": [
      "\n",
      "image 1/1 C:\\Users\\rutik\\frames\\2025-06-02_11-31-19_UTC\\frame_0024.jpg: 640x384 2 persons, 1 remote, 204.6ms\n",
      "Speed: 4.2ms preprocess, 204.6ms inference, 2.9ms postprocess per image at shape (1, 3, 640, 384)\n"
     ]
    },
    {
     "name": "stderr",
     "output_type": "stream",
     "text": [
      "2025-06-04 23:39:16,677 [INFO] 🔍 Detecting objects in: frame_0025.jpg\n"
     ]
    },
    {
     "name": "stdout",
     "output_type": "stream",
     "text": [
      "\n",
      "image 1/1 C:\\Users\\rutik\\frames\\2025-06-02_11-31-19_UTC\\frame_0025.jpg: 640x384 2 persons, 1 remote, 1 cell phone, 223.1ms\n",
      "Speed: 4.6ms preprocess, 223.1ms inference, 3.3ms postprocess per image at shape (1, 3, 640, 384)\n"
     ]
    },
    {
     "name": "stderr",
     "output_type": "stream",
     "text": [
      "2025-06-04 23:39:16,952 [INFO] 🔍 Detecting objects in: frame_0026.jpg\n"
     ]
    },
    {
     "name": "stdout",
     "output_type": "stream",
     "text": [
      "\n",
      "image 1/1 C:\\Users\\rutik\\frames\\2025-06-02_11-31-19_UTC\\frame_0026.jpg: 640x384 1 person, 269.9ms\n",
      "Speed: 4.2ms preprocess, 269.9ms inference, 2.8ms postprocess per image at shape (1, 3, 640, 384)\n"
     ]
    },
    {
     "name": "stderr",
     "output_type": "stream",
     "text": [
      "2025-06-04 23:39:17,274 [INFO] 🔍 Detecting objects in: frame_0027.jpg\n"
     ]
    },
    {
     "name": "stdout",
     "output_type": "stream",
     "text": [
      "\n",
      "image 1/1 C:\\Users\\rutik\\frames\\2025-06-02_11-31-19_UTC\\frame_0027.jpg: 640x384 1 person, 1 bed, 248.8ms\n",
      "Speed: 5.0ms preprocess, 248.8ms inference, 2.9ms postprocess per image at shape (1, 3, 640, 384)\n"
     ]
    },
    {
     "name": "stderr",
     "output_type": "stream",
     "text": [
      "2025-06-04 23:39:17,578 [INFO] 🔍 Detecting objects in: frame_0028.jpg\n"
     ]
    },
    {
     "name": "stdout",
     "output_type": "stream",
     "text": [
      "\n",
      "image 1/1 C:\\Users\\rutik\\frames\\2025-06-02_11-31-19_UTC\\frame_0028.jpg: 640x384 1 person, 190.3ms\n",
      "Speed: 4.3ms preprocess, 190.3ms inference, 2.8ms postprocess per image at shape (1, 3, 640, 384)\n"
     ]
    },
    {
     "name": "stderr",
     "output_type": "stream",
     "text": [
      "2025-06-04 23:39:17,819 [INFO] 🔍 Detecting objects in: frame_0029.jpg\n"
     ]
    },
    {
     "name": "stdout",
     "output_type": "stream",
     "text": [
      "\n",
      "image 1/1 C:\\Users\\rutik\\frames\\2025-06-02_11-31-19_UTC\\frame_0029.jpg: 640x384 1 person, 197.4ms\n",
      "Speed: 3.8ms preprocess, 197.4ms inference, 2.7ms postprocess per image at shape (1, 3, 640, 384)\n"
     ]
    },
    {
     "name": "stderr",
     "output_type": "stream",
     "text": [
      "2025-06-04 23:39:18,059 [INFO] 🔍 Detecting objects in: frame_0030.jpg\n"
     ]
    },
    {
     "name": "stdout",
     "output_type": "stream",
     "text": [
      "\n",
      "image 1/1 C:\\Users\\rutik\\frames\\2025-06-02_11-31-19_UTC\\frame_0030.jpg: 640x384 1 person, 217.6ms\n",
      "Speed: 3.3ms preprocess, 217.6ms inference, 2.2ms postprocess per image at shape (1, 3, 640, 384)\n"
     ]
    },
    {
     "name": "stderr",
     "output_type": "stream",
     "text": [
      "2025-06-04 23:39:18,320 [INFO] 🔍 Detecting objects in: frame_0031.jpg\n"
     ]
    },
    {
     "name": "stdout",
     "output_type": "stream",
     "text": [
      "\n",
      "image 1/1 C:\\Users\\rutik\\frames\\2025-06-02_11-31-19_UTC\\frame_0031.jpg: 640x384 1 person, 1 cell phone, 229.2ms\n",
      "Speed: 4.0ms preprocess, 229.2ms inference, 2.8ms postprocess per image at shape (1, 3, 640, 384)\n"
     ]
    },
    {
     "name": "stderr",
     "output_type": "stream",
     "text": [
      "2025-06-04 23:39:18,594 [INFO] 🔍 Detecting objects in: frame_0032.jpg\n"
     ]
    },
    {
     "name": "stdout",
     "output_type": "stream",
     "text": [
      "\n",
      "image 1/1 C:\\Users\\rutik\\frames\\2025-06-02_11-31-19_UTC\\frame_0032.jpg: 640x384 1 person, 1 cell phone, 233.5ms\n",
      "Speed: 4.2ms preprocess, 233.5ms inference, 2.8ms postprocess per image at shape (1, 3, 640, 384)\n"
     ]
    },
    {
     "name": "stderr",
     "output_type": "stream",
     "text": [
      "2025-06-04 23:39:18,875 [INFO] 🔍 Detecting objects in: frame_0033.jpg\n"
     ]
    },
    {
     "name": "stdout",
     "output_type": "stream",
     "text": [
      "\n",
      "image 1/1 C:\\Users\\rutik\\frames\\2025-06-02_11-31-19_UTC\\frame_0033.jpg: 640x384 1 person, 287.3ms\n",
      "Speed: 4.9ms preprocess, 287.3ms inference, 2.9ms postprocess per image at shape (1, 3, 640, 384)\n"
     ]
    },
    {
     "name": "stderr",
     "output_type": "stream",
     "text": [
      "2025-06-04 23:39:19,209 [INFO] 🔍 Detecting objects in: frame_0034.jpg\n"
     ]
    },
    {
     "name": "stdout",
     "output_type": "stream",
     "text": [
      "\n",
      "image 1/1 C:\\Users\\rutik\\frames\\2025-06-02_11-31-19_UTC\\frame_0034.jpg: 640x384 1 person, 275.0ms\n",
      "Speed: 6.1ms preprocess, 275.0ms inference, 3.3ms postprocess per image at shape (1, 3, 640, 384)\n"
     ]
    },
    {
     "name": "stderr",
     "output_type": "stream",
     "text": [
      "2025-06-04 23:39:19,532 [INFO] 🔍 Detecting objects in: frame_0035.jpg\n"
     ]
    },
    {
     "name": "stdout",
     "output_type": "stream",
     "text": [
      "\n",
      "image 1/1 C:\\Users\\rutik\\frames\\2025-06-02_11-31-19_UTC\\frame_0035.jpg: 640x384 1 person, 283.7ms\n",
      "Speed: 2.8ms preprocess, 283.7ms inference, 2.9ms postprocess per image at shape (1, 3, 640, 384)\n"
     ]
    },
    {
     "name": "stderr",
     "output_type": "stream",
     "text": [
      "2025-06-04 23:39:19,857 [INFO] 🔍 Detecting objects in: frame_0036.jpg\n"
     ]
    },
    {
     "name": "stdout",
     "output_type": "stream",
     "text": [
      "\n",
      "image 1/1 C:\\Users\\rutik\\frames\\2025-06-02_11-31-19_UTC\\frame_0036.jpg: 640x384 1 person, 1 cell phone, 267.4ms\n",
      "Speed: 4.4ms preprocess, 267.4ms inference, 2.7ms postprocess per image at shape (1, 3, 640, 384)\n"
     ]
    },
    {
     "name": "stderr",
     "output_type": "stream",
     "text": [
      "2025-06-04 23:39:20,175 [INFO] 🔍 Detecting objects in: frame_0037.jpg\n"
     ]
    },
    {
     "name": "stdout",
     "output_type": "stream",
     "text": [
      "\n",
      "image 1/1 C:\\Users\\rutik\\frames\\2025-06-02_11-31-19_UTC\\frame_0037.jpg: 640x384 1 person, 263.1ms\n",
      "Speed: 5.3ms preprocess, 263.1ms inference, 2.9ms postprocess per image at shape (1, 3, 640, 384)\n"
     ]
    },
    {
     "name": "stderr",
     "output_type": "stream",
     "text": [
      "2025-06-04 23:39:20,488 [INFO] 🔍 Detecting objects in: frame_0038.jpg\n"
     ]
    },
    {
     "name": "stdout",
     "output_type": "stream",
     "text": [
      "\n",
      "image 1/1 C:\\Users\\rutik\\frames\\2025-06-02_11-31-19_UTC\\frame_0038.jpg: 640x384 1 person, 224.6ms\n",
      "Speed: 5.3ms preprocess, 224.6ms inference, 3.2ms postprocess per image at shape (1, 3, 640, 384)\n"
     ]
    },
    {
     "name": "stderr",
     "output_type": "stream",
     "text": [
      "2025-06-04 23:39:20,767 [INFO] 🔍 Detecting objects in: frame_0039.jpg\n"
     ]
    },
    {
     "name": "stdout",
     "output_type": "stream",
     "text": [
      "\n",
      "image 1/1 C:\\Users\\rutik\\frames\\2025-06-02_11-31-19_UTC\\frame_0039.jpg: 640x384 1 person, 253.2ms\n",
      "Speed: 4.6ms preprocess, 253.2ms inference, 2.8ms postprocess per image at shape (1, 3, 640, 384)\n"
     ]
    },
    {
     "name": "stderr",
     "output_type": "stream",
     "text": [
      "2025-06-04 23:39:21,064 [INFO] 🔍 Detecting objects in: frame_0040.jpg\n"
     ]
    },
    {
     "name": "stdout",
     "output_type": "stream",
     "text": [
      "\n",
      "image 1/1 C:\\Users\\rutik\\frames\\2025-06-02_11-31-19_UTC\\frame_0040.jpg: 640x384 1 person, 277.5ms\n",
      "Speed: 4.3ms preprocess, 277.5ms inference, 3.1ms postprocess per image at shape (1, 3, 640, 384)\n"
     ]
    },
    {
     "name": "stderr",
     "output_type": "stream",
     "text": [
      "2025-06-04 23:39:21,393 [INFO] 🔍 Detecting objects in: frame_0041.jpg\n"
     ]
    },
    {
     "name": "stdout",
     "output_type": "stream",
     "text": [
      "\n",
      "image 1/1 C:\\Users\\rutik\\frames\\2025-06-02_11-31-19_UTC\\frame_0041.jpg: 640x384 1 person, 1 chair, 215.9ms\n",
      "Speed: 4.2ms preprocess, 215.9ms inference, 2.9ms postprocess per image at shape (1, 3, 640, 384)\n"
     ]
    },
    {
     "name": "stderr",
     "output_type": "stream",
     "text": [
      "2025-06-04 23:39:21,662 [INFO] 🔍 Detecting objects in: frame_0042.jpg\n"
     ]
    },
    {
     "name": "stdout",
     "output_type": "stream",
     "text": [
      "\n",
      "image 1/1 C:\\Users\\rutik\\frames\\2025-06-02_11-31-19_UTC\\frame_0042.jpg: 640x384 1 person, 2 chairs, 1 cell phone, 202.2ms\n",
      "Speed: 4.2ms preprocess, 202.2ms inference, 2.9ms postprocess per image at shape (1, 3, 640, 384)\n"
     ]
    },
    {
     "name": "stderr",
     "output_type": "stream",
     "text": [
      "2025-06-04 23:39:21,914 [INFO] 🔍 Detecting objects in: frame_0043.jpg\n"
     ]
    },
    {
     "name": "stdout",
     "output_type": "stream",
     "text": [
      "\n",
      "image 1/1 C:\\Users\\rutik\\frames\\2025-06-02_11-31-19_UTC\\frame_0043.jpg: 640x384 1 person, 2 chairs, 1 cell phone, 250.3ms\n",
      "Speed: 4.9ms preprocess, 250.3ms inference, 3.2ms postprocess per image at shape (1, 3, 640, 384)\n"
     ]
    },
    {
     "name": "stderr",
     "output_type": "stream",
     "text": [
      "2025-06-04 23:39:22,215 [INFO] 🔍 Detecting objects in: frame_0044.jpg\n"
     ]
    },
    {
     "name": "stdout",
     "output_type": "stream",
     "text": [
      "\n",
      "image 1/1 C:\\Users\\rutik\\frames\\2025-06-02_11-31-19_UTC\\frame_0044.jpg: 640x384 1 person, 1 chair, 1 cell phone, 210.5ms\n",
      "Speed: 4.2ms preprocess, 210.5ms inference, 3.0ms postprocess per image at shape (1, 3, 640, 384)\n"
     ]
    },
    {
     "name": "stderr",
     "output_type": "stream",
     "text": [
      "2025-06-04 23:39:22,478 [INFO] 🔍 Detecting objects in: frame_0045.jpg\n"
     ]
    },
    {
     "name": "stdout",
     "output_type": "stream",
     "text": [
      "\n",
      "image 1/1 C:\\Users\\rutik\\frames\\2025-06-02_11-31-19_UTC\\frame_0045.jpg: 640x384 1 person, 1 chair, 230.0ms\n",
      "Speed: 4.0ms preprocess, 230.0ms inference, 3.3ms postprocess per image at shape (1, 3, 640, 384)\n"
     ]
    },
    {
     "name": "stderr",
     "output_type": "stream",
     "text": [
      "2025-06-04 23:39:22,759 [INFO] 🔍 Detecting objects in: frame_0046.jpg\n"
     ]
    },
    {
     "name": "stdout",
     "output_type": "stream",
     "text": [
      "\n",
      "image 1/1 C:\\Users\\rutik\\frames\\2025-06-02_11-31-19_UTC\\frame_0046.jpg: 640x384 1 person, 1 chair, 1 cell phone, 226.7ms\n",
      "Speed: 3.9ms preprocess, 226.7ms inference, 3.2ms postprocess per image at shape (1, 3, 640, 384)\n"
     ]
    },
    {
     "name": "stderr",
     "output_type": "stream",
     "text": [
      "2025-06-04 23:39:23,036 [INFO] 🔍 Detecting objects in: frame_0047.jpg\n"
     ]
    },
    {
     "name": "stdout",
     "output_type": "stream",
     "text": [
      "\n",
      "image 1/1 C:\\Users\\rutik\\frames\\2025-06-02_11-31-19_UTC\\frame_0047.jpg: 640x384 1 person, 1 chair, 230.7ms\n",
      "Speed: 4.6ms preprocess, 230.7ms inference, 2.6ms postprocess per image at shape (1, 3, 640, 384)\n"
     ]
    },
    {
     "name": "stderr",
     "output_type": "stream",
     "text": [
      "2025-06-04 23:39:23,323 [INFO] 🔍 Detecting objects in: frame_0048.jpg\n"
     ]
    },
    {
     "name": "stdout",
     "output_type": "stream",
     "text": [
      "\n",
      "image 1/1 C:\\Users\\rutik\\frames\\2025-06-02_11-31-19_UTC\\frame_0048.jpg: 640x384 1 person, 1 chair, 235.3ms\n",
      "Speed: 6.5ms preprocess, 235.3ms inference, 2.8ms postprocess per image at shape (1, 3, 640, 384)\n"
     ]
    },
    {
     "name": "stderr",
     "output_type": "stream",
     "text": [
      "2025-06-04 23:39:23,620 [INFO] 🔍 Detecting objects in: frame_0049.jpg\n"
     ]
    },
    {
     "name": "stdout",
     "output_type": "stream",
     "text": [
      "\n",
      "image 1/1 C:\\Users\\rutik\\frames\\2025-06-02_11-31-19_UTC\\frame_0049.jpg: 640x384 1 person, 1 chair, 225.3ms\n",
      "Speed: 4.7ms preprocess, 225.3ms inference, 3.4ms postprocess per image at shape (1, 3, 640, 384)\n"
     ]
    },
    {
     "name": "stderr",
     "output_type": "stream",
     "text": [
      "2025-06-04 23:39:23,899 [INFO] 🔍 Detecting objects in: frame_0050.jpg\n"
     ]
    },
    {
     "name": "stdout",
     "output_type": "stream",
     "text": [
      "\n",
      "image 1/1 C:\\Users\\rutik\\frames\\2025-06-02_11-31-19_UTC\\frame_0050.jpg: 640x384 1 person, 1 chair, 1 cell phone, 227.7ms\n",
      "Speed: 5.0ms preprocess, 227.7ms inference, 3.0ms postprocess per image at shape (1, 3, 640, 384)\n"
     ]
    },
    {
     "name": "stderr",
     "output_type": "stream",
     "text": [
      "2025-06-04 23:39:24,182 [INFO] 🔍 Detecting objects in: frame_0051.jpg\n"
     ]
    },
    {
     "name": "stdout",
     "output_type": "stream",
     "text": [
      "\n",
      "image 1/1 C:\\Users\\rutik\\frames\\2025-06-02_11-31-19_UTC\\frame_0051.jpg: 640x384 1 person, 2 chairs, 228.9ms\n",
      "Speed: 4.5ms preprocess, 228.9ms inference, 2.9ms postprocess per image at shape (1, 3, 640, 384)\n"
     ]
    },
    {
     "name": "stderr",
     "output_type": "stream",
     "text": [
      "2025-06-04 23:39:24,461 [INFO] 🔍 Detecting objects in: frame_0052.jpg\n"
     ]
    },
    {
     "name": "stdout",
     "output_type": "stream",
     "text": [
      "\n",
      "image 1/1 C:\\Users\\rutik\\frames\\2025-06-02_11-31-19_UTC\\frame_0052.jpg: 640x384 1 person, 2 cell phones, 293.2ms\n",
      "Speed: 6.6ms preprocess, 293.2ms inference, 3.0ms postprocess per image at shape (1, 3, 640, 384)\n"
     ]
    },
    {
     "name": "stderr",
     "output_type": "stream",
     "text": [
      "2025-06-04 23:39:24,839 [INFO] 🔍 Detecting objects in: frame_0053.jpg\n"
     ]
    },
    {
     "name": "stdout",
     "output_type": "stream",
     "text": [
      "\n",
      "image 1/1 C:\\Users\\rutik\\frames\\2025-06-02_11-31-19_UTC\\frame_0053.jpg: 640x384 1 person, 1 chair, 1 cell phone, 224.8ms\n",
      "Speed: 5.1ms preprocess, 224.8ms inference, 2.8ms postprocess per image at shape (1, 3, 640, 384)\n"
     ]
    },
    {
     "name": "stderr",
     "output_type": "stream",
     "text": [
      "2025-06-04 23:39:25,122 [INFO] 🔍 Detecting objects in: frame_0054.jpg\n"
     ]
    },
    {
     "name": "stdout",
     "output_type": "stream",
     "text": [
      "\n",
      "image 1/1 C:\\Users\\rutik\\frames\\2025-06-02_11-31-19_UTC\\frame_0054.jpg: 640x384 1 person, 2 chairs, 1 cell phone, 227.5ms\n",
      "Speed: 4.4ms preprocess, 227.5ms inference, 2.9ms postprocess per image at shape (1, 3, 640, 384)\n"
     ]
    },
    {
     "name": "stderr",
     "output_type": "stream",
     "text": [
      "2025-06-04 23:39:25,406 [INFO] 🔍 Detecting objects in: frame_0055.jpg\n"
     ]
    },
    {
     "name": "stdout",
     "output_type": "stream",
     "text": [
      "\n",
      "image 1/1 C:\\Users\\rutik\\frames\\2025-06-02_11-31-19_UTC\\frame_0055.jpg: 640x384 1 person, 1 chair, 1 cell phone, 231.9ms\n",
      "Speed: 4.4ms preprocess, 231.9ms inference, 3.0ms postprocess per image at shape (1, 3, 640, 384)\n"
     ]
    },
    {
     "name": "stderr",
     "output_type": "stream",
     "text": [
      "2025-06-04 23:39:25,692 [INFO] 🔍 Detecting objects in: frame_0056.jpg\n"
     ]
    },
    {
     "name": "stdout",
     "output_type": "stream",
     "text": [
      "\n",
      "image 1/1 C:\\Users\\rutik\\frames\\2025-06-02_11-31-19_UTC\\frame_0056.jpg: 640x384 1 person, 1 chair, 267.8ms\n",
      "Speed: 3.8ms preprocess, 267.8ms inference, 3.4ms postprocess per image at shape (1, 3, 640, 384)\n"
     ]
    },
    {
     "name": "stderr",
     "output_type": "stream",
     "text": [
      "2025-06-04 23:39:26,012 [INFO] 🔍 Detecting objects in: frame_0057.jpg\n"
     ]
    },
    {
     "name": "stdout",
     "output_type": "stream",
     "text": [
      "\n",
      "image 1/1 C:\\Users\\rutik\\frames\\2025-06-02_11-31-19_UTC\\frame_0057.jpg: 640x384 1 person, 1 chair, 1 cell phone, 201.0ms\n",
      "Speed: 4.3ms preprocess, 201.0ms inference, 2.9ms postprocess per image at shape (1, 3, 640, 384)\n"
     ]
    },
    {
     "name": "stderr",
     "output_type": "stream",
     "text": [
      "2025-06-04 23:39:26,270 [INFO] 🔍 Detecting objects in: frame_0058.jpg\n"
     ]
    },
    {
     "name": "stdout",
     "output_type": "stream",
     "text": [
      "\n",
      "image 1/1 C:\\Users\\rutik\\frames\\2025-06-02_11-31-19_UTC\\frame_0058.jpg: 640x384 1 person, 193.3ms\n",
      "Speed: 4.4ms preprocess, 193.3ms inference, 2.8ms postprocess per image at shape (1, 3, 640, 384)\n"
     ]
    },
    {
     "name": "stderr",
     "output_type": "stream",
     "text": [
      "2025-06-04 23:39:26,511 [INFO] 🔍 Detecting objects in: frame_0059.jpg\n"
     ]
    },
    {
     "name": "stdout",
     "output_type": "stream",
     "text": [
      "\n",
      "image 1/1 C:\\Users\\rutik\\frames\\2025-06-02_11-31-19_UTC\\frame_0059.jpg: 640x384 1 person, 217.8ms\n",
      "Speed: 4.2ms preprocess, 217.8ms inference, 2.9ms postprocess per image at shape (1, 3, 640, 384)\n"
     ]
    },
    {
     "name": "stderr",
     "output_type": "stream",
     "text": [
      "2025-06-04 23:39:26,777 [INFO] 🔍 Detecting objects in: frame_0060.jpg\n"
     ]
    },
    {
     "name": "stdout",
     "output_type": "stream",
     "text": [
      "\n",
      "image 1/1 C:\\Users\\rutik\\frames\\2025-06-02_11-31-19_UTC\\frame_0060.jpg: 640x384 1 person, 233.9ms\n",
      "Speed: 4.4ms preprocess, 233.9ms inference, 2.9ms postprocess per image at shape (1, 3, 640, 384)\n"
     ]
    },
    {
     "name": "stderr",
     "output_type": "stream",
     "text": [
      "2025-06-04 23:39:27,057 [INFO] 🔍 Detecting objects in: frame_0061.jpg\n"
     ]
    },
    {
     "name": "stdout",
     "output_type": "stream",
     "text": [
      "\n",
      "image 1/1 C:\\Users\\rutik\\frames\\2025-06-02_11-31-19_UTC\\frame_0061.jpg: 640x384 2 persons, 326.3ms\n",
      "Speed: 4.7ms preprocess, 326.3ms inference, 3.3ms postprocess per image at shape (1, 3, 640, 384)\n"
     ]
    },
    {
     "name": "stderr",
     "output_type": "stream",
     "text": [
      "2025-06-04 23:39:27,433 [INFO] 🔍 Detecting objects in: frame_0062.jpg\n"
     ]
    },
    {
     "name": "stdout",
     "output_type": "stream",
     "text": [
      "\n",
      "image 1/1 C:\\Users\\rutik\\frames\\2025-06-02_11-31-19_UTC\\frame_0062.jpg: 640x384 2 persons, 232.2ms\n",
      "Speed: 7.5ms preprocess, 232.2ms inference, 2.9ms postprocess per image at shape (1, 3, 640, 384)\n"
     ]
    },
    {
     "name": "stderr",
     "output_type": "stream",
     "text": [
      "2025-06-04 23:39:27,721 [INFO] 🔍 Detecting objects in: frame_0063.jpg\n"
     ]
    },
    {
     "name": "stdout",
     "output_type": "stream",
     "text": [
      "\n",
      "image 1/1 C:\\Users\\rutik\\frames\\2025-06-02_11-31-19_UTC\\frame_0063.jpg: 640x384 1 person, 248.3ms\n",
      "Speed: 4.4ms preprocess, 248.3ms inference, 2.9ms postprocess per image at shape (1, 3, 640, 384)\n"
     ]
    },
    {
     "name": "stderr",
     "output_type": "stream",
     "text": [
      "2025-06-04 23:39:28,020 [INFO] 🔍 Detecting objects in: frame_0064.jpg\n"
     ]
    },
    {
     "name": "stdout",
     "output_type": "stream",
     "text": [
      "\n",
      "image 1/1 C:\\Users\\rutik\\frames\\2025-06-02_11-31-19_UTC\\frame_0064.jpg: 640x384 1 person, 268.3ms\n",
      "Speed: 4.3ms preprocess, 268.3ms inference, 3.1ms postprocess per image at shape (1, 3, 640, 384)\n"
     ]
    },
    {
     "name": "stderr",
     "output_type": "stream",
     "text": [
      "2025-06-04 23:39:28,335 [INFO] 🔍 Detecting objects in: frame_0065.jpg\n"
     ]
    },
    {
     "name": "stdout",
     "output_type": "stream",
     "text": [
      "\n",
      "image 1/1 C:\\Users\\rutik\\frames\\2025-06-02_11-31-19_UTC\\frame_0065.jpg: 640x384 1 person, 217.8ms\n",
      "Speed: 4.2ms preprocess, 217.8ms inference, 2.8ms postprocess per image at shape (1, 3, 640, 384)\n"
     ]
    },
    {
     "name": "stderr",
     "output_type": "stream",
     "text": [
      "2025-06-04 23:39:28,598 [INFO] 🔍 Detecting objects in: frame_0066.jpg\n"
     ]
    },
    {
     "name": "stdout",
     "output_type": "stream",
     "text": [
      "\n",
      "image 1/1 C:\\Users\\rutik\\frames\\2025-06-02_11-31-19_UTC\\frame_0066.jpg: 640x384 1 person, 212.6ms\n",
      "Speed: 4.7ms preprocess, 212.6ms inference, 2.1ms postprocess per image at shape (1, 3, 640, 384)\n"
     ]
    },
    {
     "name": "stderr",
     "output_type": "stream",
     "text": [
      "2025-06-04 23:39:28,854 [INFO] 🔍 Detecting objects in: frame_0067.jpg\n"
     ]
    },
    {
     "name": "stdout",
     "output_type": "stream",
     "text": [
      "\n",
      "image 1/1 C:\\Users\\rutik\\frames\\2025-06-02_11-31-19_UTC\\frame_0067.jpg: 640x384 1 person, 220.2ms\n",
      "Speed: 3.8ms preprocess, 220.2ms inference, 2.8ms postprocess per image at shape (1, 3, 640, 384)\n"
     ]
    },
    {
     "name": "stderr",
     "output_type": "stream",
     "text": [
      "2025-06-04 23:39:29,119 [INFO] 🔍 Detecting objects in: frame_0068.jpg\n"
     ]
    },
    {
     "name": "stdout",
     "output_type": "stream",
     "text": [
      "\n",
      "image 1/1 C:\\Users\\rutik\\frames\\2025-06-02_11-31-19_UTC\\frame_0068.jpg: 640x384 1 person, 238.0ms\n",
      "Speed: 6.7ms preprocess, 238.0ms inference, 2.8ms postprocess per image at shape (1, 3, 640, 384)\n"
     ]
    },
    {
     "name": "stderr",
     "output_type": "stream",
     "text": [
      "2025-06-04 23:39:29,410 [INFO] 🔍 Detecting objects in: frame_0069.jpg\n"
     ]
    },
    {
     "name": "stdout",
     "output_type": "stream",
     "text": [
      "\n",
      "image 1/1 C:\\Users\\rutik\\frames\\2025-06-02_11-31-19_UTC\\frame_0069.jpg: 640x384 1 person, 282.4ms\n",
      "Speed: 5.9ms preprocess, 282.4ms inference, 2.9ms postprocess per image at shape (1, 3, 640, 384)\n"
     ]
    },
    {
     "name": "stderr",
     "output_type": "stream",
     "text": [
      "2025-06-04 23:39:29,743 [INFO] 🔍 Detecting objects in: frame_0070.jpg\n"
     ]
    },
    {
     "name": "stdout",
     "output_type": "stream",
     "text": [
      "\n",
      "image 1/1 C:\\Users\\rutik\\frames\\2025-06-02_11-31-19_UTC\\frame_0070.jpg: 640x384 1 person, 1 cup, 227.3ms\n",
      "Speed: 4.0ms preprocess, 227.3ms inference, 2.9ms postprocess per image at shape (1, 3, 640, 384)\n"
     ]
    },
    {
     "name": "stderr",
     "output_type": "stream",
     "text": [
      "2025-06-04 23:39:30,016 [INFO] 🔍 Detecting objects in: frame_0071.jpg\n"
     ]
    },
    {
     "name": "stdout",
     "output_type": "stream",
     "text": [
      "\n",
      "image 1/1 C:\\Users\\rutik\\frames\\2025-06-02_11-31-19_UTC\\frame_0071.jpg: 640x384 1 person, 1 cup, 227.0ms\n",
      "Speed: 4.7ms preprocess, 227.0ms inference, 2.7ms postprocess per image at shape (1, 3, 640, 384)\n"
     ]
    },
    {
     "name": "stderr",
     "output_type": "stream",
     "text": [
      "2025-06-04 23:39:30,294 [INFO] 🔍 Detecting objects in: frame_0072.jpg\n"
     ]
    },
    {
     "name": "stdout",
     "output_type": "stream",
     "text": [
      "\n",
      "image 1/1 C:\\Users\\rutik\\frames\\2025-06-02_11-31-19_UTC\\frame_0072.jpg: 640x384 1 person, 209.5ms\n",
      "Speed: 4.4ms preprocess, 209.5ms inference, 2.8ms postprocess per image at shape (1, 3, 640, 384)\n"
     ]
    },
    {
     "name": "stderr",
     "output_type": "stream",
     "text": [
      "2025-06-04 23:39:30,550 [INFO] 🔍 Detecting objects in: frame_0073.jpg\n"
     ]
    },
    {
     "name": "stdout",
     "output_type": "stream",
     "text": [
      "\n",
      "image 1/1 C:\\Users\\rutik\\frames\\2025-06-02_11-31-19_UTC\\frame_0073.jpg: 640x384 1 person, 229.7ms\n",
      "Speed: 4.9ms preprocess, 229.7ms inference, 3.1ms postprocess per image at shape (1, 3, 640, 384)\n"
     ]
    },
    {
     "name": "stderr",
     "output_type": "stream",
     "text": [
      "2025-06-04 23:39:30,824 [INFO] 🔍 Detecting objects in: frame_0074.jpg\n"
     ]
    },
    {
     "name": "stdout",
     "output_type": "stream",
     "text": [
      "\n",
      "image 1/1 C:\\Users\\rutik\\frames\\2025-06-02_11-31-19_UTC\\frame_0074.jpg: 640x384 1 person, 207.8ms\n",
      "Speed: 4.0ms preprocess, 207.8ms inference, 2.8ms postprocess per image at shape (1, 3, 640, 384)\n"
     ]
    },
    {
     "name": "stderr",
     "output_type": "stream",
     "text": [
      "2025-06-04 23:39:31,087 [INFO] 🔍 Detecting objects in: frame_0075.jpg\n"
     ]
    },
    {
     "name": "stdout",
     "output_type": "stream",
     "text": [
      "\n",
      "image 1/1 C:\\Users\\rutik\\frames\\2025-06-02_11-31-19_UTC\\frame_0075.jpg: 640x384 1 person, 2 chairs, 1 cell phone, 239.9ms\n",
      "Speed: 3.1ms preprocess, 239.9ms inference, 3.1ms postprocess per image at shape (1, 3, 640, 384)\n"
     ]
    },
    {
     "name": "stderr",
     "output_type": "stream",
     "text": [
      "2025-06-04 23:39:31,373 [INFO] 🔍 Detecting objects in: frame_0076.jpg\n"
     ]
    },
    {
     "name": "stdout",
     "output_type": "stream",
     "text": [
      "\n",
      "image 1/1 C:\\Users\\rutik\\frames\\2025-06-02_11-31-19_UTC\\frame_0076.jpg: 640x384 1 person, 1 chair, 196.3ms\n",
      "Speed: 3.6ms preprocess, 196.3ms inference, 2.7ms postprocess per image at shape (1, 3, 640, 384)\n"
     ]
    },
    {
     "name": "stderr",
     "output_type": "stream",
     "text": [
      "2025-06-04 23:39:31,621 [INFO] 🔍 Detecting objects in: frame_0077.jpg\n"
     ]
    },
    {
     "name": "stdout",
     "output_type": "stream",
     "text": [
      "\n",
      "image 1/1 C:\\Users\\rutik\\frames\\2025-06-02_11-31-19_UTC\\frame_0077.jpg: 640x384 1 person, 1 chair, 252.8ms\n",
      "Speed: 4.3ms preprocess, 252.8ms inference, 2.7ms postprocess per image at shape (1, 3, 640, 384)\n"
     ]
    },
    {
     "name": "stderr",
     "output_type": "stream",
     "text": [
      "2025-06-04 23:39:31,922 [INFO] 🔍 Detecting objects in: frame_0078.jpg\n"
     ]
    },
    {
     "name": "stdout",
     "output_type": "stream",
     "text": [
      "\n",
      "image 1/1 C:\\Users\\rutik\\frames\\2025-06-02_11-31-19_UTC\\frame_0078.jpg: 640x384 1 person, 1 chair, 228.7ms\n",
      "Speed: 4.4ms preprocess, 228.7ms inference, 2.9ms postprocess per image at shape (1, 3, 640, 384)\n"
     ]
    },
    {
     "name": "stderr",
     "output_type": "stream",
     "text": [
      "2025-06-04 23:39:32,198 [INFO] 🔍 Detecting objects in: frame_0079.jpg\n"
     ]
    },
    {
     "name": "stdout",
     "output_type": "stream",
     "text": [
      "\n",
      "image 1/1 C:\\Users\\rutik\\frames\\2025-06-02_11-31-19_UTC\\frame_0079.jpg: 640x384 1 person, 1 chair, 220.3ms\n",
      "Speed: 4.6ms preprocess, 220.3ms inference, 2.8ms postprocess per image at shape (1, 3, 640, 384)\n"
     ]
    },
    {
     "name": "stderr",
     "output_type": "stream",
     "text": [
      "2025-06-04 23:39:32,466 [INFO] 🔍 Detecting objects in: frame_0080.jpg\n"
     ]
    },
    {
     "name": "stdout",
     "output_type": "stream",
     "text": [
      "\n",
      "image 1/1 C:\\Users\\rutik\\frames\\2025-06-02_11-31-19_UTC\\frame_0080.jpg: 640x384 1 person, 1 chair, 322.6ms\n",
      "Speed: 5.9ms preprocess, 322.6ms inference, 3.0ms postprocess per image at shape (1, 3, 640, 384)\n"
     ]
    },
    {
     "name": "stderr",
     "output_type": "stream",
     "text": [
      "2025-06-04 23:39:32,839 [INFO] 🔍 Detecting objects in: frame_0081.jpg\n"
     ]
    },
    {
     "name": "stdout",
     "output_type": "stream",
     "text": [
      "\n",
      "image 1/1 C:\\Users\\rutik\\frames\\2025-06-02_11-31-19_UTC\\frame_0081.jpg: 640x384 1 person, 2 chairs, 306.4ms\n",
      "Speed: 6.0ms preprocess, 306.4ms inference, 2.6ms postprocess per image at shape (1, 3, 640, 384)\n"
     ]
    },
    {
     "name": "stderr",
     "output_type": "stream",
     "text": [
      "2025-06-04 23:39:33,200 [INFO] 🔍 Detecting objects in: frame_0082.jpg\n"
     ]
    },
    {
     "name": "stdout",
     "output_type": "stream",
     "text": [
      "\n",
      "image 1/1 C:\\Users\\rutik\\frames\\2025-06-02_11-31-19_UTC\\frame_0082.jpg: 640x384 1 person, 2 chairs, 222.4ms\n",
      "Speed: 4.4ms preprocess, 222.4ms inference, 2.7ms postprocess per image at shape (1, 3, 640, 384)\n"
     ]
    },
    {
     "name": "stderr",
     "output_type": "stream",
     "text": [
      "2025-06-04 23:39:33,485 [INFO] 🔍 Detecting objects in: frame_0083.jpg\n"
     ]
    },
    {
     "name": "stdout",
     "output_type": "stream",
     "text": [
      "\n",
      "image 1/1 C:\\Users\\rutik\\frames\\2025-06-02_11-31-19_UTC\\frame_0083.jpg: 640x384 1 person, 1 chair, 222.9ms\n",
      "Speed: 5.0ms preprocess, 222.9ms inference, 2.7ms postprocess per image at shape (1, 3, 640, 384)\n"
     ]
    },
    {
     "name": "stderr",
     "output_type": "stream",
     "text": [
      "2025-06-04 23:39:33,761 [INFO] 🔍 Detecting objects in: frame_0084.jpg\n"
     ]
    },
    {
     "name": "stdout",
     "output_type": "stream",
     "text": [
      "\n",
      "image 1/1 C:\\Users\\rutik\\frames\\2025-06-02_11-31-19_UTC\\frame_0084.jpg: 640x384 1 person, 1 chair, 1 cell phone, 278.0ms\n",
      "Speed: 5.8ms preprocess, 278.0ms inference, 2.9ms postprocess per image at shape (1, 3, 640, 384)\n"
     ]
    },
    {
     "name": "stderr",
     "output_type": "stream",
     "text": [
      "2025-06-04 23:39:34,098 [INFO] 🔍 Detecting objects in: frame_0085.jpg\n"
     ]
    },
    {
     "name": "stdout",
     "output_type": "stream",
     "text": [
      "\n",
      "image 1/1 C:\\Users\\rutik\\frames\\2025-06-02_11-31-19_UTC\\frame_0085.jpg: 640x384 1 person, 333.1ms\n",
      "Speed: 6.6ms preprocess, 333.1ms inference, 2.0ms postprocess per image at shape (1, 3, 640, 384)\n"
     ]
    },
    {
     "name": "stderr",
     "output_type": "stream",
     "text": [
      "2025-06-04 23:39:34,497 [INFO] 🔍 Detecting objects in: frame_0086.jpg\n"
     ]
    },
    {
     "name": "stdout",
     "output_type": "stream",
     "text": [
      "\n",
      "image 1/1 C:\\Users\\rutik\\frames\\2025-06-02_11-31-19_UTC\\frame_0086.jpg: 640x384 1 person, 1 chair, 238.6ms\n",
      "Speed: 6.3ms preprocess, 238.6ms inference, 2.9ms postprocess per image at shape (1, 3, 640, 384)\n"
     ]
    },
    {
     "name": "stderr",
     "output_type": "stream",
     "text": [
      "2025-06-04 23:39:34,789 [INFO] 🔍 Detecting objects in: frame_0087.jpg\n"
     ]
    },
    {
     "name": "stdout",
     "output_type": "stream",
     "text": [
      "\n",
      "image 1/1 C:\\Users\\rutik\\frames\\2025-06-02_11-31-19_UTC\\frame_0087.jpg: 640x384 1 person, 1 chair, 2 cell phones, 233.4ms\n",
      "Speed: 4.6ms preprocess, 233.4ms inference, 2.8ms postprocess per image at shape (1, 3, 640, 384)\n"
     ]
    },
    {
     "name": "stderr",
     "output_type": "stream",
     "text": [
      "2025-06-04 23:39:35,071 [INFO] 🔍 Detecting objects in: frame_0088.jpg\n"
     ]
    },
    {
     "name": "stdout",
     "output_type": "stream",
     "text": [
      "\n",
      "image 1/1 C:\\Users\\rutik\\frames\\2025-06-02_11-31-19_UTC\\frame_0088.jpg: 640x384 1 person, 206.7ms\n",
      "Speed: 3.7ms preprocess, 206.7ms inference, 2.9ms postprocess per image at shape (1, 3, 640, 384)\n"
     ]
    },
    {
     "name": "stderr",
     "output_type": "stream",
     "text": [
      "2025-06-04 23:39:35,325 [INFO] 🔍 Detecting objects in: frame_0089.jpg\n"
     ]
    },
    {
     "name": "stdout",
     "output_type": "stream",
     "text": [
      "\n",
      "image 1/1 C:\\Users\\rutik\\frames\\2025-06-02_11-31-19_UTC\\frame_0089.jpg: 640x384 1 person, 285.0ms\n",
      "Speed: 3.3ms preprocess, 285.0ms inference, 2.7ms postprocess per image at shape (1, 3, 640, 384)\n"
     ]
    },
    {
     "name": "stderr",
     "output_type": "stream",
     "text": [
      "2025-06-04 23:39:35,653 [INFO] 🔍 Detecting objects in: frame_0090.jpg\n"
     ]
    },
    {
     "name": "stdout",
     "output_type": "stream",
     "text": [
      "\n",
      "image 1/1 C:\\Users\\rutik\\frames\\2025-06-02_11-31-19_UTC\\frame_0090.jpg: 640x384 1 person, 346.3ms\n",
      "Speed: 5.3ms preprocess, 346.3ms inference, 2.8ms postprocess per image at shape (1, 3, 640, 384)\n"
     ]
    },
    {
     "name": "stderr",
     "output_type": "stream",
     "text": [
      "2025-06-04 23:39:36,051 [INFO] 🔍 Detecting objects in: frame_0091.jpg\n"
     ]
    },
    {
     "name": "stdout",
     "output_type": "stream",
     "text": [
      "\n",
      "image 1/1 C:\\Users\\rutik\\frames\\2025-06-02_11-31-19_UTC\\frame_0091.jpg: 640x384 1 person, 242.5ms\n",
      "Speed: 6.3ms preprocess, 242.5ms inference, 3.0ms postprocess per image at shape (1, 3, 640, 384)\n"
     ]
    },
    {
     "name": "stderr",
     "output_type": "stream",
     "text": [
      "2025-06-04 23:39:36,352 [INFO] 🔍 Detecting objects in: frame_0092.jpg\n"
     ]
    },
    {
     "name": "stdout",
     "output_type": "stream",
     "text": [
      "\n",
      "image 1/1 C:\\Users\\rutik\\frames\\2025-06-02_11-31-19_UTC\\frame_0092.jpg: 640x384 1 person, 210.8ms\n",
      "Speed: 4.3ms preprocess, 210.8ms inference, 2.7ms postprocess per image at shape (1, 3, 640, 384)\n"
     ]
    },
    {
     "name": "stderr",
     "output_type": "stream",
     "text": [
      "2025-06-04 23:39:36,613 [INFO] 🔍 Detecting objects in: frame_0093.jpg\n"
     ]
    },
    {
     "name": "stdout",
     "output_type": "stream",
     "text": [
      "\n",
      "image 1/1 C:\\Users\\rutik\\frames\\2025-06-02_11-31-19_UTC\\frame_0093.jpg: 640x384 3 persons, 220.4ms\n",
      "Speed: 4.4ms preprocess, 220.4ms inference, 2.7ms postprocess per image at shape (1, 3, 640, 384)\n"
     ]
    },
    {
     "name": "stderr",
     "output_type": "stream",
     "text": [
      "2025-06-04 23:39:36,887 [INFO] 🔍 Detecting objects in: frame_0094.jpg\n"
     ]
    },
    {
     "name": "stdout",
     "output_type": "stream",
     "text": [
      "\n",
      "image 1/1 C:\\Users\\rutik\\frames\\2025-06-02_11-31-19_UTC\\frame_0094.jpg: 640x384 2 persons, 201.9ms\n",
      "Speed: 4.0ms preprocess, 201.9ms inference, 3.2ms postprocess per image at shape (1, 3, 640, 384)\n"
     ]
    },
    {
     "name": "stderr",
     "output_type": "stream",
     "text": [
      "2025-06-04 23:39:37,134 [INFO] 🔍 Detecting objects in: frame_0095.jpg\n"
     ]
    },
    {
     "name": "stdout",
     "output_type": "stream",
     "text": [
      "\n",
      "image 1/1 C:\\Users\\rutik\\frames\\2025-06-02_11-31-19_UTC\\frame_0095.jpg: 640x384 1 person, 275.2ms\n",
      "Speed: 3.9ms preprocess, 275.2ms inference, 3.0ms postprocess per image at shape (1, 3, 640, 384)\n"
     ]
    },
    {
     "name": "stderr",
     "output_type": "stream",
     "text": [
      "2025-06-04 23:39:37,455 [INFO] 🔍 Detecting objects in: frame_0096.jpg\n"
     ]
    },
    {
     "name": "stdout",
     "output_type": "stream",
     "text": [
      "\n",
      "image 1/1 C:\\Users\\rutik\\frames\\2025-06-02_11-31-19_UTC\\frame_0096.jpg: 640x384 1 person, 215.6ms\n",
      "Speed: 4.6ms preprocess, 215.6ms inference, 3.0ms postprocess per image at shape (1, 3, 640, 384)\n"
     ]
    },
    {
     "name": "stderr",
     "output_type": "stream",
     "text": [
      "2025-06-04 23:39:37,723 [INFO] 🔍 Detecting objects in: frame_0097.jpg\n"
     ]
    },
    {
     "name": "stdout",
     "output_type": "stream",
     "text": [
      "\n",
      "image 1/1 C:\\Users\\rutik\\frames\\2025-06-02_11-31-19_UTC\\frame_0097.jpg: 640x384 1 person, 235.5ms\n",
      "Speed: 4.5ms preprocess, 235.5ms inference, 2.5ms postprocess per image at shape (1, 3, 640, 384)\n"
     ]
    },
    {
     "name": "stderr",
     "output_type": "stream",
     "text": [
      "2025-06-04 23:39:38,003 [INFO] 🔍 Detecting objects in: frame_0098.jpg\n"
     ]
    },
    {
     "name": "stdout",
     "output_type": "stream",
     "text": [
      "\n",
      "image 1/1 C:\\Users\\rutik\\frames\\2025-06-02_11-31-19_UTC\\frame_0098.jpg: 640x384 1 person, 244.3ms\n",
      "Speed: 5.4ms preprocess, 244.3ms inference, 2.6ms postprocess per image at shape (1, 3, 640, 384)\n"
     ]
    },
    {
     "name": "stderr",
     "output_type": "stream",
     "text": [
      "2025-06-04 23:39:38,298 [INFO] 🔍 Detecting objects in: frame_0099.jpg\n"
     ]
    },
    {
     "name": "stdout",
     "output_type": "stream",
     "text": [
      "\n",
      "image 1/1 C:\\Users\\rutik\\frames\\2025-06-02_11-31-19_UTC\\frame_0099.jpg: 640x384 1 person, 250.5ms\n",
      "Speed: 6.1ms preprocess, 250.5ms inference, 2.9ms postprocess per image at shape (1, 3, 640, 384)\n"
     ]
    },
    {
     "name": "stderr",
     "output_type": "stream",
     "text": [
      "2025-06-04 23:39:38,601 [INFO] 🔍 Detecting objects in: frame_0100.jpg\n"
     ]
    },
    {
     "name": "stdout",
     "output_type": "stream",
     "text": [
      "\n",
      "image 1/1 C:\\Users\\rutik\\frames\\2025-06-02_11-31-19_UTC\\frame_0100.jpg: 640x384 1 person, 237.9ms\n",
      "Speed: 7.2ms preprocess, 237.9ms inference, 3.0ms postprocess per image at shape (1, 3, 640, 384)\n"
     ]
    },
    {
     "name": "stderr",
     "output_type": "stream",
     "text": [
      "2025-06-04 23:39:38,896 [INFO] 🔍 Detecting objects in: frame_0101.jpg\n"
     ]
    },
    {
     "name": "stdout",
     "output_type": "stream",
     "text": [
      "\n",
      "image 1/1 C:\\Users\\rutik\\frames\\2025-06-02_11-31-19_UTC\\frame_0101.jpg: 640x384 1 person, 246.3ms\n",
      "Speed: 4.6ms preprocess, 246.3ms inference, 2.9ms postprocess per image at shape (1, 3, 640, 384)\n"
     ]
    },
    {
     "name": "stderr",
     "output_type": "stream",
     "text": [
      "2025-06-04 23:39:39,189 [INFO] 🔍 Detecting objects in: frame_0102.jpg\n"
     ]
    },
    {
     "name": "stdout",
     "output_type": "stream",
     "text": [
      "\n",
      "image 1/1 C:\\Users\\rutik\\frames\\2025-06-02_11-31-19_UTC\\frame_0102.jpg: 640x384 1 person, 1 cell phone, 223.7ms\n",
      "Speed: 4.7ms preprocess, 223.7ms inference, 2.7ms postprocess per image at shape (1, 3, 640, 384)\n"
     ]
    },
    {
     "name": "stderr",
     "output_type": "stream",
     "text": [
      "2025-06-04 23:39:39,460 [INFO] 🔍 Detecting objects in: frame_0103.jpg\n"
     ]
    },
    {
     "name": "stdout",
     "output_type": "stream",
     "text": [
      "\n",
      "image 1/1 C:\\Users\\rutik\\frames\\2025-06-02_11-31-19_UTC\\frame_0103.jpg: 640x384 1 person, 225.3ms\n",
      "Speed: 4.5ms preprocess, 225.3ms inference, 2.8ms postprocess per image at shape (1, 3, 640, 384)\n"
     ]
    },
    {
     "name": "stderr",
     "output_type": "stream",
     "text": [
      "2025-06-04 23:39:39,725 [INFO] 🔍 Detecting objects in: frame_0104.jpg\n"
     ]
    },
    {
     "name": "stdout",
     "output_type": "stream",
     "text": [
      "\n",
      "image 1/1 C:\\Users\\rutik\\frames\\2025-06-02_11-31-19_UTC\\frame_0104.jpg: 640x384 2 persons, 1 bed, 249.1ms\n",
      "Speed: 7.9ms preprocess, 249.1ms inference, 2.8ms postprocess per image at shape (1, 3, 640, 384)\n"
     ]
    },
    {
     "name": "stderr",
     "output_type": "stream",
     "text": [
      "2025-06-04 23:39:40,026 [INFO] 🔍 Detecting objects in: frame_0105.jpg\n"
     ]
    },
    {
     "name": "stdout",
     "output_type": "stream",
     "text": [
      "\n",
      "image 1/1 C:\\Users\\rutik\\frames\\2025-06-02_11-31-19_UTC\\frame_0105.jpg: 640x384 2 persons, 1 bed, 260.5ms\n",
      "Speed: 4.8ms preprocess, 260.5ms inference, 3.3ms postprocess per image at shape (1, 3, 640, 384)\n"
     ]
    },
    {
     "name": "stderr",
     "output_type": "stream",
     "text": [
      "2025-06-04 23:39:40,341 [INFO] 🔍 Detecting objects in: frame_0106.jpg\n"
     ]
    },
    {
     "name": "stdout",
     "output_type": "stream",
     "text": [
      "\n",
      "image 1/1 C:\\Users\\rutik\\frames\\2025-06-02_11-31-19_UTC\\frame_0106.jpg: 640x384 2 persons, 202.7ms\n",
      "Speed: 4.7ms preprocess, 202.7ms inference, 2.7ms postprocess per image at shape (1, 3, 640, 384)\n"
     ]
    },
    {
     "name": "stderr",
     "output_type": "stream",
     "text": [
      "2025-06-04 23:39:40,594 [INFO] 🔍 Detecting objects in: frame_0107.jpg\n"
     ]
    },
    {
     "name": "stdout",
     "output_type": "stream",
     "text": [
      "\n",
      "image 1/1 C:\\Users\\rutik\\frames\\2025-06-02_11-31-19_UTC\\frame_0107.jpg: 640x384 1 person, 2 chairs, 230.2ms\n",
      "Speed: 4.2ms preprocess, 230.2ms inference, 3.0ms postprocess per image at shape (1, 3, 640, 384)\n"
     ]
    },
    {
     "name": "stderr",
     "output_type": "stream",
     "text": [
      "2025-06-04 23:39:40,871 [INFO] 🔍 Detecting objects in: frame_0108.jpg\n"
     ]
    },
    {
     "name": "stdout",
     "output_type": "stream",
     "text": [
      "\n",
      "image 1/1 C:\\Users\\rutik\\frames\\2025-06-02_11-31-19_UTC\\frame_0108.jpg: 640x384 1 person, 3 chairs, 221.7ms\n",
      "Speed: 5.1ms preprocess, 221.7ms inference, 3.2ms postprocess per image at shape (1, 3, 640, 384)\n"
     ]
    },
    {
     "name": "stderr",
     "output_type": "stream",
     "text": [
      "2025-06-04 23:39:41,145 [INFO] 🔍 Detecting objects in: frame_0109.jpg\n"
     ]
    },
    {
     "name": "stdout",
     "output_type": "stream",
     "text": [
      "\n",
      "image 1/1 C:\\Users\\rutik\\frames\\2025-06-02_11-31-19_UTC\\frame_0109.jpg: 640x384 1 person, 1 chair, 1 cell phone, 238.1ms\n",
      "Speed: 4.0ms preprocess, 238.1ms inference, 3.1ms postprocess per image at shape (1, 3, 640, 384)\n"
     ]
    },
    {
     "name": "stderr",
     "output_type": "stream",
     "text": [
      "2025-06-04 23:39:41,429 [INFO] 🔍 Detecting objects in: frame_0110.jpg\n"
     ]
    },
    {
     "name": "stdout",
     "output_type": "stream",
     "text": [
      "\n",
      "image 1/1 C:\\Users\\rutik\\frames\\2025-06-02_11-31-19_UTC\\frame_0110.jpg: 640x384 1 person, 2 chairs, 271.3ms\n",
      "Speed: 4.1ms preprocess, 271.3ms inference, 2.7ms postprocess per image at shape (1, 3, 640, 384)\n"
     ]
    },
    {
     "name": "stderr",
     "output_type": "stream",
     "text": [
      "2025-06-04 23:39:41,749 [INFO] 🔍 Detecting objects in: frame_0111.jpg\n"
     ]
    },
    {
     "name": "stdout",
     "output_type": "stream",
     "text": [
      "\n",
      "image 1/1 C:\\Users\\rutik\\frames\\2025-06-02_11-31-19_UTC\\frame_0111.jpg: 640x384 1 person, 2 chairs, 1 cell phone, 352.4ms\n",
      "Speed: 4.3ms preprocess, 352.4ms inference, 4.4ms postprocess per image at shape (1, 3, 640, 384)\n"
     ]
    },
    {
     "name": "stderr",
     "output_type": "stream",
     "text": [
      "2025-06-04 23:39:42,163 [INFO] 🔍 Detecting objects in: frame_0112.jpg\n"
     ]
    },
    {
     "name": "stdout",
     "output_type": "stream",
     "text": [
      "\n",
      "image 1/1 C:\\Users\\rutik\\frames\\2025-06-02_11-31-19_UTC\\frame_0112.jpg: 640x384 1 person, 1 chair, 3 cell phones, 280.1ms\n",
      "Speed: 4.0ms preprocess, 280.1ms inference, 3.5ms postprocess per image at shape (1, 3, 640, 384)\n"
     ]
    },
    {
     "name": "stderr",
     "output_type": "stream",
     "text": [
      "2025-06-04 23:39:42,521 [INFO] 🔍 Detecting objects in: frame_0113.jpg\n"
     ]
    },
    {
     "name": "stdout",
     "output_type": "stream",
     "text": [
      "\n",
      "image 1/1 C:\\Users\\rutik\\frames\\2025-06-02_11-31-19_UTC\\frame_0113.jpg: 640x384 1 person, 1 chair, 254.8ms\n",
      "Speed: 5.8ms preprocess, 254.8ms inference, 2.4ms postprocess per image at shape (1, 3, 640, 384)\n"
     ]
    },
    {
     "name": "stderr",
     "output_type": "stream",
     "text": [
      "2025-06-04 23:39:42,831 [INFO] 🔍 Detecting objects in: frame_0114.jpg\n"
     ]
    },
    {
     "name": "stdout",
     "output_type": "stream",
     "text": [
      "\n",
      "image 1/1 C:\\Users\\rutik\\frames\\2025-06-02_11-31-19_UTC\\frame_0114.jpg: 640x384 1 person, 1 chair, 1 cell phone, 330.8ms\n",
      "Speed: 4.8ms preprocess, 330.8ms inference, 2.8ms postprocess per image at shape (1, 3, 640, 384)\n"
     ]
    },
    {
     "name": "stderr",
     "output_type": "stream",
     "text": [
      "2025-06-04 23:39:43,227 [INFO] 🔍 Detecting objects in: frame_0115.jpg\n"
     ]
    },
    {
     "name": "stdout",
     "output_type": "stream",
     "text": [
      "\n",
      "image 1/1 C:\\Users\\rutik\\frames\\2025-06-02_11-31-19_UTC\\frame_0115.jpg: 640x384 1 person, 1 cell phone, 248.2ms\n",
      "Speed: 6.4ms preprocess, 248.2ms inference, 2.3ms postprocess per image at shape (1, 3, 640, 384)\n"
     ]
    },
    {
     "name": "stderr",
     "output_type": "stream",
     "text": [
      "2025-06-04 23:39:43,526 [INFO] 🔍 Detecting objects in: frame_0116.jpg\n"
     ]
    },
    {
     "name": "stdout",
     "output_type": "stream",
     "text": [
      "\n",
      "image 1/1 C:\\Users\\rutik\\frames\\2025-06-02_11-31-19_UTC\\frame_0116.jpg: 640x384 1 person, 1 chair, 280.0ms\n",
      "Speed: 4.1ms preprocess, 280.0ms inference, 3.0ms postprocess per image at shape (1, 3, 640, 384)\n"
     ]
    },
    {
     "name": "stderr",
     "output_type": "stream",
     "text": [
      "2025-06-04 23:39:43,854 [INFO] 🔍 Detecting objects in: frame_0117.jpg\n"
     ]
    },
    {
     "name": "stdout",
     "output_type": "stream",
     "text": [
      "\n",
      "image 1/1 C:\\Users\\rutik\\frames\\2025-06-02_11-31-19_UTC\\frame_0117.jpg: 640x384 1 person, 1 chair, 234.4ms\n",
      "Speed: 5.2ms preprocess, 234.4ms inference, 2.4ms postprocess per image at shape (1, 3, 640, 384)\n"
     ]
    },
    {
     "name": "stderr",
     "output_type": "stream",
     "text": [
      "2025-06-04 23:39:44,141 [INFO] 🔍 Detecting objects in: frame_0118.jpg\n"
     ]
    },
    {
     "name": "stdout",
     "output_type": "stream",
     "text": [
      "\n",
      "image 1/1 C:\\Users\\rutik\\frames\\2025-06-02_11-31-19_UTC\\frame_0118.jpg: 640x384 1 person, 1 chair, 353.9ms\n",
      "Speed: 4.2ms preprocess, 353.9ms inference, 3.0ms postprocess per image at shape (1, 3, 640, 384)\n"
     ]
    },
    {
     "name": "stderr",
     "output_type": "stream",
     "text": [
      "2025-06-04 23:39:44,546 [INFO] 🔍 Detecting objects in: frame_0119.jpg\n"
     ]
    },
    {
     "name": "stdout",
     "output_type": "stream",
     "text": [
      "\n",
      "image 1/1 C:\\Users\\rutik\\frames\\2025-06-02_11-31-19_UTC\\frame_0119.jpg: 640x384 1 person, 1 chair, 248.5ms\n",
      "Speed: 6.9ms preprocess, 248.5ms inference, 3.0ms postprocess per image at shape (1, 3, 640, 384)\n"
     ]
    },
    {
     "name": "stderr",
     "output_type": "stream",
     "text": [
      "2025-06-04 23:39:44,858 [INFO] 🔍 Detecting objects in: frame_0120.jpg\n"
     ]
    },
    {
     "name": "stdout",
     "output_type": "stream",
     "text": [
      "\n",
      "image 1/1 C:\\Users\\rutik\\frames\\2025-06-02_11-31-19_UTC\\frame_0120.jpg: 640x384 1 person, 1 chair, 226.6ms\n",
      "Speed: 4.6ms preprocess, 226.6ms inference, 2.6ms postprocess per image at shape (1, 3, 640, 384)\n"
     ]
    },
    {
     "name": "stderr",
     "output_type": "stream",
     "text": [
      "2025-06-04 23:39:45,138 [INFO] 🔍 Detecting objects in: frame_0121.jpg\n"
     ]
    },
    {
     "name": "stdout",
     "output_type": "stream",
     "text": [
      "\n",
      "image 1/1 C:\\Users\\rutik\\frames\\2025-06-02_11-31-19_UTC\\frame_0121.jpg: 640x384 1 person, 2 chairs, 193.7ms\n",
      "Speed: 4.1ms preprocess, 193.7ms inference, 2.9ms postprocess per image at shape (1, 3, 640, 384)\n"
     ]
    },
    {
     "name": "stderr",
     "output_type": "stream",
     "text": [
      "2025-06-04 23:39:45,382 [INFO] 🔍 Detecting objects in: frame_0122.jpg\n"
     ]
    },
    {
     "name": "stdout",
     "output_type": "stream",
     "text": [
      "\n",
      "image 1/1 C:\\Users\\rutik\\frames\\2025-06-02_11-31-19_UTC\\frame_0122.jpg: 640x384 1 person, 1 chair, 223.6ms\n",
      "Speed: 4.3ms preprocess, 223.6ms inference, 2.8ms postprocess per image at shape (1, 3, 640, 384)\n"
     ]
    },
    {
     "name": "stderr",
     "output_type": "stream",
     "text": [
      "2025-06-04 23:39:45,655 [INFO] 🔍 Detecting objects in: frame_0123.jpg\n"
     ]
    },
    {
     "name": "stdout",
     "output_type": "stream",
     "text": [
      "\n",
      "image 1/1 C:\\Users\\rutik\\frames\\2025-06-02_11-31-19_UTC\\frame_0123.jpg: 640x384 1 person, 1 chair, 276.9ms\n",
      "Speed: 4.7ms preprocess, 276.9ms inference, 3.0ms postprocess per image at shape (1, 3, 640, 384)\n"
     ]
    },
    {
     "name": "stderr",
     "output_type": "stream",
     "text": [
      "2025-06-04 23:39:45,988 [INFO] 🔍 Detecting objects in: frame_0124.jpg\n"
     ]
    },
    {
     "name": "stdout",
     "output_type": "stream",
     "text": [
      "\n",
      "image 1/1 C:\\Users\\rutik\\frames\\2025-06-02_11-31-19_UTC\\frame_0124.jpg: 640x384 1 person, 1 chair, 226.9ms\n",
      "Speed: 4.4ms preprocess, 226.9ms inference, 2.8ms postprocess per image at shape (1, 3, 640, 384)\n"
     ]
    },
    {
     "name": "stderr",
     "output_type": "stream",
     "text": [
      "2025-06-04 23:39:46,268 [INFO] 🔍 Detecting objects in: frame_0125.jpg\n"
     ]
    },
    {
     "name": "stdout",
     "output_type": "stream",
     "text": [
      "\n",
      "image 1/1 C:\\Users\\rutik\\frames\\2025-06-02_11-31-19_UTC\\frame_0125.jpg: 640x384 1 person, 1 chair, 233.1ms\n",
      "Speed: 4.2ms preprocess, 233.1ms inference, 2.9ms postprocess per image at shape (1, 3, 640, 384)\n"
     ]
    },
    {
     "name": "stderr",
     "output_type": "stream",
     "text": [
      "2025-06-04 23:39:46,551 [INFO] 🔍 Detecting objects in: frame_0126.jpg\n"
     ]
    },
    {
     "name": "stdout",
     "output_type": "stream",
     "text": [
      "\n",
      "image 1/1 C:\\Users\\rutik\\frames\\2025-06-02_11-31-19_UTC\\frame_0126.jpg: 640x384 1 person, 1 chair, 1 remote, 1 cell phone, 270.2ms\n",
      "Speed: 8.0ms preprocess, 270.2ms inference, 3.1ms postprocess per image at shape (1, 3, 640, 384)\n"
     ]
    },
    {
     "name": "stderr",
     "output_type": "stream",
     "text": [
      "2025-06-04 23:39:46,883 [INFO] 🔍 Detecting objects in: frame_0127.jpg\n"
     ]
    },
    {
     "name": "stdout",
     "output_type": "stream",
     "text": [
      "\n",
      "image 1/1 C:\\Users\\rutik\\frames\\2025-06-02_11-31-19_UTC\\frame_0127.jpg: 640x384 1 person, 1 chair, 1 cell phone, 286.8ms\n",
      "Speed: 4.5ms preprocess, 286.8ms inference, 3.3ms postprocess per image at shape (1, 3, 640, 384)\n"
     ]
    },
    {
     "name": "stderr",
     "output_type": "stream",
     "text": [
      "2025-06-04 23:39:47,226 [INFO] 🔍 Detecting objects in: frame_0128.jpg\n"
     ]
    },
    {
     "name": "stdout",
     "output_type": "stream",
     "text": [
      "\n",
      "image 1/1 C:\\Users\\rutik\\frames\\2025-06-02_11-31-19_UTC\\frame_0128.jpg: 640x384 1 person, 2 chairs, 1 cell phone, 293.3ms\n",
      "Speed: 5.9ms preprocess, 293.3ms inference, 3.5ms postprocess per image at shape (1, 3, 640, 384)\n"
     ]
    },
    {
     "name": "stderr",
     "output_type": "stream",
     "text": [
      "2025-06-04 23:39:47,574 [INFO] 🔍 Detecting objects in: frame_0129.jpg\n"
     ]
    },
    {
     "name": "stdout",
     "output_type": "stream",
     "text": [
      "\n",
      "image 1/1 C:\\Users\\rutik\\frames\\2025-06-02_11-31-19_UTC\\frame_0129.jpg: 640x384 1 person, 1 chair, 265.2ms\n",
      "Speed: 5.1ms preprocess, 265.2ms inference, 2.9ms postprocess per image at shape (1, 3, 640, 384)\n"
     ]
    },
    {
     "name": "stderr",
     "output_type": "stream",
     "text": [
      "2025-06-04 23:39:47,887 [INFO] 🔍 Detecting objects in: frame_0130.jpg\n"
     ]
    },
    {
     "name": "stdout",
     "output_type": "stream",
     "text": [
      "\n",
      "image 1/1 C:\\Users\\rutik\\frames\\2025-06-02_11-31-19_UTC\\frame_0130.jpg: 640x384 1 person, 2 chairs, 270.1ms\n",
      "Speed: 7.1ms preprocess, 270.1ms inference, 3.3ms postprocess per image at shape (1, 3, 640, 384)\n"
     ]
    },
    {
     "name": "stderr",
     "output_type": "stream",
     "text": [
      "2025-06-04 23:39:48,207 [INFO] 🔍 Detecting objects in: frame_0131.jpg\n"
     ]
    },
    {
     "name": "stdout",
     "output_type": "stream",
     "text": [
      "\n",
      "image 1/1 C:\\Users\\rutik\\frames\\2025-06-02_11-31-19_UTC\\frame_0131.jpg: 640x384 1 person, 1 chair, 233.0ms\n",
      "Speed: 4.2ms preprocess, 233.0ms inference, 3.0ms postprocess per image at shape (1, 3, 640, 384)\n"
     ]
    },
    {
     "name": "stderr",
     "output_type": "stream",
     "text": [
      "2025-06-04 23:39:48,488 [INFO] 🔍 Detecting objects in: frame_0132.jpg\n"
     ]
    },
    {
     "name": "stdout",
     "output_type": "stream",
     "text": [
      "\n",
      "image 1/1 C:\\Users\\rutik\\frames\\2025-06-02_11-31-19_UTC\\frame_0132.jpg: 640x384 1 person, 1 chair, 336.3ms\n",
      "Speed: 3.8ms preprocess, 336.3ms inference, 3.1ms postprocess per image at shape (1, 3, 640, 384)\n"
     ]
    },
    {
     "name": "stderr",
     "output_type": "stream",
     "text": [
      "2025-06-04 23:39:48,881 [INFO] 🔍 Detecting objects in: frame_0133.jpg\n"
     ]
    },
    {
     "name": "stdout",
     "output_type": "stream",
     "text": [
      "\n",
      "image 1/1 C:\\Users\\rutik\\frames\\2025-06-02_11-31-19_UTC\\frame_0133.jpg: 640x384 1 person, 2 chairs, 275.2ms\n",
      "Speed: 11.9ms preprocess, 275.2ms inference, 2.7ms postprocess per image at shape (1, 3, 640, 384)\n"
     ]
    },
    {
     "name": "stderr",
     "output_type": "stream",
     "text": [
      "2025-06-04 23:39:49,229 [INFO] 🔍 Detecting objects in: frame_0134.jpg\n"
     ]
    },
    {
     "name": "stdout",
     "output_type": "stream",
     "text": [
      "\n",
      "image 1/1 C:\\Users\\rutik\\frames\\2025-06-02_11-31-19_UTC\\frame_0134.jpg: 640x384 1 person, 1 chair, 217.7ms\n",
      "Speed: 4.0ms preprocess, 217.7ms inference, 2.8ms postprocess per image at shape (1, 3, 640, 384)\n"
     ]
    },
    {
     "name": "stderr",
     "output_type": "stream",
     "text": [
      "2025-06-04 23:39:49,500 [INFO] 🔍 Detecting objects in: frame_0135.jpg\n"
     ]
    },
    {
     "name": "stdout",
     "output_type": "stream",
     "text": [
      "\n",
      "image 1/1 C:\\Users\\rutik\\frames\\2025-06-02_11-31-19_UTC\\frame_0135.jpg: 640x384 1 person, 2 chairs, 212.3ms\n",
      "Speed: 4.4ms preprocess, 212.3ms inference, 2.4ms postprocess per image at shape (1, 3, 640, 384)\n"
     ]
    },
    {
     "name": "stderr",
     "output_type": "stream",
     "text": [
      "2025-06-04 23:39:49,760 [INFO] 🔍 Detecting objects in: frame_0136.jpg\n"
     ]
    },
    {
     "name": "stdout",
     "output_type": "stream",
     "text": [
      "\n",
      "image 1/1 C:\\Users\\rutik\\frames\\2025-06-02_11-31-19_UTC\\frame_0136.jpg: 640x384 1 person, 2 chairs, 288.7ms\n",
      "Speed: 5.8ms preprocess, 288.7ms inference, 2.9ms postprocess per image at shape (1, 3, 640, 384)\n"
     ]
    },
    {
     "name": "stderr",
     "output_type": "stream",
     "text": [
      "2025-06-04 23:39:50,100 [INFO] 🔍 Detecting objects in: frame_0137.jpg\n"
     ]
    },
    {
     "name": "stdout",
     "output_type": "stream",
     "text": [
      "\n",
      "image 1/1 C:\\Users\\rutik\\frames\\2025-06-02_11-31-19_UTC\\frame_0137.jpg: 640x384 1 person, 1 chair, 248.5ms\n",
      "Speed: 4.1ms preprocess, 248.5ms inference, 2.8ms postprocess per image at shape (1, 3, 640, 384)\n"
     ]
    },
    {
     "name": "stderr",
     "output_type": "stream",
     "text": [
      "2025-06-04 23:39:50,397 [INFO] 🔍 Detecting objects in: frame_0138.jpg\n"
     ]
    },
    {
     "name": "stdout",
     "output_type": "stream",
     "text": [
      "\n",
      "image 1/1 C:\\Users\\rutik\\frames\\2025-06-02_11-31-19_UTC\\frame_0138.jpg: 640x384 1 person, 2 chairs, 297.8ms\n",
      "Speed: 5.1ms preprocess, 297.8ms inference, 3.2ms postprocess per image at shape (1, 3, 640, 384)\n"
     ]
    },
    {
     "name": "stderr",
     "output_type": "stream",
     "text": [
      "2025-06-04 23:39:50,745 [INFO] 🔍 Detecting objects in: frame_0139.jpg\n"
     ]
    },
    {
     "name": "stdout",
     "output_type": "stream",
     "text": [
      "\n",
      "image 1/1 C:\\Users\\rutik\\frames\\2025-06-02_11-31-19_UTC\\frame_0139.jpg: 640x384 1 person, 1 chair, 1 cell phone, 319.6ms\n",
      "Speed: 5.7ms preprocess, 319.6ms inference, 2.8ms postprocess per image at shape (1, 3, 640, 384)\n"
     ]
    },
    {
     "name": "stderr",
     "output_type": "stream",
     "text": [
      "2025-06-04 23:39:51,117 [INFO] 🔍 Detecting objects in: frame_0140.jpg\n"
     ]
    },
    {
     "name": "stdout",
     "output_type": "stream",
     "text": [
      "\n",
      "image 1/1 C:\\Users\\rutik\\frames\\2025-06-02_11-31-19_UTC\\frame_0140.jpg: 640x384 1 person, 3 chairs, 1 cell phone, 305.8ms\n",
      "Speed: 4.7ms preprocess, 305.8ms inference, 3.0ms postprocess per image at shape (1, 3, 640, 384)\n"
     ]
    },
    {
     "name": "stderr",
     "output_type": "stream",
     "text": [
      "2025-06-04 23:39:51,482 [INFO] 🔍 Detecting objects in: frame_0141.jpg\n"
     ]
    },
    {
     "name": "stdout",
     "output_type": "stream",
     "text": [
      "\n",
      "image 1/1 C:\\Users\\rutik\\frames\\2025-06-02_11-31-19_UTC\\frame_0141.jpg: 640x384 1 person, 3 chairs, 1 cell phone, 295.6ms\n",
      "Speed: 5.0ms preprocess, 295.6ms inference, 3.1ms postprocess per image at shape (1, 3, 640, 384)\n"
     ]
    },
    {
     "name": "stderr",
     "output_type": "stream",
     "text": [
      "2025-06-04 23:39:51,830 [INFO] 🔍 Detecting objects in: frame_0142.jpg\n"
     ]
    },
    {
     "name": "stdout",
     "output_type": "stream",
     "text": [
      "\n",
      "image 1/1 C:\\Users\\rutik\\frames\\2025-06-02_11-31-19_UTC\\frame_0142.jpg: 640x384 1 person, 196.2ms\n",
      "Speed: 4.6ms preprocess, 196.2ms inference, 2.6ms postprocess per image at shape (1, 3, 640, 384)\n"
     ]
    },
    {
     "name": "stderr",
     "output_type": "stream",
     "text": [
      "2025-06-04 23:39:52,075 [INFO] 🔍 Detecting objects in: frame_0143.jpg\n"
     ]
    },
    {
     "name": "stdout",
     "output_type": "stream",
     "text": [
      "\n",
      "image 1/1 C:\\Users\\rutik\\frames\\2025-06-02_11-31-19_UTC\\frame_0143.jpg: 640x384 1 person, 228.1ms\n",
      "Speed: 4.5ms preprocess, 228.1ms inference, 2.4ms postprocess per image at shape (1, 3, 640, 384)\n"
     ]
    },
    {
     "name": "stderr",
     "output_type": "stream",
     "text": [
      "2025-06-04 23:39:52,349 [INFO] 🔍 Detecting objects in: frame_0144.jpg\n"
     ]
    },
    {
     "name": "stdout",
     "output_type": "stream",
     "text": [
      "\n",
      "image 1/1 C:\\Users\\rutik\\frames\\2025-06-02_11-31-19_UTC\\frame_0144.jpg: 640x384 1 person, 208.1ms\n",
      "Speed: 4.3ms preprocess, 208.1ms inference, 2.8ms postprocess per image at shape (1, 3, 640, 384)\n"
     ]
    },
    {
     "name": "stderr",
     "output_type": "stream",
     "text": [
      "2025-06-04 23:39:52,605 [INFO] 🔍 Detecting objects in: frame_0145.jpg\n"
     ]
    },
    {
     "name": "stdout",
     "output_type": "stream",
     "text": [
      "\n",
      "image 1/1 C:\\Users\\rutik\\frames\\2025-06-02_11-31-19_UTC\\frame_0145.jpg: 640x384 1 person, 1 bed, 272.1ms\n",
      "Speed: 4.8ms preprocess, 272.1ms inference, 3.6ms postprocess per image at shape (1, 3, 640, 384)\n"
     ]
    },
    {
     "name": "stderr",
     "output_type": "stream",
     "text": [
      "2025-06-04 23:39:52,923 [INFO] 🔍 Detecting objects in: frame_0146.jpg\n"
     ]
    },
    {
     "name": "stdout",
     "output_type": "stream",
     "text": [
      "\n",
      "image 1/1 C:\\Users\\rutik\\frames\\2025-06-02_11-31-19_UTC\\frame_0146.jpg: 640x384 1 person, 242.5ms\n",
      "Speed: 4.6ms preprocess, 242.5ms inference, 3.0ms postprocess per image at shape (1, 3, 640, 384)\n"
     ]
    },
    {
     "name": "stderr",
     "output_type": "stream",
     "text": [
      "2025-06-04 23:39:53,216 [INFO] 🔍 Detecting objects in: frame_0147.jpg\n"
     ]
    },
    {
     "name": "stdout",
     "output_type": "stream",
     "text": [
      "\n",
      "image 1/1 C:\\Users\\rutik\\frames\\2025-06-02_11-31-19_UTC\\frame_0147.jpg: 640x384 1 person, 229.7ms\n",
      "Speed: 3.6ms preprocess, 229.7ms inference, 3.1ms postprocess per image at shape (1, 3, 640, 384)\n"
     ]
    },
    {
     "name": "stderr",
     "output_type": "stream",
     "text": [
      "2025-06-04 23:39:53,497 [INFO] 🔍 Detecting objects in: frame_0148.jpg\n"
     ]
    },
    {
     "name": "stdout",
     "output_type": "stream",
     "text": [
      "\n",
      "image 1/1 C:\\Users\\rutik\\frames\\2025-06-02_11-31-19_UTC\\frame_0148.jpg: 640x384 1 person, 231.2ms\n",
      "Speed: 3.8ms preprocess, 231.2ms inference, 2.7ms postprocess per image at shape (1, 3, 640, 384)\n"
     ]
    },
    {
     "name": "stderr",
     "output_type": "stream",
     "text": [
      "2025-06-04 23:39:53,786 [INFO] 🔍 Detecting objects in: frame_0149.jpg\n"
     ]
    },
    {
     "name": "stdout",
     "output_type": "stream",
     "text": [
      "\n",
      "image 1/1 C:\\Users\\rutik\\frames\\2025-06-02_11-31-19_UTC\\frame_0149.jpg: 640x384 1 person, 202.7ms\n",
      "Speed: 3.6ms preprocess, 202.7ms inference, 2.5ms postprocess per image at shape (1, 3, 640, 384)\n"
     ]
    },
    {
     "name": "stderr",
     "output_type": "stream",
     "text": [
      "2025-06-04 23:39:54,039 [INFO] 🔍 Detecting objects in: frame_0150.jpg\n"
     ]
    },
    {
     "name": "stdout",
     "output_type": "stream",
     "text": [
      "\n",
      "image 1/1 C:\\Users\\rutik\\frames\\2025-06-02_11-31-19_UTC\\frame_0150.jpg: 640x384 1 person, 1 cell phone, 233.3ms\n",
      "Speed: 6.0ms preprocess, 233.3ms inference, 2.1ms postprocess per image at shape (1, 3, 640, 384)\n"
     ]
    },
    {
     "name": "stderr",
     "output_type": "stream",
     "text": [
      "2025-06-04 23:39:54,313 [INFO] 🔍 Detecting objects in: frame_0151.jpg\n"
     ]
    },
    {
     "name": "stdout",
     "output_type": "stream",
     "text": [
      "\n",
      "image 1/1 C:\\Users\\rutik\\frames\\2025-06-02_11-31-19_UTC\\frame_0151.jpg: 640x384 1 person, 252.2ms\n",
      "Speed: 6.8ms preprocess, 252.2ms inference, 3.2ms postprocess per image at shape (1, 3, 640, 384)\n"
     ]
    },
    {
     "name": "stderr",
     "output_type": "stream",
     "text": [
      "2025-06-04 23:39:54,612 [INFO] 🔍 Detecting objects in: frame_0152.jpg\n"
     ]
    },
    {
     "name": "stdout",
     "output_type": "stream",
     "text": [
      "\n",
      "image 1/1 C:\\Users\\rutik\\frames\\2025-06-02_11-31-19_UTC\\frame_0152.jpg: 640x384 1 person, 192.9ms\n",
      "Speed: 4.2ms preprocess, 192.9ms inference, 2.6ms postprocess per image at shape (1, 3, 640, 384)\n"
     ]
    },
    {
     "name": "stderr",
     "output_type": "stream",
     "text": [
      "2025-06-04 23:39:54,849 [INFO] 🔍 Detecting objects in: frame_0153.jpg\n"
     ]
    },
    {
     "name": "stdout",
     "output_type": "stream",
     "text": [
      "\n",
      "image 1/1 C:\\Users\\rutik\\frames\\2025-06-02_11-31-19_UTC\\frame_0153.jpg: 640x384 1 person, 188.2ms\n",
      "Speed: 3.9ms preprocess, 188.2ms inference, 3.0ms postprocess per image at shape (1, 3, 640, 384)\n"
     ]
    },
    {
     "name": "stderr",
     "output_type": "stream",
     "text": [
      "2025-06-04 23:39:55,084 [INFO] 🔍 Detecting objects in: frame_0154.jpg\n"
     ]
    },
    {
     "name": "stdout",
     "output_type": "stream",
     "text": [
      "\n",
      "image 1/1 C:\\Users\\rutik\\frames\\2025-06-02_11-31-19_UTC\\frame_0154.jpg: 640x384 1 person, 217.1ms\n",
      "Speed: 3.1ms preprocess, 217.1ms inference, 3.1ms postprocess per image at shape (1, 3, 640, 384)\n"
     ]
    },
    {
     "name": "stderr",
     "output_type": "stream",
     "text": [
      "2025-06-04 23:39:55,343 [INFO] 🔍 Detecting objects in: frame_0155.jpg\n"
     ]
    },
    {
     "name": "stdout",
     "output_type": "stream",
     "text": [
      "\n",
      "image 1/1 C:\\Users\\rutik\\frames\\2025-06-02_11-31-19_UTC\\frame_0155.jpg: 640x384 1 person, 241.9ms\n",
      "Speed: 4.0ms preprocess, 241.9ms inference, 2.5ms postprocess per image at shape (1, 3, 640, 384)\n"
     ]
    },
    {
     "name": "stderr",
     "output_type": "stream",
     "text": [
      "2025-06-04 23:39:55,629 [INFO] 🔍 Detecting objects in: frame_0156.jpg\n"
     ]
    },
    {
     "name": "stdout",
     "output_type": "stream",
     "text": [
      "\n",
      "image 1/1 C:\\Users\\rutik\\frames\\2025-06-02_11-31-19_UTC\\frame_0156.jpg: 640x384 1 person, 1 cell phone, 234.5ms\n",
      "Speed: 6.3ms preprocess, 234.5ms inference, 2.8ms postprocess per image at shape (1, 3, 640, 384)\n"
     ]
    },
    {
     "name": "stderr",
     "output_type": "stream",
     "text": [
      "2025-06-04 23:39:55,908 [INFO] 🔍 Detecting objects in: frame_0157.jpg\n"
     ]
    },
    {
     "name": "stdout",
     "output_type": "stream",
     "text": [
      "\n",
      "image 1/1 C:\\Users\\rutik\\frames\\2025-06-02_11-31-19_UTC\\frame_0157.jpg: 640x384 1 person, 1 cell phone, 261.2ms\n",
      "Speed: 3.9ms preprocess, 261.2ms inference, 2.7ms postprocess per image at shape (1, 3, 640, 384)\n"
     ]
    },
    {
     "name": "stderr",
     "output_type": "stream",
     "text": [
      "2025-06-04 23:39:56,215 [INFO] 🔍 Detecting objects in: frame_0158.jpg\n"
     ]
    },
    {
     "name": "stdout",
     "output_type": "stream",
     "text": [
      "\n",
      "image 1/1 C:\\Users\\rutik\\frames\\2025-06-02_11-31-19_UTC\\frame_0158.jpg: 640x384 1 person, 227.5ms\n",
      "Speed: 4.7ms preprocess, 227.5ms inference, 2.8ms postprocess per image at shape (1, 3, 640, 384)\n"
     ]
    },
    {
     "name": "stderr",
     "output_type": "stream",
     "text": [
      "2025-06-04 23:39:56,489 [INFO] 🔍 Detecting objects in: frame_0159.jpg\n"
     ]
    },
    {
     "name": "stdout",
     "output_type": "stream",
     "text": [
      "\n",
      "image 1/1 C:\\Users\\rutik\\frames\\2025-06-02_11-31-19_UTC\\frame_0159.jpg: 640x384 1 person, 1 cell phone, 299.1ms\n",
      "Speed: 4.2ms preprocess, 299.1ms inference, 2.8ms postprocess per image at shape (1, 3, 640, 384)\n"
     ]
    },
    {
     "name": "stderr",
     "output_type": "stream",
     "text": [
      "2025-06-04 23:39:56,834 [INFO] 🔍 Detecting objects in: frame_0160.jpg\n"
     ]
    },
    {
     "name": "stdout",
     "output_type": "stream",
     "text": [
      "\n",
      "image 1/1 C:\\Users\\rutik\\frames\\2025-06-02_11-31-19_UTC\\frame_0160.jpg: 640x384 1 person, 228.2ms\n",
      "Speed: 6.0ms preprocess, 228.2ms inference, 3.0ms postprocess per image at shape (1, 3, 640, 384)\n"
     ]
    },
    {
     "name": "stderr",
     "output_type": "stream",
     "text": [
      "2025-06-04 23:39:57,112 [INFO] 🔍 Detecting objects in: frame_0161.jpg\n"
     ]
    },
    {
     "name": "stdout",
     "output_type": "stream",
     "text": [
      "\n",
      "image 1/1 C:\\Users\\rutik\\frames\\2025-06-02_11-31-19_UTC\\frame_0161.jpg: 640x384 1 person, 195.5ms\n",
      "Speed: 4.0ms preprocess, 195.5ms inference, 2.7ms postprocess per image at shape (1, 3, 640, 384)\n"
     ]
    },
    {
     "name": "stderr",
     "output_type": "stream",
     "text": [
      "2025-06-04 23:39:57,354 [INFO] 🔍 Detecting objects in: frame_0162.jpg\n"
     ]
    },
    {
     "name": "stdout",
     "output_type": "stream",
     "text": [
      "\n",
      "image 1/1 C:\\Users\\rutik\\frames\\2025-06-02_11-31-19_UTC\\frame_0162.jpg: 640x384 1 person, 204.0ms\n",
      "Speed: 3.9ms preprocess, 204.0ms inference, 2.8ms postprocess per image at shape (1, 3, 640, 384)\n"
     ]
    },
    {
     "name": "stderr",
     "output_type": "stream",
     "text": [
      "2025-06-04 23:39:57,604 [INFO] 🔍 Detecting objects in: frame_0163.jpg\n"
     ]
    },
    {
     "name": "stdout",
     "output_type": "stream",
     "text": [
      "\n",
      "image 1/1 C:\\Users\\rutik\\frames\\2025-06-02_11-31-19_UTC\\frame_0163.jpg: 640x384 1 person, 1 cell phone, 225.6ms\n",
      "Speed: 4.3ms preprocess, 225.6ms inference, 2.7ms postprocess per image at shape (1, 3, 640, 384)\n"
     ]
    },
    {
     "name": "stderr",
     "output_type": "stream",
     "text": [
      "2025-06-04 23:39:57,879 [INFO] 🔍 Detecting objects in: frame_0164.jpg\n"
     ]
    },
    {
     "name": "stdout",
     "output_type": "stream",
     "text": [
      "\n",
      "image 1/1 C:\\Users\\rutik\\frames\\2025-06-02_11-31-19_UTC\\frame_0164.jpg: 640x384 1 person, 1 cell phone, 223.7ms\n",
      "Speed: 4.0ms preprocess, 223.7ms inference, 2.3ms postprocess per image at shape (1, 3, 640, 384)\n"
     ]
    },
    {
     "name": "stderr",
     "output_type": "stream",
     "text": [
      "2025-06-04 23:39:58,144 [INFO] 🔍 Detecting objects in: frame_0165.jpg\n"
     ]
    },
    {
     "name": "stdout",
     "output_type": "stream",
     "text": [
      "\n",
      "image 1/1 C:\\Users\\rutik\\frames\\2025-06-02_11-31-19_UTC\\frame_0165.jpg: 640x384 1 person, 1 cell phone, 262.8ms\n",
      "Speed: 5.6ms preprocess, 262.8ms inference, 2.9ms postprocess per image at shape (1, 3, 640, 384)\n"
     ]
    },
    {
     "name": "stderr",
     "output_type": "stream",
     "text": [
      "2025-06-04 23:39:58,456 [INFO] 🔍 Detecting objects in: frame_0166.jpg\n"
     ]
    },
    {
     "name": "stdout",
     "output_type": "stream",
     "text": [
      "\n",
      "image 1/1 C:\\Users\\rutik\\frames\\2025-06-02_11-31-19_UTC\\frame_0166.jpg: 640x384 1 person, 1 cell phone, 201.4ms\n",
      "Speed: 4.4ms preprocess, 201.4ms inference, 2.9ms postprocess per image at shape (1, 3, 640, 384)\n"
     ]
    },
    {
     "name": "stderr",
     "output_type": "stream",
     "text": [
      "2025-06-04 23:39:58,709 [INFO] 🔍 Detecting objects in: frame_0167.jpg\n"
     ]
    },
    {
     "name": "stdout",
     "output_type": "stream",
     "text": [
      "\n",
      "image 1/1 C:\\Users\\rutik\\frames\\2025-06-02_11-31-19_UTC\\frame_0167.jpg: 640x384 1 person, 1 cell phone, 212.7ms\n",
      "Speed: 4.0ms preprocess, 212.7ms inference, 3.6ms postprocess per image at shape (1, 3, 640, 384)\n"
     ]
    },
    {
     "name": "stderr",
     "output_type": "stream",
     "text": [
      "2025-06-04 23:39:58,965 [INFO] 🔍 Detecting objects in: frame_0168.jpg\n"
     ]
    },
    {
     "name": "stdout",
     "output_type": "stream",
     "text": [
      "\n",
      "image 1/1 C:\\Users\\rutik\\frames\\2025-06-02_11-31-19_UTC\\frame_0168.jpg: 640x384 1 person, 1 cell phone, 251.4ms\n",
      "Speed: 10.4ms preprocess, 251.4ms inference, 2.7ms postprocess per image at shape (1, 3, 640, 384)\n"
     ]
    },
    {
     "name": "stderr",
     "output_type": "stream",
     "text": [
      "2025-06-04 23:39:59,276 [INFO] 🔍 Detecting objects in: frame_0169.jpg\n"
     ]
    },
    {
     "name": "stdout",
     "output_type": "stream",
     "text": [
      "\n",
      "image 1/1 C:\\Users\\rutik\\frames\\2025-06-02_11-31-19_UTC\\frame_0169.jpg: 640x384 1 person, 1 cell phone, 199.2ms\n",
      "Speed: 4.0ms preprocess, 199.2ms inference, 2.6ms postprocess per image at shape (1, 3, 640, 384)\n"
     ]
    },
    {
     "name": "stderr",
     "output_type": "stream",
     "text": [
      "2025-06-04 23:39:59,524 [INFO] 🔍 Detecting objects in: frame_0170.jpg\n"
     ]
    },
    {
     "name": "stdout",
     "output_type": "stream",
     "text": [
      "\n",
      "image 1/1 C:\\Users\\rutik\\frames\\2025-06-02_11-31-19_UTC\\frame_0170.jpg: 640x384 1 person, 1 cell phone, 195.0ms\n",
      "Speed: 3.9ms preprocess, 195.0ms inference, 2.8ms postprocess per image at shape (1, 3, 640, 384)\n"
     ]
    },
    {
     "name": "stderr",
     "output_type": "stream",
     "text": [
      "2025-06-04 23:39:59,760 [INFO] 🔍 Detecting objects in: frame_0171.jpg\n"
     ]
    },
    {
     "name": "stdout",
     "output_type": "stream",
     "text": [
      "\n",
      "image 1/1 C:\\Users\\rutik\\frames\\2025-06-02_11-31-19_UTC\\frame_0171.jpg: 640x384 1 person, 1 cell phone, 185.1ms\n",
      "Speed: 3.8ms preprocess, 185.1ms inference, 2.6ms postprocess per image at shape (1, 3, 640, 384)\n"
     ]
    },
    {
     "name": "stderr",
     "output_type": "stream",
     "text": [
      "2025-06-04 23:39:59,994 [INFO] 🔍 Detecting objects in: frame_0172.jpg\n"
     ]
    },
    {
     "name": "stdout",
     "output_type": "stream",
     "text": [
      "\n",
      "image 1/1 C:\\Users\\rutik\\frames\\2025-06-02_11-31-19_UTC\\frame_0172.jpg: 640x384 1 person, 1 cell phone, 260.0ms\n",
      "Speed: 4.2ms preprocess, 260.0ms inference, 2.4ms postprocess per image at shape (1, 3, 640, 384)\n"
     ]
    },
    {
     "name": "stderr",
     "output_type": "stream",
     "text": [
      "2025-06-04 23:40:00,302 [INFO] 🔍 Detecting objects in: frame_0173.jpg\n"
     ]
    },
    {
     "name": "stdout",
     "output_type": "stream",
     "text": [
      "\n",
      "image 1/1 C:\\Users\\rutik\\frames\\2025-06-02_11-31-19_UTC\\frame_0173.jpg: 640x384 1 person, 228.6ms\n",
      "Speed: 4.1ms preprocess, 228.6ms inference, 2.6ms postprocess per image at shape (1, 3, 640, 384)\n"
     ]
    },
    {
     "name": "stderr",
     "output_type": "stream",
     "text": [
      "2025-06-04 23:40:00,580 [INFO] 🔍 Detecting objects in: frame_0174.jpg\n"
     ]
    },
    {
     "name": "stdout",
     "output_type": "stream",
     "text": [
      "\n",
      "image 1/1 C:\\Users\\rutik\\frames\\2025-06-02_11-31-19_UTC\\frame_0174.jpg: 640x384 1 person, 1 cell phone, 221.7ms\n",
      "Speed: 4.6ms preprocess, 221.7ms inference, 1.7ms postprocess per image at shape (1, 3, 640, 384)\n"
     ]
    },
    {
     "name": "stderr",
     "output_type": "stream",
     "text": [
      "2025-06-04 23:40:00,852 [INFO] 🔍 Detecting objects in: frame_0175.jpg\n"
     ]
    },
    {
     "name": "stdout",
     "output_type": "stream",
     "text": [
      "\n",
      "image 1/1 C:\\Users\\rutik\\frames\\2025-06-02_11-31-19_UTC\\frame_0175.jpg: 640x384 1 person, 222.9ms\n",
      "Speed: 4.6ms preprocess, 222.9ms inference, 1.9ms postprocess per image at shape (1, 3, 640, 384)\n"
     ]
    },
    {
     "name": "stderr",
     "output_type": "stream",
     "text": [
      "2025-06-04 23:40:01,117 [INFO] 🔍 Detecting objects in: frame_0176.jpg\n"
     ]
    },
    {
     "name": "stdout",
     "output_type": "stream",
     "text": [
      "\n",
      "image 1/1 C:\\Users\\rutik\\frames\\2025-06-02_11-31-19_UTC\\frame_0176.jpg: 640x384 1 person, 239.1ms\n",
      "Speed: 6.1ms preprocess, 239.1ms inference, 2.8ms postprocess per image at shape (1, 3, 640, 384)\n"
     ]
    },
    {
     "name": "stderr",
     "output_type": "stream",
     "text": [
      "2025-06-04 23:40:01,405 [INFO] 🔍 Detecting objects in: frame_0177.jpg\n"
     ]
    },
    {
     "name": "stdout",
     "output_type": "stream",
     "text": [
      "\n",
      "image 1/1 C:\\Users\\rutik\\frames\\2025-06-02_11-31-19_UTC\\frame_0177.jpg: 640x384 1 person, 207.8ms\n",
      "Speed: 3.9ms preprocess, 207.8ms inference, 2.9ms postprocess per image at shape (1, 3, 640, 384)\n"
     ]
    },
    {
     "name": "stderr",
     "output_type": "stream",
     "text": [
      "2025-06-04 23:40:01,656 [INFO] 🔍 Detecting objects in: frame_0178.jpg\n"
     ]
    },
    {
     "name": "stdout",
     "output_type": "stream",
     "text": [
      "\n",
      "image 1/1 C:\\Users\\rutik\\frames\\2025-06-02_11-31-19_UTC\\frame_0178.jpg: 640x384 1 person, 1 cell phone, 256.5ms\n",
      "Speed: 3.9ms preprocess, 256.5ms inference, 3.2ms postprocess per image at shape (1, 3, 640, 384)\n"
     ]
    },
    {
     "name": "stderr",
     "output_type": "stream",
     "text": [
      "2025-06-04 23:40:01,975 [INFO] 🔍 Detecting objects in: frame_0179.jpg\n"
     ]
    },
    {
     "name": "stdout",
     "output_type": "stream",
     "text": [
      "\n",
      "image 1/1 C:\\Users\\rutik\\frames\\2025-06-02_11-31-19_UTC\\frame_0179.jpg: 640x384 1 person, 1 cell phone, 220.0ms\n",
      "Speed: 4.1ms preprocess, 220.0ms inference, 2.8ms postprocess per image at shape (1, 3, 640, 384)\n"
     ]
    },
    {
     "name": "stderr",
     "output_type": "stream",
     "text": [
      "2025-06-04 23:40:02,247 [INFO] 🔍 Detecting objects in: frame_0180.jpg\n"
     ]
    },
    {
     "name": "stdout",
     "output_type": "stream",
     "text": [
      "\n",
      "image 1/1 C:\\Users\\rutik\\frames\\2025-06-02_11-31-19_UTC\\frame_0180.jpg: 640x384 1 person, 1 cell phone, 276.8ms\n",
      "Speed: 4.3ms preprocess, 276.8ms inference, 3.0ms postprocess per image at shape (1, 3, 640, 384)\n"
     ]
    },
    {
     "name": "stderr",
     "output_type": "stream",
     "text": [
      "2025-06-04 23:40:02,570 [INFO] 🔍 Detecting objects in: frame_0181.jpg\n"
     ]
    },
    {
     "name": "stdout",
     "output_type": "stream",
     "text": [
      "\n",
      "image 1/1 C:\\Users\\rutik\\frames\\2025-06-02_11-31-19_UTC\\frame_0181.jpg: 640x384 1 person, 1 cell phone, 221.6ms\n",
      "Speed: 3.8ms preprocess, 221.6ms inference, 2.7ms postprocess per image at shape (1, 3, 640, 384)\n"
     ]
    },
    {
     "name": "stderr",
     "output_type": "stream",
     "text": [
      "2025-06-04 23:40:02,842 [INFO] 🔍 Detecting objects in: frame_0182.jpg\n"
     ]
    },
    {
     "name": "stdout",
     "output_type": "stream",
     "text": [
      "\n",
      "image 1/1 C:\\Users\\rutik\\frames\\2025-06-02_11-31-19_UTC\\frame_0182.jpg: 640x384 1 person, 1 cell phone, 199.7ms\n",
      "Speed: 4.1ms preprocess, 199.7ms inference, 3.0ms postprocess per image at shape (1, 3, 640, 384)\n"
     ]
    },
    {
     "name": "stderr",
     "output_type": "stream",
     "text": [
      "2025-06-04 23:40:03,093 [INFO] 🔍 Detecting objects in: frame_0183.jpg\n"
     ]
    },
    {
     "name": "stdout",
     "output_type": "stream",
     "text": [
      "\n",
      "image 1/1 C:\\Users\\rutik\\frames\\2025-06-02_11-31-19_UTC\\frame_0183.jpg: 640x384 1 person, 1 cell phone, 218.1ms\n",
      "Speed: 4.3ms preprocess, 218.1ms inference, 2.8ms postprocess per image at shape (1, 3, 640, 384)\n"
     ]
    },
    {
     "name": "stderr",
     "output_type": "stream",
     "text": [
      "2025-06-04 23:40:03,360 [INFO] 🔍 Detecting objects in: frame_0184.jpg\n"
     ]
    },
    {
     "name": "stdout",
     "output_type": "stream",
     "text": [
      "\n",
      "image 1/1 C:\\Users\\rutik\\frames\\2025-06-02_11-31-19_UTC\\frame_0184.jpg: 640x384 (no detections), 235.8ms\n",
      "Speed: 4.5ms preprocess, 235.8ms inference, 1.8ms postprocess per image at shape (1, 3, 640, 384)\n"
     ]
    },
    {
     "name": "stderr",
     "output_type": "stream",
     "text": [
      "2025-06-04 23:40:03,632 [INFO] 🔍 Detecting objects in: frame_0185.jpg\n"
     ]
    },
    {
     "name": "stdout",
     "output_type": "stream",
     "text": [
      "\n",
      "image 1/1 C:\\Users\\rutik\\frames\\2025-06-02_11-31-19_UTC\\frame_0185.jpg: 640x384 (no detections), 267.9ms\n",
      "Speed: 6.0ms preprocess, 267.9ms inference, 1.6ms postprocess per image at shape (1, 3, 640, 384)\n"
     ]
    },
    {
     "name": "stderr",
     "output_type": "stream",
     "text": [
      "2025-06-04 23:40:03,948 [INFO] 🔍 Detecting objects in: frame_0186.jpg\n"
     ]
    },
    {
     "name": "stdout",
     "output_type": "stream",
     "text": [
      "\n",
      "image 1/1 C:\\Users\\rutik\\frames\\2025-06-02_11-31-19_UTC\\frame_0186.jpg: 640x384 (no detections), 237.3ms\n",
      "Speed: 5.2ms preprocess, 237.3ms inference, 1.8ms postprocess per image at shape (1, 3, 640, 384)\n"
     ]
    },
    {
     "name": "stderr",
     "output_type": "stream",
     "text": [
      "2025-06-04 23:40:04,224 [INFO] 🔍 Detecting objects in: frame_0187.jpg\n"
     ]
    },
    {
     "name": "stdout",
     "output_type": "stream",
     "text": [
      "\n",
      "image 1/1 C:\\Users\\rutik\\frames\\2025-06-02_11-31-19_UTC\\frame_0187.jpg: 640x384 (no detections), 193.7ms\n",
      "Speed: 3.7ms preprocess, 193.7ms inference, 1.7ms postprocess per image at shape (1, 3, 640, 384)\n"
     ]
    },
    {
     "name": "stderr",
     "output_type": "stream",
     "text": [
      "2025-06-04 23:40:04,458 [INFO] 🔍 Detecting objects in: frame_0188.jpg\n"
     ]
    },
    {
     "name": "stdout",
     "output_type": "stream",
     "text": [
      "\n",
      "image 1/1 C:\\Users\\rutik\\frames\\2025-06-02_11-31-19_UTC\\frame_0188.jpg: 640x384 (no detections), 350.5ms\n",
      "Speed: 4.6ms preprocess, 350.5ms inference, 1.8ms postprocess per image at shape (1, 3, 640, 384)\n"
     ]
    },
    {
     "name": "stderr",
     "output_type": "stream",
     "text": [
      "2025-06-04 23:40:04,849 [INFO] 🔍 Detecting objects in: frame_0189.jpg\n"
     ]
    },
    {
     "name": "stdout",
     "output_type": "stream",
     "text": [
      "\n",
      "image 1/1 C:\\Users\\rutik\\frames\\2025-06-02_11-31-19_UTC\\frame_0189.jpg: 640x384 (no detections), 205.0ms\n",
      "Speed: 6.7ms preprocess, 205.0ms inference, 1.8ms postprocess per image at shape (1, 3, 640, 384)\n"
     ]
    },
    {
     "name": "stderr",
     "output_type": "stream",
     "text": [
      "2025-06-04 23:40:05,097 [INFO] 🔍 Detecting objects in: frame_0190.jpg\n"
     ]
    },
    {
     "name": "stdout",
     "output_type": "stream",
     "text": [
      "\n",
      "image 1/1 C:\\Users\\rutik\\frames\\2025-06-02_11-31-19_UTC\\frame_0190.jpg: 640x384 (no detections), 203.0ms\n",
      "Speed: 4.0ms preprocess, 203.0ms inference, 1.7ms postprocess per image at shape (1, 3, 640, 384)\n"
     ]
    },
    {
     "name": "stderr",
     "output_type": "stream",
     "text": [
      "2025-06-04 23:40:05,337 [INFO] 🔍 Detecting objects in: frame_0191.jpg\n"
     ]
    },
    {
     "name": "stdout",
     "output_type": "stream",
     "text": [
      "\n",
      "image 1/1 C:\\Users\\rutik\\frames\\2025-06-02_11-31-19_UTC\\frame_0191.jpg: 640x384 (no detections), 264.6ms\n",
      "Speed: 4.4ms preprocess, 264.6ms inference, 1.6ms postprocess per image at shape (1, 3, 640, 384)\n"
     ]
    },
    {
     "name": "stderr",
     "output_type": "stream",
     "text": [
      "2025-06-04 23:40:05,642 [INFO] 🔍 Detecting objects in: frame_0192.jpg\n"
     ]
    },
    {
     "name": "stdout",
     "output_type": "stream",
     "text": [
      "\n",
      "image 1/1 C:\\Users\\rutik\\frames\\2025-06-02_11-31-19_UTC\\frame_0192.jpg: 640x384 (no detections), 210.8ms\n",
      "Speed: 2.9ms preprocess, 210.8ms inference, 2.0ms postprocess per image at shape (1, 3, 640, 384)\n"
     ]
    },
    {
     "name": "stderr",
     "output_type": "stream",
     "text": [
      "2025-06-04 23:40:05,886 [INFO] 🔍 Detecting objects in: frame_0193.jpg\n"
     ]
    },
    {
     "name": "stdout",
     "output_type": "stream",
     "text": [
      "\n",
      "image 1/1 C:\\Users\\rutik\\frames\\2025-06-02_11-31-19_UTC\\frame_0193.jpg: 640x384 (no detections), 232.8ms\n",
      "Speed: 4.2ms preprocess, 232.8ms inference, 1.8ms postprocess per image at shape (1, 3, 640, 384)\n"
     ]
    },
    {
     "name": "stderr",
     "output_type": "stream",
     "text": [
      "2025-06-04 23:40:06,176 [INFO] ✅ Saved: outputs\\2025-06-02_11-31-19_UTC.json\n"
     ]
    }
   ],
   "source": [
    "detect_all_videos(frames_dir=\"frames\", output_dir=\"outputs\")"
   ]
  },
  {
   "cell_type": "code",
   "execution_count": 5,
   "id": "33eca6e2-808c-4bb4-9e9e-d09ec5193275",
   "metadata": {},
   "outputs": [],
   "source": [
    "import os\n",
    "import cv2\n",
    "import torch\n",
    "from ultralytics import YOLO\n",
    "from glob import glob\n",
    "import json\n",
    "\n",
    "# Load YOLOv8 model\n",
    "model = YOLO(\"yolov8s.pt\")\n",
    "\n",
    "FASHION_CLASSES = [\n",
    "    \"person\", \"handbag\", \"backpack\", \"tie\", \"suitcase\",\n",
    "    \"umbrella\", \"shoe\", \"sandals\"\n",
    "]\n",
    "\n",
    "def detect_objects_in_video(video_path, output_json_path, confidence=0.3):\n",
    "    cap = cv2.VideoCapture(video_path)\n",
    "    frame_id = 0\n",
    "    detections = {}\n",
    "\n",
    "    while True:\n",
    "        ret, frame = cap.read()\n",
    "        if not ret:\n",
    "            break\n",
    "        results = model.predict(source=frame, conf=confidence, verbose=False)[0]\n",
    "\n",
    "        frame_detections = []\n",
    "        for box in results.boxes.data.tolist():\n",
    "            x1, y1, x2, y2, score, cls = box\n",
    "            class_name = model.names[int(cls)]\n",
    "            if class_name not in FASHION_CLASSES:\n",
    "                continue\n",
    "            frame_detections.append({\n",
    "                \"bbox\": [int(x1), int(y1), int(x2), int(y2)],\n",
    "                \"score\": float(score),\n",
    "                \"label\": class_name\n",
    "            })\n",
    "\n",
    "        if frame_detections:\n",
    "            detections[str(frame_id)] = frame_detections\n",
    "\n",
    "        frame_id += 1\n",
    "\n",
    "    cap.release()\n",
    "    with open(output_json_path, \"w\") as f:\n",
    "        json.dump(detections, f, indent=2)\n",
    "    print(f\"✅ Saved detection to {output_json_path}\")\n",
    "\n",
    "def detect_all_videos(input_dir=\"videos\", output_dir=\"outputs\"):\n",
    "    os.makedirs(output_dir, exist_ok=True)\n",
    "    for video_path in glob(f\"{input_dir}/*.mp4\"):\n",
    "        filename = os.path.basename(video_path).replace(\".mp4\", \".json\")\n",
    "        output_path = os.path.join(output_dir, filename)\n",
    "        detect_objects_in_video(video_path, output_path)\n",
    "\n",
    "if __name__ == \"__main__\":\n",
    "    detect_all_videos()\n"
   ]
  },
  {
   "cell_type": "code",
   "execution_count": 7,
   "id": "94f75d5a-6191-491f-b760-048ac888ac9f",
   "metadata": {},
   "outputs": [],
   "source": [
    "detect_all_videos(input_dir=\"frames\", output_dir=\"outputs\")"
   ]
  },
  {
   "cell_type": "code",
   "execution_count": 8,
   "id": "afa7d285-2231-4068-8152-18028cf71055",
   "metadata": {},
   "outputs": [],
   "source": [
    "# Run detection on all frame folders\n",
    "from ultralytics import YOLO\n",
    "import os\n",
    "import json\n",
    "from glob import glob\n",
    "import cv2\n",
    "\n",
    "# Load YOLOv8 model\n",
    "model = YOLO(\"yolov8s.pt\")\n",
    "\n",
    "FASHION_CLASSES = [\n",
    "    \"person\", \"handbag\", \"backpack\", \"tie\", \"suitcase\",\n",
    "    \"umbrella\", \"shoe\", \"sandals\"\n",
    "]\n",
    "\n",
    "def detect_objects_in_video(video_path, output_json_path, confidence=0.3):\n",
    "    cap = cv2.VideoCapture(video_path)\n",
    "    frame_id = 0\n",
    "    detections = {}\n",
    "\n",
    "    while True:\n",
    "        ret, frame = cap.read()\n",
    "        if not ret:\n",
    "            break\n",
    "        results = model.predict(source=frame, conf=confidence, verbose=False)[0]\n",
    "\n",
    "        frame_detections = []\n",
    "        for box in results.boxes.data.tolist():\n",
    "            x1, y1, x2, y2, score, cls = box\n",
    "            class_name = model.names[int(cls)]\n",
    "            if class_name not in FASHION_CLASSES:\n",
    "                continue\n",
    "            frame_detections.append({\n",
    "                \"bbox\": [int(x1), int(y1), int(x2), int(y2)],\n",
    "                \"score\": float(score),\n",
    "                \"label\": class_name\n",
    "            })\n",
    "\n",
    "        if frame_detections:\n",
    "            detections[str(frame_id)] = frame_detections\n",
    "        frame_id += 1\n",
    "\n",
    "    cap.release()\n",
    "    with open(output_json_path, \"w\") as f:\n",
    "        json.dump(detections, f, indent=2)\n",
    "    print(f\"✅ Saved: {output_json_path}\")\n",
    "\n",
    "def detect_all_videos(input_dir=\"frames\", output_dir=\"outputs\"):\n",
    "    os.makedirs(output_dir, exist_ok=True)\n",
    "    for folder in os.listdir(input_dir):\n",
    "        frame_folder = os.path.join(input_dir, folder)\n",
    "        if not os.path.isdir(frame_folder):\n",
    "            continue\n",
    "        # use a dummy video path (just for naming)\n",
    "        output_path = os.path.join(output_dir, f\"{folder}.json\")\n",
    "        detect_objects_in_frame_folder(frame_folder, output_path)\n",
    "\n",
    "def detect_objects_in_frame_folder(frame_folder, output_json_path):\n",
    "    frame_files = sorted([f for f in os.listdir(frame_folder) if f.endswith(\".jpg\")])\n",
    "    detections = []\n",
    "    for i, frame_name in enumerate(frame_files):\n",
    "        frame_path = os.path.join(frame_folder, frame_name)\n",
    "        results = model.predict(source=frame_path, conf=0.3, verbose=False)[0]\n",
    "        frame_detections = {\"frame\": frame_name, \"detections\": []}\n",
    "        for box in results.boxes:\n",
    "            cls_id = int(box.cls[0])\n",
    "            class_name = results.names[cls_id]\n",
    "            if class_name not in FASHION_CLASSES:\n",
    "                continue\n",
    "            frame_detections[\"detections\"].append({\n",
    "                \"class_id\": cls_id,\n",
    "                \"class_name\": class_name,\n",
    "                \"confidence\": round(float(box.conf[0]), 3),\n",
    "                \"bbox\": [round(x, 2) for x in box.xywh[0].tolist()]\n",
    "            })\n",
    "        detections.append(frame_detections)\n",
    "\n",
    "    with open(output_json_path, \"w\") as f:\n",
    "        json.dump(detections, f, indent=2)\n",
    "    print(f\"✅ Saved detection JSON to: {output_json_path}\")\n"
   ]
  },
  {
   "cell_type": "code",
   "execution_count": 9,
   "id": "22c840d0-e4cb-43f6-8223-f33b897a25b4",
   "metadata": {},
   "outputs": [
    {
     "name": "stdout",
     "output_type": "stream",
     "text": [
      "✅ Saved detection JSON to: outputs\\2025-05-22_08-25-12_UTC.json\n",
      "✅ Saved detection JSON to: outputs\\2025-05-27_13-46-16_UTC.json\n",
      "✅ Saved detection JSON to: outputs\\2025-05-28_13-40-09_UTC.json\n",
      "✅ Saved detection JSON to: outputs\\2025-05-28_13-42-32_UTC.json\n",
      "✅ Saved detection JSON to: outputs\\2025-05-31_14-01-37_UTC.json\n",
      "✅ Saved detection JSON to: outputs\\2025-06-02_11-31-19_UTC.json\n"
     ]
    }
   ],
   "source": [
    "detect_all_videos(input_dir=\"frames\", output_dir=\"outputs\")\n"
   ]
  },
  {
   "cell_type": "code",
   "execution_count": null,
   "id": "b9773a7f-3325-4bf3-84e5-92244a4ed291",
   "metadata": {},
   "outputs": [],
   "source": []
  }
 ],
 "metadata": {
  "kernelspec": {
   "display_name": "Python 3 (ipykernel)",
   "language": "python",
   "name": "python3"
  },
  "language_info": {
   "codemirror_mode": {
    "name": "ipython",
    "version": 3
   },
   "file_extension": ".py",
   "mimetype": "text/x-python",
   "name": "python",
   "nbconvert_exporter": "python",
   "pygments_lexer": "ipython3",
   "version": "3.12.7"
  }
 },
 "nbformat": 4,
 "nbformat_minor": 5
}
