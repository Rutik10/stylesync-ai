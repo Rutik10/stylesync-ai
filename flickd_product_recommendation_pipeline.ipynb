{
 "cells": [
  {
   "cell_type": "code",
   "execution_count": 6,
   "id": "85129cf4-53a1-4807-a9c2-194cf5333e5d",
   "metadata": {
    "scrolled": true
   },
   "outputs": [
    {
     "name": "stdout",
     "output_type": "stream",
     "text": [
      "🗑️ Removed old cached embeddings.\n",
      "🧠 Generating catalog embeddings from scratch...\n"
     ]
    },
    {
     "name": "stderr",
     "output_type": "stream",
     "text": [
      "  0%|▎                                                                            | 46/11689 [00:26<1:18:48,  2.46it/s]"
     ]
    },
    {
     "name": "stdout",
     "output_type": "stream",
     "text": [
      "⚠️ Failed to process image: cannot identify image file <_io.BytesIO object at 0x00000294D3877C90>\n",
      "⚠️ Failed to process image: cannot identify image file <_io.BytesIO object at 0x00000294B07C2C50>\n"
     ]
    },
    {
     "name": "stderr",
     "output_type": "stream",
     "text": [
      "  0%|▎                                                                              | 48/11689 [00:26<58:00,  3.34it/s]"
     ]
    },
    {
     "name": "stdout",
     "output_type": "stream",
     "text": [
      "⚠️ Failed to process image: cannot identify image file <_io.BytesIO object at 0x00000294D3877C90>\n",
      "⚠️ Failed to process image: cannot identify image file <_io.BytesIO object at 0x00000294B07C2C50>\n"
     ]
    },
    {
     "name": "stderr",
     "output_type": "stream",
     "text": [
      "  0%|▎                                                                              | 50/11689 [00:27<46:15,  4.19it/s]"
     ]
    },
    {
     "name": "stdout",
     "output_type": "stream",
     "text": [
      "⚠️ Failed to process image: cannot identify image file <_io.BytesIO object at 0x00000294D3877C90>\n",
      "⚠️ Failed to process image: cannot identify image file <_io.BytesIO object at 0x00000294B07C2C50>\n"
     ]
    },
    {
     "name": "stderr",
     "output_type": "stream",
     "text": [
      "  0%|▎                                                                              | 51/11689 [00:27<39:57,  4.85it/s]"
     ]
    },
    {
     "name": "stdout",
     "output_type": "stream",
     "text": [
      "⚠️ Failed to process image: cannot identify image file <_io.BytesIO object at 0x00000294D3877C90>\n"
     ]
    },
    {
     "name": "stderr",
     "output_type": "stream",
     "text": [
      "  0%|▍                                                                            | 57/11689 [00:30<1:20:24,  2.41it/s]"
     ]
    },
    {
     "name": "stdout",
     "output_type": "stream",
     "text": [
      "⚠️ Failed to process image: cannot identify image file <_io.BytesIO object at 0x00000294D39EB1F0>\n",
      "⚠️ Failed to process image: cannot identify image file <_io.BytesIO object at 0x00000294B3037F60>\n"
     ]
    },
    {
     "name": "stderr",
     "output_type": "stream",
     "text": [
      "  1%|▍                                                                              | 60/11689 [00:30<48:56,  3.96it/s]"
     ]
    },
    {
     "name": "stdout",
     "output_type": "stream",
     "text": [
      "⚠️ Failed to process image: cannot identify image file <_io.BytesIO object at 0x00000294D38346D0>\n",
      "⚠️ Failed to process image: cannot identify image file <_io.BytesIO object at 0x00000294D3834040>\n"
     ]
    },
    {
     "name": "stderr",
     "output_type": "stream",
     "text": [
      "  1%|▍                                                                              | 61/11689 [00:31<43:58,  4.41it/s]"
     ]
    },
    {
     "name": "stdout",
     "output_type": "stream",
     "text": [
      "⚠️ Failed to process image: cannot identify image file <_io.BytesIO object at 0x00000294D39E8CC0>\n"
     ]
    },
    {
     "name": "stderr",
     "output_type": "stream",
     "text": [
      "  1%|▍                                                                              | 62/11689 [00:31<44:00,  4.40it/s]"
     ]
    },
    {
     "name": "stdout",
     "output_type": "stream",
     "text": [
      "⚠️ Failed to process image: cannot identify image file <_io.BytesIO object at 0x00000294D3834450>\n"
     ]
    },
    {
     "name": "stderr",
     "output_type": "stream",
     "text": [
      "  1%|▍                                                                              | 65/11689 [00:32<41:37,  4.65it/s]"
     ]
    },
    {
     "name": "stdout",
     "output_type": "stream",
     "text": [
      "⚠️ Failed to process image: cannot identify image file <_io.BytesIO object at 0x00000294B3037E70>\n",
      "⚠️ Failed to process image: cannot identify image file <_io.BytesIO object at 0x00000294D3834450>\n"
     ]
    },
    {
     "name": "stderr",
     "output_type": "stream",
     "text": [
      "  1%|▍                                                                              | 68/11689 [00:33<47:44,  4.06it/s]"
     ]
    },
    {
     "name": "stdout",
     "output_type": "stream",
     "text": [
      "⚠️ Failed to process image: cannot identify image file <_io.BytesIO object at 0x00000294D3834450>\n",
      "⚠️ Failed to process image: cannot identify image file <_io.BytesIO object at 0x00000294AF67D530>\n"
     ]
    },
    {
     "name": "stderr",
     "output_type": "stream",
     "text": [
      "  1%|▋                                                                           | 107/11689 [00:55<1:27:13,  2.21it/s]"
     ]
    },
    {
     "name": "stdout",
     "output_type": "stream",
     "text": [
      "⚠️ Failed to process image: cannot identify image file <_io.BytesIO object at 0x00000294D39E8450>\n",
      "⚠️ Failed to process image: cannot identify image file <_io.BytesIO object at 0x00000294D39EB1F0>\n"
     ]
    },
    {
     "name": "stderr",
     "output_type": "stream",
     "text": [
      "  1%|▋                                                                             | 110/11689 [00:56<55:16,  3.49it/s]"
     ]
    },
    {
     "name": "stdout",
     "output_type": "stream",
     "text": [
      "⚠️ Failed to process image: cannot identify image file <_io.BytesIO object at 0x00000294D39E8450>\n",
      "⚠️ Failed to process image: cannot identify image file <_io.BytesIO object at 0x00000294D39EB1F0>\n"
     ]
    },
    {
     "name": "stderr",
     "output_type": "stream",
     "text": [
      "  1%|▋                                                                             | 111/11689 [00:56<51:05,  3.78it/s]"
     ]
    },
    {
     "name": "stdout",
     "output_type": "stream",
     "text": [
      "⚠️ Failed to process image: cannot identify image file <_io.BytesIO object at 0x00000294D39E8450>\n"
     ]
    },
    {
     "name": "stderr",
     "output_type": "stream",
     "text": [
      "  1%|▊                                                                             | 113/11689 [00:56<46:17,  4.17it/s]"
     ]
    },
    {
     "name": "stdout",
     "output_type": "stream",
     "text": [
      "⚠️ Failed to process image: cannot identify image file <_io.BytesIO object at 0x00000294D39E9A80>\n",
      "⚠️ Failed to process image: cannot identify image file <_io.BytesIO object at 0x00000294D39EA160>\n"
     ]
    },
    {
     "name": "stderr",
     "output_type": "stream",
     "text": [
      "  1%|▊                                                                             | 122/11689 [01:00<53:27,  3.61it/s]"
     ]
    },
    {
     "name": "stdout",
     "output_type": "stream",
     "text": [
      "⚠️ Failed to process image: cannot identify image file <_io.BytesIO object at 0x00000294D39EA160>\n",
      "⚠️ Failed to process image: cannot identify image file <_io.BytesIO object at 0x00000294D39E8450>\n",
      "⚠️ Failed to process image: cannot identify image file <_io.BytesIO object at 0x00000294D39EA160>\n"
     ]
    },
    {
     "name": "stderr",
     "output_type": "stream",
     "text": [
      "  1%|▊                                                                             | 125/11689 [01:01<53:20,  3.61it/s]"
     ]
    },
    {
     "name": "stdout",
     "output_type": "stream",
     "text": [
      "⚠️ Failed to process image: cannot identify image file <_io.BytesIO object at 0x00000294D39EA160>\n",
      "⚠️ Failed to process image: cannot identify image file <_io.BytesIO object at 0x00000294D39E8450>\n"
     ]
    },
    {
     "name": "stderr",
     "output_type": "stream",
     "text": [
      "  1%|▊                                                                           | 127/11689 [01:02<1:02:22,  3.09it/s]"
     ]
    },
    {
     "name": "stdout",
     "output_type": "stream",
     "text": [
      "⚠️ Failed to process image: cannot identify image file <_io.BytesIO object at 0x00000294D39E8450>\n"
     ]
    },
    {
     "name": "stderr",
     "output_type": "stream",
     "text": [
      "  1%|▉                                                                           | 137/11689 [01:07<1:08:03,  2.83it/s]"
     ]
    },
    {
     "name": "stdout",
     "output_type": "stream",
     "text": [
      "⚠️ Failed to process image: cannot identify image file <_io.BytesIO object at 0x00000294D39E8810>\n",
      "⚠️ Failed to process image: cannot identify image file <_io.BytesIO object at 0x00000294D39E8450>\n"
     ]
    },
    {
     "name": "stderr",
     "output_type": "stream",
     "text": [
      "  1%|▉                                                                             | 139/11689 [01:07<48:28,  3.97it/s]"
     ]
    },
    {
     "name": "stdout",
     "output_type": "stream",
     "text": [
      "⚠️ Failed to process image: cannot identify image file <_io.BytesIO object at 0x00000294B3037D30>\n",
      "⚠️ Failed to process image: cannot identify image file <_io.BytesIO object at 0x00000294B3037EC0>\n"
     ]
    },
    {
     "name": "stderr",
     "output_type": "stream",
     "text": [
      "  1%|▉                                                                             | 141/11689 [01:07<44:22,  4.34it/s]"
     ]
    },
    {
     "name": "stdout",
     "output_type": "stream",
     "text": [
      "⚠️ Failed to process image: cannot identify image file <_io.BytesIO object at 0x00000294D39E8810>\n",
      "⚠️ Failed to process image: cannot identify image file <_io.BytesIO object at 0x00000294D39E8450>\n"
     ]
    },
    {
     "name": "stderr",
     "output_type": "stream",
     "text": [
      "  1%|▉                                                                             | 143/11689 [01:08<41:48,  4.60it/s]"
     ]
    },
    {
     "name": "stdout",
     "output_type": "stream",
     "text": [
      "⚠️ Failed to process image: cannot identify image file <_io.BytesIO object at 0x00000294B3037D30>\n",
      "⚠️ Failed to process image: cannot identify image file <_io.BytesIO object at 0x00000294B3037EC0>\n"
     ]
    },
    {
     "name": "stderr",
     "output_type": "stream",
     "text": [
      "  1%|▉                                                                             | 144/11689 [01:08<38:23,  5.01it/s]"
     ]
    },
    {
     "name": "stdout",
     "output_type": "stream",
     "text": [
      "⚠️ Failed to process image: cannot identify image file <_io.BytesIO object at 0x00000294D39E8810>\n"
     ]
    },
    {
     "name": "stderr",
     "output_type": "stream",
     "text": [
      "  1%|█                                                                           | 158/11689 [01:15<1:17:07,  2.49it/s]"
     ]
    },
    {
     "name": "stdout",
     "output_type": "stream",
     "text": [
      "⚠️ Failed to process image: cannot identify image file <_io.BytesIO object at 0x00000294B3037D30>\n"
     ]
    },
    {
     "name": "stderr",
     "output_type": "stream",
     "text": [
      "  1%|█                                                                             | 160/11689 [01:16<54:29,  3.53it/s]"
     ]
    },
    {
     "name": "stdout",
     "output_type": "stream",
     "text": [
      "⚠️ Failed to process image: cannot identify image file <_io.BytesIO object at 0x00000294B3037EC0>\n",
      "⚠️ Failed to process image: cannot identify image file <_io.BytesIO object at 0x00000294B3037D30>\n"
     ]
    },
    {
     "name": "stderr",
     "output_type": "stream",
     "text": [
      "  1%|█                                                                             | 162/11689 [01:16<48:54,  3.93it/s]"
     ]
    },
    {
     "name": "stdout",
     "output_type": "stream",
     "text": [
      "⚠️ Failed to process image: cannot identify image file <_io.BytesIO object at 0x00000294B3037EC0>\n",
      "⚠️ Failed to process image: cannot identify image file <_io.BytesIO object at 0x00000294B3037D30>\n"
     ]
    },
    {
     "name": "stderr",
     "output_type": "stream",
     "text": [
      "  1%|█                                                                             | 163/11689 [01:16<46:01,  4.17it/s]"
     ]
    },
    {
     "name": "stdout",
     "output_type": "stream",
     "text": [
      "⚠️ Failed to process image: cannot identify image file <_io.BytesIO object at 0x00000294B3037EC0>\n"
     ]
    },
    {
     "name": "stderr",
     "output_type": "stream",
     "text": [
      "  2%|█▎                                                                          | 206/11689 [01:40<1:37:26,  1.96it/s]"
     ]
    },
    {
     "name": "stdout",
     "output_type": "stream",
     "text": [
      "⚠️ Failed to process image: cannot identify image file <_io.BytesIO object at 0x00000294B3037D30>\n"
     ]
    },
    {
     "name": "stderr",
     "output_type": "stream",
     "text": [
      "  2%|█▎                                                                          | 210/11689 [01:43<1:37:27,  1.96it/s]"
     ]
    },
    {
     "name": "stdout",
     "output_type": "stream",
     "text": [
      "⚠️ Failed to process image: cannot identify image file <_io.BytesIO object at 0x00000294B3037D30>\n"
     ]
    },
    {
     "name": "stderr",
     "output_type": "stream",
     "text": [
      " 16%|███████████▋                                                               | 1823/11689 [17:11<1:12:31,  2.27it/s]"
     ]
    },
    {
     "name": "stdout",
     "output_type": "stream",
     "text": [
      "⚠️ Failed to process image: cannot identify image file <_io.BytesIO object at 0x00000294B08EAC00>\n"
     ]
    },
    {
     "name": "stderr",
     "output_type": "stream",
     "text": [
      " 16%|████████████                                                               | 1872/11689 [17:40<1:25:11,  1.92it/s]"
     ]
    },
    {
     "name": "stdout",
     "output_type": "stream",
     "text": [
      "⚠️ Failed to process image: cannot identify image file <_io.BytesIO object at 0x00000294B08D9940>\n",
      "⚠️ Failed to process image: cannot identify image file <_io.BytesIO object at 0x00000294B08D9850>\n"
     ]
    },
    {
     "name": "stderr",
     "output_type": "stream",
     "text": [
      " 16%|████████████▏                                                              | 1907/11689 [18:00<1:19:31,  2.05it/s]"
     ]
    },
    {
     "name": "stdout",
     "output_type": "stream",
     "text": [
      "⚠️ Failed to process image: cannot identify image file <_io.BytesIO object at 0x00000294B08DB330>\n",
      "⚠️ Failed to process image: cannot identify image file <_io.BytesIO object at 0x00000294B08D9940>\n"
     ]
    },
    {
     "name": "stderr",
     "output_type": "stream",
     "text": [
      " 17%|████████████▌                                                              | 1960/11689 [18:30<1:24:04,  1.93it/s]"
     ]
    },
    {
     "name": "stdout",
     "output_type": "stream",
     "text": [
      "⚠️ Failed to process image: cannot identify image file <_io.BytesIO object at 0x00000294B08D7420>\n"
     ]
    },
    {
     "name": "stderr",
     "output_type": "stream",
     "text": [
      " 17%|████████████▌                                                              | 1961/11689 [18:31<1:19:08,  2.05it/s]"
     ]
    },
    {
     "name": "stdout",
     "output_type": "stream",
     "text": [
      "⚠️ Failed to process image: cannot identify image file <_io.BytesIO object at 0x00000294B08D7420>\n"
     ]
    },
    {
     "name": "stderr",
     "output_type": "stream",
     "text": [
      " 17%|█████████████                                                              | 2030/11689 [19:11<1:00:18,  2.67it/s]"
     ]
    },
    {
     "name": "stdout",
     "output_type": "stream",
     "text": [
      "⚠️ Failed to process image: cannot identify image file <_io.BytesIO object at 0x00000294B08D9940>\n",
      "⚠️ Failed to process image: cannot identify image file <_io.BytesIO object at 0x00000294B08D7420>\n"
     ]
    },
    {
     "name": "stderr",
     "output_type": "stream",
     "text": [
      " 17%|█████████████▍                                                               | 2031/11689 [19:11<50:01,  3.22it/s]"
     ]
    },
    {
     "name": "stdout",
     "output_type": "stream",
     "text": [
      "⚠️ Failed to process image: cannot identify image file <_io.BytesIO object at 0x00000294B08D9940>\n"
     ]
    },
    {
     "name": "stderr",
     "output_type": "stream",
     "text": [
      " 17%|█████████████▍                                                               | 2032/11689 [19:11<46:53,  3.43it/s]"
     ]
    },
    {
     "name": "stdout",
     "output_type": "stream",
     "text": [
      "⚠️ Failed to process image: cannot identify image file <_io.BytesIO object at 0x00000294B08D7420>\n"
     ]
    },
    {
     "name": "stderr",
     "output_type": "stream",
     "text": [
      " 17%|█████████████▍                                                               | 2034/11689 [19:12<39:49,  4.04it/s]"
     ]
    },
    {
     "name": "stdout",
     "output_type": "stream",
     "text": [
      "⚠️ Failed to process image: cannot identify image file <_io.BytesIO object at 0x00000294B08D9940>\n",
      "⚠️ Failed to process image: cannot identify image file <_io.BytesIO object at 0x00000294B08D7420>\n"
     ]
    },
    {
     "name": "stderr",
     "output_type": "stream",
     "text": [
      " 17%|█████████████▍                                                               | 2035/11689 [19:12<34:58,  4.60it/s]"
     ]
    },
    {
     "name": "stdout",
     "output_type": "stream",
     "text": [
      "⚠️ Failed to process image: cannot identify image file <_io.BytesIO object at 0x00000294B08D9940>\n"
     ]
    },
    {
     "name": "stderr",
     "output_type": "stream",
     "text": [
      " 17%|█████████████▍                                                               | 2038/11689 [19:12<27:04,  5.94it/s]"
     ]
    },
    {
     "name": "stdout",
     "output_type": "stream",
     "text": [
      "⚠️ Failed to process image: cannot identify image file <_io.BytesIO object at 0x00000294B08D7420>\n",
      "⚠️ Failed to process image: cannot identify image file <_io.BytesIO object at 0x00000294B08D9940>\n",
      "⚠️ Failed to process image: cannot identify image file <_io.BytesIO object at 0x00000294B08D7420>\n"
     ]
    },
    {
     "name": "stderr",
     "output_type": "stream",
     "text": [
      " 17%|█████████████▍                                                               | 2040/11689 [19:13<27:26,  5.86it/s]"
     ]
    },
    {
     "name": "stdout",
     "output_type": "stream",
     "text": [
      "⚠️ Failed to process image: cannot identify image file <_io.BytesIO object at 0x00000294B08D9940>\n",
      "⚠️ Failed to process image: cannot identify image file <_io.BytesIO object at 0x00000294B08D7420>\n"
     ]
    },
    {
     "name": "stderr",
     "output_type": "stream",
     "text": [
      " 17%|█████████████▍                                                               | 2041/11689 [19:13<32:09,  5.00it/s]"
     ]
    },
    {
     "name": "stdout",
     "output_type": "stream",
     "text": [
      "⚠️ Failed to process image: cannot identify image file <_io.BytesIO object at 0x00000294B08D9940>\n"
     ]
    },
    {
     "name": "stderr",
     "output_type": "stream",
     "text": [
      " 18%|█████████████▎                                                             | 2079/11689 [19:35<1:12:33,  2.21it/s]"
     ]
    },
    {
     "name": "stdout",
     "output_type": "stream",
     "text": [
      "⚠️ Failed to process image: cannot identify image file <_io.BytesIO object at 0x00000294B08D11C0>\n",
      "⚠️ Failed to process image: cannot identify image file <_io.BytesIO object at 0x00000294B08D2480>\n"
     ]
    },
    {
     "name": "stderr",
     "output_type": "stream",
     "text": [
      " 18%|█████████████▋                                                               | 2081/11689 [19:35<50:54,  3.15it/s]"
     ]
    },
    {
     "name": "stdout",
     "output_type": "stream",
     "text": [
      "⚠️ Failed to process image: cannot identify image file <_io.BytesIO object at 0x00000294B08D11C0>\n"
     ]
    },
    {
     "name": "stderr",
     "output_type": "stream",
     "text": [
      " 18%|█████████████▋                                                               | 2083/11689 [19:36<59:05,  2.71it/s]"
     ]
    },
    {
     "name": "stdout",
     "output_type": "stream",
     "text": [
      "⚠️ Failed to process image: cannot identify image file <_io.BytesIO object at 0x00000294B08D11C0>\n"
     ]
    },
    {
     "name": "stderr",
     "output_type": "stream",
     "text": [
      " 18%|█████████████▋                                                               | 2084/11689 [19:36<56:04,  2.85it/s]"
     ]
    },
    {
     "name": "stdout",
     "output_type": "stream",
     "text": [
      "⚠️ Failed to process image: cannot identify image file <_io.BytesIO object at 0x00000294B08D2480>\n"
     ]
    },
    {
     "name": "stderr",
     "output_type": "stream",
     "text": [
      " 18%|█████████████▍                                                             | 2085/11689 [19:37<1:00:46,  2.63it/s]"
     ]
    },
    {
     "name": "stdout",
     "output_type": "stream",
     "text": [
      "⚠️ Failed to process image: cannot identify image file <_io.BytesIO object at 0x00000294B08D2480>\n"
     ]
    },
    {
     "name": "stderr",
     "output_type": "stream",
     "text": [
      " 18%|█████████████▋                                                             | 2141/11689 [20:08<1:09:40,  2.28it/s]"
     ]
    },
    {
     "name": "stdout",
     "output_type": "stream",
     "text": [
      "⚠️ Failed to process image: cannot identify image file <_io.BytesIO object at 0x00000294B08D3600>\n"
     ]
    },
    {
     "name": "stderr",
     "output_type": "stream",
     "text": [
      " 18%|██████████████                                                               | 2143/11689 [20:09<53:01,  3.00it/s]"
     ]
    },
    {
     "name": "stdout",
     "output_type": "stream",
     "text": [
      "⚠️ Failed to process image: cannot identify image file <_io.BytesIO object at 0x00000294B08D2BB0>\n",
      "⚠️ Failed to process image: cannot identify image file <_io.BytesIO object at 0x00000294B08D1260>\n"
     ]
    },
    {
     "name": "stderr",
     "output_type": "stream",
     "text": [
      " 18%|██████████████                                                               | 2144/11689 [20:09<43:28,  3.66it/s]"
     ]
    },
    {
     "name": "stdout",
     "output_type": "stream",
     "text": [
      "⚠️ Failed to process image: cannot identify image file <_io.BytesIO object at 0x00000294B08D3600>\n"
     ]
    },
    {
     "name": "stderr",
     "output_type": "stream",
     "text": [
      " 18%|██████████████▏                                                              | 2146/11689 [20:09<40:17,  3.95it/s]"
     ]
    },
    {
     "name": "stdout",
     "output_type": "stream",
     "text": [
      "⚠️ Failed to process image: cannot identify image file <_io.BytesIO object at 0x00000294B08D2BB0>\n",
      "⚠️ Failed to process image: cannot identify image file <_io.BytesIO object at 0x00000294B08D1260>\n"
     ]
    },
    {
     "name": "stderr",
     "output_type": "stream",
     "text": [
      " 19%|██████████████                                                             | 2182/11689 [20:29<1:20:08,  1.98it/s]"
     ]
    },
    {
     "name": "stdout",
     "output_type": "stream",
     "text": [
      "⚠️ Failed to process image: cannot identify image file <_io.BytesIO object at 0x00000294B08D1260>\n",
      "⚠️ Failed to process image: cannot identify image file <_io.BytesIO object at 0x00000294B08D56C0>\n"
     ]
    },
    {
     "name": "stderr",
     "output_type": "stream",
     "text": [
      " 23%|█████████████████▏                                                         | 2684/11689 [25:18<1:11:00,  2.11it/s]"
     ]
    },
    {
     "name": "stdout",
     "output_type": "stream",
     "text": [
      "⚠️ Failed to process image: cannot identify image file <_io.BytesIO object at 0x00000294B08ABC40>\n",
      "⚠️ Failed to process image: cannot identify image file <_io.BytesIO object at 0x00000294B08A84A0>\n"
     ]
    },
    {
     "name": "stderr",
     "output_type": "stream",
     "text": [
      " 23%|█████████████████▋                                                           | 2686/11689 [25:19<52:25,  2.86it/s]"
     ]
    },
    {
     "name": "stdout",
     "output_type": "stream",
     "text": [
      "⚠️ Failed to process image: cannot identify image file <_io.BytesIO object at 0x00000294B08ABC40>\n"
     ]
    },
    {
     "name": "stderr",
     "output_type": "stream",
     "text": [
      " 23%|█████████████████▋                                                           | 2688/11689 [25:19<48:22,  3.10it/s]"
     ]
    },
    {
     "name": "stdout",
     "output_type": "stream",
     "text": [
      "⚠️ Failed to process image: cannot identify image file <_io.BytesIO object at 0x00000294B08A84A0>\n",
      "⚠️ Failed to process image: cannot identify image file <_io.BytesIO object at 0x00000294B08ABC40>\n"
     ]
    },
    {
     "name": "stderr",
     "output_type": "stream",
     "text": [
      " 23%|█████████████████▋                                                           | 2689/11689 [25:20<40:18,  3.72it/s]"
     ]
    },
    {
     "name": "stdout",
     "output_type": "stream",
     "text": [
      "⚠️ Failed to process image: cannot identify image file <_io.BytesIO object at 0x00000294B08A84A0>\n"
     ]
    },
    {
     "name": "stderr",
     "output_type": "stream",
     "text": [
      " 23%|█████████████████▋                                                           | 2691/11689 [25:20<34:25,  4.36it/s]"
     ]
    },
    {
     "name": "stdout",
     "output_type": "stream",
     "text": [
      "⚠️ Failed to process image: cannot identify image file <_io.BytesIO object at 0x00000294B08ABC40>\n",
      "⚠️ Failed to process image: cannot identify image file <_io.BytesIO object at 0x00000294B08AA570>\n"
     ]
    },
    {
     "name": "stderr",
     "output_type": "stream",
     "text": [
      " 23%|█████████████████▋                                                           | 2693/11689 [25:20<31:20,  4.78it/s]"
     ]
    },
    {
     "name": "stdout",
     "output_type": "stream",
     "text": [
      "⚠️ Failed to process image: cannot identify image file <_io.BytesIO object at 0x00000294B08A93F0>\n",
      "⚠️ Failed to process image: cannot identify image file <_io.BytesIO object at 0x00000294B08A84A0>\n",
      "⚠️ Failed to process image: cannot identify image file <_io.BytesIO object at 0x00000294B08ABC40>\n"
     ]
    },
    {
     "name": "stderr",
     "output_type": "stream",
     "text": [
      " 23%|█████████████████▊                                                           | 2712/11689 [25:30<55:13,  2.71it/s]"
     ]
    },
    {
     "name": "stdout",
     "output_type": "stream",
     "text": [
      "⚠️ Failed to process image: cannot identify image file <_io.BytesIO object at 0x00000294B08AB9C0>\n",
      "⚠️ Failed to process image: cannot identify image file <_io.BytesIO object at 0x00000294B3058AE0>\n"
     ]
    },
    {
     "name": "stderr",
     "output_type": "stream",
     "text": [
      " 23%|█████████████████▉                                                           | 2714/11689 [25:30<42:23,  3.53it/s]"
     ]
    },
    {
     "name": "stdout",
     "output_type": "stream",
     "text": [
      "⚠️ Failed to process image: cannot identify image file <_io.BytesIO object at 0x00000294B08ABEC0>\n",
      "⚠️ Failed to process image: cannot identify image file <_io.BytesIO object at 0x00000294B08AB9C0>\n"
     ]
    },
    {
     "name": "stderr",
     "output_type": "stream",
     "text": [
      " 23%|█████████████████▉                                                           | 2716/11689 [25:31<34:44,  4.30it/s]"
     ]
    },
    {
     "name": "stdout",
     "output_type": "stream",
     "text": [
      "⚠️ Failed to process image: cannot identify image file <_io.BytesIO object at 0x00000294B3058AE0>\n",
      "⚠️ Failed to process image: cannot identify image file <_io.BytesIO object at 0x00000294B08ABEC0>\n"
     ]
    },
    {
     "name": "stderr",
     "output_type": "stream",
     "text": [
      " 23%|█████████████████▉                                                           | 2717/11689 [25:31<35:36,  4.20it/s]"
     ]
    },
    {
     "name": "stdout",
     "output_type": "stream",
     "text": [
      "⚠️ Failed to process image: cannot identify image file <_io.BytesIO object at 0x00000294B08AB9C0>\n",
      "⚠️ Failed to process image: cannot identify image file <_io.BytesIO object at 0x00000294B3058AE0>\n"
     ]
    },
    {
     "name": "stderr",
     "output_type": "stream",
     "text": [
      " 23%|█████████████████▉                                                           | 2720/11689 [25:32<42:00,  3.56it/s]"
     ]
    },
    {
     "name": "stdout",
     "output_type": "stream",
     "text": [
      "⚠️ Failed to process image: cannot identify image file <_io.BytesIO object at 0x00000294B3058AE0>\n"
     ]
    },
    {
     "name": "stderr",
     "output_type": "stream",
     "text": [
      " 23%|█████████████████▉                                                           | 2722/11689 [25:32<33:28,  4.46it/s]"
     ]
    },
    {
     "name": "stdout",
     "output_type": "stream",
     "text": [
      "⚠️ Failed to process image: cannot identify image file <_io.BytesIO object at 0x00000294B08ABEC0>\n",
      "⚠️ Failed to process image: cannot identify image file <_io.BytesIO object at 0x00000294B3058AE0>\n"
     ]
    },
    {
     "name": "stderr",
     "output_type": "stream",
     "text": [
      " 23%|█████████████████▉                                                           | 2724/11689 [25:33<27:10,  5.50it/s]"
     ]
    },
    {
     "name": "stdout",
     "output_type": "stream",
     "text": [
      "⚠️ Failed to process image: cannot identify image file <_io.BytesIO object at 0x00000294B08ABEC0>\n",
      "⚠️ Failed to process image: cannot identify image file <_io.BytesIO object at 0x00000294B3058AE0>\n"
     ]
    },
    {
     "name": "stderr",
     "output_type": "stream",
     "text": [
      " 23%|█████████████████▉                                                           | 2725/11689 [25:33<27:32,  5.43it/s]"
     ]
    },
    {
     "name": "stdout",
     "output_type": "stream",
     "text": [
      "⚠️ Failed to process image: cannot identify image file <_io.BytesIO object at 0x00000294B08ABEC0>\n"
     ]
    },
    {
     "name": "stderr",
     "output_type": "stream",
     "text": [
      " 23%|█████████████████▌                                                         | 2743/11689 [25:42<1:12:12,  2.06it/s]"
     ]
    },
    {
     "name": "stdout",
     "output_type": "stream",
     "text": [
      "⚠️ Failed to process image: cannot identify image file <_io.BytesIO object at 0x00000294B08ABEC0>\n",
      "⚠️ Failed to process image: cannot identify image file <_io.BytesIO object at 0x00000294B08A93F0>\n"
     ]
    },
    {
     "name": "stderr",
     "output_type": "stream",
     "text": [
      " 23%|██████████████████                                                           | 2746/11689 [25:43<42:12,  3.53it/s]"
     ]
    },
    {
     "name": "stdout",
     "output_type": "stream",
     "text": [
      "⚠️ Failed to process image: cannot identify image file <_io.BytesIO object at 0x00000294B08AE570>\n",
      "⚠️ Failed to process image: cannot identify image file <_io.BytesIO object at 0x00000294B08A93F0>\n"
     ]
    },
    {
     "name": "stderr",
     "output_type": "stream",
     "text": [
      " 24%|██████████████████                                                           | 2747/11689 [25:43<41:36,  3.58it/s]"
     ]
    },
    {
     "name": "stdout",
     "output_type": "stream",
     "text": [
      "⚠️ Failed to process image: cannot identify image file <_io.BytesIO object at 0x00000294B08ABEC0>\n"
     ]
    },
    {
     "name": "stderr",
     "output_type": "stream",
     "text": [
      " 24%|██████████████████                                                           | 2748/11689 [25:43<38:45,  3.84it/s]"
     ]
    },
    {
     "name": "stdout",
     "output_type": "stream",
     "text": [
      "⚠️ Failed to process image: cannot identify image file <_io.BytesIO object at 0x00000294B08AE570>\n",
      "⚠️ Failed to process image: cannot identify image file <_io.BytesIO object at 0x00000294B08A93F0>\n"
     ]
    },
    {
     "name": "stderr",
     "output_type": "stream",
     "text": [
      " 24%|██████████████████                                                           | 2750/11689 [25:44<31:35,  4.72it/s]"
     ]
    },
    {
     "name": "stdout",
     "output_type": "stream",
     "text": [
      "⚠️ Failed to process image: cannot identify image file <_io.BytesIO object at 0x00000294B08ABEC0>\n"
     ]
    },
    {
     "name": "stderr",
     "output_type": "stream",
     "text": [
      " 24%|██████████████████▏                                                          | 2758/11689 [25:46<32:57,  4.52it/s]"
     ]
    },
    {
     "name": "stdout",
     "output_type": "stream",
     "text": [
      "⚠️ Failed to process image: cannot identify image file <_io.BytesIO object at 0x00000294B08AE570>\n",
      "⚠️ Failed to process image: cannot identify image file <_io.BytesIO object at 0x00000294B08ABEC0>\n",
      "⚠️ Failed to process image: cannot identify image file <_io.BytesIO object at 0x00000294B08AE570>\n"
     ]
    },
    {
     "name": "stderr",
     "output_type": "stream",
     "text": [
      " 24%|██████████████████▏                                                          | 2759/11689 [25:47<33:12,  4.48it/s]"
     ]
    },
    {
     "name": "stdout",
     "output_type": "stream",
     "text": [
      "⚠️ Failed to process image: cannot identify image file <_io.BytesIO object at 0x00000294B08ABEC0>\n"
     ]
    },
    {
     "name": "stderr",
     "output_type": "stream",
     "text": [
      " 24%|██████████████████▏                                                          | 2760/11689 [25:47<33:21,  4.46it/s]"
     ]
    },
    {
     "name": "stdout",
     "output_type": "stream",
     "text": [
      "⚠️ Failed to process image: cannot identify image file <_io.BytesIO object at 0x00000294B08AA980>\n"
     ]
    },
    {
     "name": "stderr",
     "output_type": "stream",
     "text": [
      " 24%|██████████████████▏                                                          | 2761/11689 [25:47<33:25,  4.45it/s]"
     ]
    },
    {
     "name": "stdout",
     "output_type": "stream",
     "text": [
      "⚠️ Failed to process image: cannot identify image file <_io.BytesIO object at 0x00000294B08AE570>\n"
     ]
    },
    {
     "name": "stderr",
     "output_type": "stream",
     "text": [
      " 24%|██████████████████▏                                                          | 2763/11689 [25:47<28:58,  5.13it/s]"
     ]
    },
    {
     "name": "stdout",
     "output_type": "stream",
     "text": [
      "⚠️ Failed to process image: cannot identify image file <_io.BytesIO object at 0x00000294B08ABEC0>\n",
      "⚠️ Failed to process image: cannot identify image file <_io.BytesIO object at 0x00000294B08AA980>\n",
      "⚠️ Failed to process image: cannot identify image file <_io.BytesIO object at 0x00000294B08AE570>\n"
     ]
    },
    {
     "name": "stderr",
     "output_type": "stream",
     "text": [
      " 24%|██████████████████▏                                                          | 2765/11689 [25:48<26:00,  5.72it/s]"
     ]
    },
    {
     "name": "stdout",
     "output_type": "stream",
     "text": [
      "⚠️ Failed to process image: cannot identify image file <_io.BytesIO object at 0x00000294B08ABEC0>\n"
     ]
    },
    {
     "name": "stderr",
     "output_type": "stream",
     "text": [
      " 24%|██████████████████▌                                                          | 2815/11689 [26:15<52:31,  2.82it/s]"
     ]
    },
    {
     "name": "stdout",
     "output_type": "stream",
     "text": [
      "⚠️ Failed to process image: cannot identify image file <_io.BytesIO object at 0x00000294B08A9BC0>\n",
      "⚠️ Failed to process image: cannot identify image file <_io.BytesIO object at 0x00000294B08AA980>\n"
     ]
    },
    {
     "name": "stderr",
     "output_type": "stream",
     "text": [
      " 24%|██████████████████▌                                                          | 2816/11689 [26:16<59:41,  2.48it/s]"
     ]
    },
    {
     "name": "stdout",
     "output_type": "stream",
     "text": [
      "⚠️ Failed to process image: cannot identify image file <_io.BytesIO object at 0x00000294B08ABC40>\n"
     ]
    },
    {
     "name": "stderr",
     "output_type": "stream",
     "text": [
      " 24%|██████████████████▌                                                          | 2817/11689 [26:16<53:27,  2.77it/s]"
     ]
    },
    {
     "name": "stdout",
     "output_type": "stream",
     "text": [
      "⚠️ Failed to process image: cannot identify image file <_io.BytesIO object at 0x00000294B08AB9C0>\n"
     ]
    },
    {
     "name": "stderr",
     "output_type": "stream",
     "text": [
      " 24%|██████████████████▌                                                          | 2818/11689 [26:16<47:05,  3.14it/s]"
     ]
    },
    {
     "name": "stdout",
     "output_type": "stream",
     "text": [
      "⚠️ Failed to process image: cannot identify image file <_io.BytesIO object at 0x00000294B08A9BC0>\n"
     ]
    },
    {
     "name": "stderr",
     "output_type": "stream",
     "text": [
      " 24%|██████████████████▌                                                          | 2820/11689 [26:17<42:17,  3.50it/s]"
     ]
    },
    {
     "name": "stdout",
     "output_type": "stream",
     "text": [
      "⚠️ Failed to process image: cannot identify image file <_io.BytesIO object at 0x00000294B08AA980>\n",
      "⚠️ Failed to process image: cannot identify image file <_io.BytesIO object at 0x00000294B08ABC40>\n"
     ]
    },
    {
     "name": "stderr",
     "output_type": "stream",
     "text": [
      " 24%|██████████████████▌                                                          | 2822/11689 [26:17<38:49,  3.81it/s]"
     ]
    },
    {
     "name": "stdout",
     "output_type": "stream",
     "text": [
      "⚠️ Failed to process image: cannot identify image file <_io.BytesIO object at 0x00000294B08AB9C0>\n",
      "⚠️ Failed to process image: cannot identify image file <_io.BytesIO object at 0x00000294B08A9BC0>\n"
     ]
    },
    {
     "name": "stderr",
     "output_type": "stream",
     "text": [
      " 24%|██████████████████▌                                                          | 2823/11689 [26:17<39:12,  3.77it/s]"
     ]
    },
    {
     "name": "stdout",
     "output_type": "stream",
     "text": [
      "⚠️ Failed to process image: cannot identify image file <_io.BytesIO object at 0x00000294B08AA980>\n"
     ]
    },
    {
     "name": "stderr",
     "output_type": "stream",
     "text": [
      " 24%|██████████████████▋                                                          | 2828/11689 [26:19<45:59,  3.21it/s]"
     ]
    },
    {
     "name": "stdout",
     "output_type": "stream",
     "text": [
      "⚠️ Failed to process image: cannot identify image file <_io.BytesIO object at 0x00000294B08A9BC0>\n",
      "⚠️ Failed to process image: cannot identify image file <_io.BytesIO object at 0x00000294B08AA980>\n"
     ]
    },
    {
     "name": "stderr",
     "output_type": "stream",
     "text": [
      " 24%|██████████████████▋                                                          | 2831/11689 [26:20<32:07,  4.60it/s]"
     ]
    },
    {
     "name": "stdout",
     "output_type": "stream",
     "text": [
      "⚠️ Failed to process image: cannot identify image file <_io.BytesIO object at 0x00000294B08A9BC0>\n",
      "⚠️ Failed to process image: cannot identify image file <_io.BytesIO object at 0x00000294B08AA980>\n"
     ]
    },
    {
     "name": "stderr",
     "output_type": "stream",
     "text": [
      " 24%|██████████████████▋                                                          | 2833/11689 [26:20<31:20,  4.71it/s]"
     ]
    },
    {
     "name": "stdout",
     "output_type": "stream",
     "text": [
      "⚠️ Failed to process image: cannot identify image file <_io.BytesIO object at 0x00000294B08A9BC0>\n",
      "⚠️ Failed to process image: cannot identify image file <_io.BytesIO object at 0x00000294B08AA980>\n"
     ]
    },
    {
     "name": "stderr",
     "output_type": "stream",
     "text": [
      " 24%|██████████████████▋                                                          | 2834/11689 [26:20<28:18,  5.21it/s]"
     ]
    },
    {
     "name": "stdout",
     "output_type": "stream",
     "text": [
      "⚠️ Failed to process image: cannot identify image file <_io.BytesIO object at 0x00000294B08A9BC0>\n"
     ]
    },
    {
     "name": "stderr",
     "output_type": "stream",
     "text": [
      " 24%|██████████████████▋                                                          | 2836/11689 [26:21<27:56,  5.28it/s]"
     ]
    },
    {
     "name": "stdout",
     "output_type": "stream",
     "text": [
      "⚠️ Failed to process image: cannot identify image file <_io.BytesIO object at 0x00000294B08AA980>\n",
      "⚠️ Failed to process image: cannot identify image file <_io.BytesIO object at 0x00000294B08A9BC0>\n"
     ]
    },
    {
     "name": "stderr",
     "output_type": "stream",
     "text": [
      " 24%|██████████████████▊                                                          | 2848/11689 [26:26<59:29,  2.48it/s]"
     ]
    },
    {
     "name": "stdout",
     "output_type": "stream",
     "text": [
      "⚠️ Failed to process image: cannot identify image file <_io.BytesIO object at 0x00000294B08AA980>\n"
     ]
    },
    {
     "name": "stderr",
     "output_type": "stream",
     "text": [
      " 24%|██████████████████▊                                                          | 2849/11689 [26:26<54:58,  2.68it/s]"
     ]
    },
    {
     "name": "stdout",
     "output_type": "stream",
     "text": [
      "⚠️ Failed to process image: cannot identify image file <_io.BytesIO object at 0x00000294B08A93F0>\n"
     ]
    },
    {
     "name": "stderr",
     "output_type": "stream",
     "text": [
      " 24%|██████████████████▊                                                          | 2851/11689 [26:27<41:36,  3.54it/s]"
     ]
    },
    {
     "name": "stdout",
     "output_type": "stream",
     "text": [
      "⚠️ Failed to process image: cannot identify image file <_io.BytesIO object at 0x00000294B08AA980>\n",
      "⚠️ Failed to process image: cannot identify image file <_io.BytesIO object at 0x00000294B08A93F0>\n"
     ]
    },
    {
     "name": "stderr",
     "output_type": "stream",
     "text": [
      " 24%|██████████████████▊                                                          | 2853/11689 [26:27<34:38,  4.25it/s]"
     ]
    },
    {
     "name": "stdout",
     "output_type": "stream",
     "text": [
      "⚠️ Failed to process image: cannot identify image file <_io.BytesIO object at 0x00000294B08AA980>\n",
      "⚠️ Failed to process image: cannot identify image file <_io.BytesIO object at 0x00000294B08A93F0>\n"
     ]
    },
    {
     "name": "stderr",
     "output_type": "stream",
     "text": [
      " 24%|██████████████████▊                                                          | 2854/11689 [26:27<31:01,  4.75it/s]"
     ]
    },
    {
     "name": "stdout",
     "output_type": "stream",
     "text": [
      "⚠️ Failed to process image: cannot identify image file <_io.BytesIO object at 0x00000294B08AA980>\n"
     ]
    },
    {
     "name": "stderr",
     "output_type": "stream",
     "text": [
      " 25%|██████████████████▌                                                        | 2886/11689 [26:45<1:07:22,  2.18it/s]"
     ]
    },
    {
     "name": "stdout",
     "output_type": "stream",
     "text": [
      "⚠️ Failed to process image: cannot identify image file <_io.BytesIO object at 0x00000294B08AA980>\n",
      "⚠️ Failed to process image: cannot identify image file <_io.BytesIO object at 0x00000294B08A9BC0>\n"
     ]
    },
    {
     "name": "stderr",
     "output_type": "stream",
     "text": [
      " 25%|███████████████████                                                          | 2889/11689 [26:46<42:30,  3.45it/s]"
     ]
    },
    {
     "name": "stdout",
     "output_type": "stream",
     "text": [
      "⚠️ Failed to process image: cannot identify image file <_io.BytesIO object at 0x00000294B08AA980>\n",
      "⚠️ Failed to process image: cannot identify image file <_io.BytesIO object at 0x00000294B08A9BC0>\n"
     ]
    },
    {
     "name": "stderr",
     "output_type": "stream",
     "text": [
      " 25%|███████████████████                                                          | 2890/11689 [26:46<39:15,  3.74it/s]"
     ]
    },
    {
     "name": "stdout",
     "output_type": "stream",
     "text": [
      "⚠️ Failed to process image: cannot identify image file <_io.BytesIO object at 0x00000294B08AA980>\n"
     ]
    },
    {
     "name": "stderr",
     "output_type": "stream",
     "text": [
      " 25%|███████████████████                                                          | 2891/11689 [26:46<36:45,  3.99it/s]"
     ]
    },
    {
     "name": "stdout",
     "output_type": "stream",
     "text": [
      "⚠️ Failed to process image: cannot identify image file <_io.BytesIO object at 0x00000294B08A9BC0>\n"
     ]
    },
    {
     "name": "stderr",
     "output_type": "stream",
     "text": [
      " 25%|███████████████████                                                          | 2893/11689 [26:46<30:26,  4.82it/s]"
     ]
    },
    {
     "name": "stdout",
     "output_type": "stream",
     "text": [
      "⚠️ Failed to process image: cannot identify image file <_io.BytesIO object at 0x00000294B08AA980>\n",
      "⚠️ Failed to process image: cannot identify image file <_io.BytesIO object at 0x00000294B08A9BC0>\n"
     ]
    },
    {
     "name": "stderr",
     "output_type": "stream",
     "text": [
      " 25%|███████████████████                                                          | 2895/11689 [26:47<39:41,  3.69it/s]"
     ]
    },
    {
     "name": "stdout",
     "output_type": "stream",
     "text": [
      "⚠️ Failed to process image: cannot identify image file <_io.BytesIO object at 0x00000294B08A1B70>\n"
     ]
    },
    {
     "name": "stderr",
     "output_type": "stream",
     "text": [
      " 25%|███████████████████                                                          | 2897/11689 [26:47<31:42,  4.62it/s]"
     ]
    },
    {
     "name": "stdout",
     "output_type": "stream",
     "text": [
      "⚠️ Failed to process image: cannot identify image file <_io.BytesIO object at 0x00000294B08A3100>\n",
      "⚠️ Failed to process image: cannot identify image file <_io.BytesIO object at 0x00000294B08AA890>\n"
     ]
    },
    {
     "name": "stderr",
     "output_type": "stream",
     "text": [
      " 25%|███████████████████                                                          | 2898/11689 [26:48<29:11,  5.02it/s]"
     ]
    },
    {
     "name": "stdout",
     "output_type": "stream",
     "text": [
      "⚠️ Failed to process image: cannot identify image file <_io.BytesIO object at 0x00000294B08A93F0>\n"
     ]
    },
    {
     "name": "stderr",
     "output_type": "stream",
     "text": [
      " 25%|███████████████████                                                          | 2900/11689 [26:48<30:05,  4.87it/s]"
     ]
    },
    {
     "name": "stdout",
     "output_type": "stream",
     "text": [
      "⚠️ Failed to process image: cannot identify image file <_io.BytesIO object at 0x00000294B08AA890>\n",
      "⚠️ Failed to process image: cannot identify image file <_io.BytesIO object at 0x00000294B08A2020>\n"
     ]
    },
    {
     "name": "stderr",
     "output_type": "stream",
     "text": [
      " 25%|███████████████████                                                          | 2901/11689 [26:48<26:48,  5.46it/s]"
     ]
    },
    {
     "name": "stdout",
     "output_type": "stream",
     "text": [
      "⚠️ Failed to process image: cannot identify image file <_io.BytesIO object at 0x00000294B08AB510>\n"
     ]
    },
    {
     "name": "stderr",
     "output_type": "stream",
     "text": [
      " 39%|█████████████████████████████▌                                             | 4603/11689 [43:17<1:00:53,  1.94it/s]"
     ]
    },
    {
     "name": "stdout",
     "output_type": "stream",
     "text": [
      "⚠️ Failed to process image: cannot identify image file <_io.BytesIO object at 0x00000294B09F2160>\n",
      "⚠️ Failed to process image: cannot identify image file <_io.BytesIO object at 0x00000294B09F3B00>\n"
     ]
    },
    {
     "name": "stderr",
     "output_type": "stream",
     "text": [
      " 40%|██████████████████████████████▏                                            | 4696/11689 [44:12<1:00:10,  1.94it/s]"
     ]
    },
    {
     "name": "stdout",
     "output_type": "stream",
     "text": [
      "⚠️ Failed to process image: cannot identify image file <_io.BytesIO object at 0x00000294B09F2160>\n"
     ]
    },
    {
     "name": "stderr",
     "output_type": "stream",
     "text": [
      " 40%|██████████████████████████████▉                                              | 4697/11689 [44:12<56:51,  2.05it/s]"
     ]
    },
    {
     "name": "stdout",
     "output_type": "stream",
     "text": [
      "⚠️ Failed to process image: cannot identify image file <_io.BytesIO object at 0x00000294B09E76A0>\n"
     ]
    },
    {
     "name": "stderr",
     "output_type": "stream",
     "text": [
      " 53%|█████████████████████████████████████████▏                                   | 6243/11689 [59:08<48:03,  1.89it/s]"
     ]
    },
    {
     "name": "stdout",
     "output_type": "stream",
     "text": [
      "⚠️ Failed to process image: cannot identify image file <_io.BytesIO object at 0x00000294B0A63C40>\n",
      "⚠️ Failed to process image: cannot identify image file <_io.BytesIO object at 0x00000294B0A62660>\n"
     ]
    },
    {
     "name": "stderr",
     "output_type": "stream",
     "text": [
      " 54%|█████████████████████████████████████████▍                                   | 6286/11689 [59:32<46:01,  1.96it/s]"
     ]
    },
    {
     "name": "stdout",
     "output_type": "stream",
     "text": [
      "⚠️ Failed to process image: cannot identify image file <_io.BytesIO object at 0x00000294B0A52BB0>\n",
      "⚠️ Failed to process image: cannot identify image file <_io.BytesIO object at 0x00000294B0A61580>\n"
     ]
    },
    {
     "name": "stderr",
     "output_type": "stream",
     "text": [
      " 73%|██████████████████████████████████████████████████████▌                    | 8506/11689 [1:19:24<20:21,  2.61it/s]"
     ]
    },
    {
     "name": "stdout",
     "output_type": "stream",
     "text": [
      "⚠️ Failed to process image: cannot identify image file <_io.BytesIO object at 0x00000294B24277E0>\n"
     ]
    },
    {
     "name": "stderr",
     "output_type": "stream",
     "text": [
      " 73%|██████████████████████████████████████████████████████▌                    | 8509/11689 [1:19:25<18:46,  2.82it/s]"
     ]
    },
    {
     "name": "stdout",
     "output_type": "stream",
     "text": [
      "⚠️ Failed to process image: cannot identify image file <_io.BytesIO object at 0x00000294B2427240>\n"
     ]
    },
    {
     "name": "stderr",
     "output_type": "stream",
     "text": [
      " 76%|████████████████████████████████████████████████████████▋                  | 8842/11689 [1:22:13<13:19,  3.56it/s]"
     ]
    },
    {
     "name": "stdout",
     "output_type": "stream",
     "text": [
      "⚠️ Failed to process image: cannot identify image file <_io.BytesIO object at 0x00000294B243E200>\n",
      "⚠️ Failed to process image: cannot identify image file <_io.BytesIO object at 0x00000294B2430E00>\n",
      "⚠️ Failed to process image: cannot identify image file <_io.BytesIO object at 0x00000294B243E200>\n"
     ]
    },
    {
     "name": "stderr",
     "output_type": "stream",
     "text": [
      " 76%|████████████████████████████████████████████████████████▋                  | 8844/11689 [1:22:14<11:06,  4.27it/s]"
     ]
    },
    {
     "name": "stdout",
     "output_type": "stream",
     "text": [
      "⚠️ Failed to process image: cannot identify image file <_io.BytesIO object at 0x00000294B2430E00>\n",
      "⚠️ Failed to process image: cannot identify image file <_io.BytesIO object at 0x00000294B2433E70>\n"
     ]
    },
    {
     "name": "stderr",
     "output_type": "stream",
     "text": [
      " 76%|████████████████████████████████████████████████████████▊                  | 8845/11689 [1:22:14<09:53,  4.80it/s]"
     ]
    },
    {
     "name": "stdout",
     "output_type": "stream",
     "text": [
      "⚠️ Failed to process image: cannot identify image file <_io.BytesIO object at 0x00000294B2430E00>\n",
      "⚠️ Failed to process image: cannot identify image file <_io.BytesIO object at 0x00000294B2433E70>\n"
     ]
    },
    {
     "name": "stderr",
     "output_type": "stream",
     "text": [
      " 76%|████████████████████████████████████████████████████████▉                  | 8880/11689 [1:22:32<13:24,  3.49it/s]"
     ]
    },
    {
     "name": "stdout",
     "output_type": "stream",
     "text": [
      "⚠️ Failed to process image: cannot identify image file <_io.BytesIO object at 0x00000294B2433880>\n",
      "⚠️ Failed to process image: cannot identify image file <_io.BytesIO object at 0x00000294B24322F0>\n"
     ]
    },
    {
     "name": "stderr",
     "output_type": "stream",
     "text": [
      " 76%|████████████████████████████████████████████████████████▉                  | 8882/11689 [1:22:32<10:44,  4.36it/s]"
     ]
    },
    {
     "name": "stdout",
     "output_type": "stream",
     "text": [
      "⚠️ Failed to process image: cannot identify image file <_io.BytesIO object at 0x00000294B2433880>\n",
      "⚠️ Failed to process image: cannot identify image file <_io.BytesIO object at 0x00000294B243FA10>\n"
     ]
    },
    {
     "name": "stderr",
     "output_type": "stream",
     "text": [
      " 76%|████████████████████████████████████████████████████████▉                  | 8883/11689 [1:22:32<09:30,  4.92it/s]"
     ]
    },
    {
     "name": "stdout",
     "output_type": "stream",
     "text": [
      "⚠️ Failed to process image: cannot identify image file <_io.BytesIO object at 0x00000294B2433880>\n"
     ]
    },
    {
     "name": "stderr",
     "output_type": "stream",
     "text": [
      " 76%|█████████████████████████████████████████████████████████                  | 8884/11689 [1:22:32<09:35,  4.87it/s]"
     ]
    },
    {
     "name": "stdout",
     "output_type": "stream",
     "text": [
      "⚠️ Failed to process image: cannot identify image file <_io.BytesIO object at 0x00000294B24327F0>\n"
     ]
    },
    {
     "name": "stderr",
     "output_type": "stream",
     "text": [
      " 77%|██████████████████████████████████████████████████████████                 | 9058/11689 [1:24:08<18:50,  2.33it/s]"
     ]
    },
    {
     "name": "stdout",
     "output_type": "stream",
     "text": [
      "⚠️ Failed to process image: cannot identify image file <_io.BytesIO object at 0x00000294B243EDE0>\n"
     ]
    },
    {
     "name": "stderr",
     "output_type": "stream",
     "text": [
      " 78%|██████████████████████████████████████████████████████████▏                | 9061/11689 [1:24:09<15:37,  2.80it/s]"
     ]
    },
    {
     "name": "stdout",
     "output_type": "stream",
     "text": [
      "⚠️ Failed to process image: cannot identify image file <_io.BytesIO object at 0x00000294B243EDE0>\n",
      "⚠️ Failed to process image: cannot identify image file <_io.BytesIO object at 0x00000294B2430E00>\n"
     ]
    },
    {
     "name": "stderr",
     "output_type": "stream",
     "text": [
      " 78%|██████████████████████████████████████████████████████████▏                | 9063/11689 [1:24:09<11:42,  3.74it/s]"
     ]
    },
    {
     "name": "stdout",
     "output_type": "stream",
     "text": [
      "⚠️ Failed to process image: cannot identify image file <_io.BytesIO object at 0x00000294B243EDE0>\n",
      "⚠️ Failed to process image: cannot identify image file <_io.BytesIO object at 0x00000294B2430E00>\n"
     ]
    },
    {
     "name": "stderr",
     "output_type": "stream",
     "text": [
      " 78%|██████████████████████████████████████████████████████████▋                | 9152/11689 [1:24:56<14:38,  2.89it/s]"
     ]
    },
    {
     "name": "stdout",
     "output_type": "stream",
     "text": [
      "⚠️ Failed to process image: cannot identify image file <_io.BytesIO object at 0x00000294B244A750>\n"
     ]
    },
    {
     "name": "stderr",
     "output_type": "stream",
     "text": [
      " 78%|██████████████████████████████████████████████████████████▋                | 9155/11689 [1:24:57<12:08,  3.48it/s]"
     ]
    },
    {
     "name": "stdout",
     "output_type": "stream",
     "text": [
      "⚠️ Failed to process image: cannot identify image file <_io.BytesIO object at 0x00000294B244A340>\n",
      "⚠️ Failed to process image: cannot identify image file <_io.BytesIO object at 0x00000294B2448810>\n"
     ]
    },
    {
     "name": "stderr",
     "output_type": "stream",
     "text": [
      " 78%|██████████████████████████████████████████████████████████▋                | 9156/11689 [1:24:57<10:42,  3.94it/s]"
     ]
    },
    {
     "name": "stdout",
     "output_type": "stream",
     "text": [
      "⚠️ Failed to process image: cannot identify image file <_io.BytesIO object at 0x00000294B244A340>\n"
     ]
    },
    {
     "name": "stderr",
     "output_type": "stream",
     "text": [
      " 78%|██████████████████████████████████████████████████████████▊                | 9157/11689 [1:24:58<11:48,  3.57it/s]"
     ]
    },
    {
     "name": "stdout",
     "output_type": "stream",
     "text": [
      "⚠️ Failed to process image: cannot identify image file <_io.BytesIO object at 0x00000294B243D120>\n"
     ]
    },
    {
     "name": "stderr",
     "output_type": "stream",
     "text": [
      " 78%|██████████████████████████████████████████████████████████▊                | 9164/11689 [1:25:01<19:52,  2.12it/s]"
     ]
    },
    {
     "name": "stdout",
     "output_type": "stream",
     "text": [
      "⚠️ Failed to process image: cannot identify image file <_io.BytesIO object at 0x00000294B243F740>\n",
      "⚠️ Failed to process image: cannot identify image file <_io.BytesIO object at 0x00000294B244AA70>\n"
     ]
    },
    {
     "name": "stderr",
     "output_type": "stream",
     "text": [
      " 78%|██████████████████████████████████████████████████████████▊                | 9168/11689 [1:25:02<12:41,  3.31it/s]"
     ]
    },
    {
     "name": "stdout",
     "output_type": "stream",
     "text": [
      "⚠️ Failed to process image: cannot identify image file <_io.BytesIO object at 0x00000294B244AA70>\n",
      "⚠️ Failed to process image: cannot identify image file <_io.BytesIO object at 0x00000294B24496C0>\n"
     ]
    },
    {
     "name": "stderr",
     "output_type": "stream",
     "text": [
      " 78%|██████████████████████████████████████████████████████████▊                | 9170/11689 [1:25:03<09:52,  4.25it/s]"
     ]
    },
    {
     "name": "stdout",
     "output_type": "stream",
     "text": [
      "⚠️ Failed to process image: cannot identify image file <_io.BytesIO object at 0x00000294B244AA70>\n",
      "⚠️ Failed to process image: cannot identify image file <_io.BytesIO object at 0x00000294B243D120>\n"
     ]
    },
    {
     "name": "stderr",
     "output_type": "stream",
     "text": [
      " 81%|████████████████████████████████████████████████████████████▌              | 9448/11689 [1:27:31<17:16,  2.16it/s]"
     ]
    },
    {
     "name": "stdout",
     "output_type": "stream",
     "text": [
      "⚠️ Failed to process image: cannot identify image file <_io.BytesIO object at 0x00000294B2456660>\n",
      "⚠️ Failed to process image: cannot identify image file <_io.BytesIO object at 0x00000294B2455440>\n"
     ]
    },
    {
     "name": "stderr",
     "output_type": "stream",
     "text": [
      " 81%|████████████████████████████████████████████████████████████▋              | 9450/11689 [1:27:31<10:59,  3.40it/s]"
     ]
    },
    {
     "name": "stdout",
     "output_type": "stream",
     "text": [
      "⚠️ Failed to process image: cannot identify image file <_io.BytesIO object at 0x00000294B2456D90>\n"
     ]
    },
    {
     "name": "stderr",
     "output_type": "stream",
     "text": [
      " 81%|████████████████████████████████████████████████████████████▋              | 9453/11689 [1:27:32<10:39,  3.50it/s]"
     ]
    },
    {
     "name": "stdout",
     "output_type": "stream",
     "text": [
      "⚠️ Failed to process image: cannot identify image file <_io.BytesIO object at 0x00000294B246FDD0>\n",
      "⚠️ Failed to process image: cannot identify image file <_io.BytesIO object at 0x00000294B2457880>\n"
     ]
    },
    {
     "name": "stderr",
     "output_type": "stream",
     "text": [
      " 81%|████████████████████████████████████████████████████████████▋              | 9455/11689 [1:27:33<08:29,  4.38it/s]"
     ]
    },
    {
     "name": "stdout",
     "output_type": "stream",
     "text": [
      "⚠️ Failed to process image: cannot identify image file <_io.BytesIO object at 0x00000294B2456660>\n",
      "⚠️ Failed to process image: cannot identify image file <_io.BytesIO object at 0x00000294B2454770>\n"
     ]
    },
    {
     "name": "stderr",
     "output_type": "stream",
     "text": [
      " 83%|██████████████████████████████████████████████████████████████▍            | 9722/11689 [1:29:54<09:54,  3.31it/s]"
     ]
    },
    {
     "name": "stdout",
     "output_type": "stream",
     "text": [
      "⚠️ Failed to process image: cannot identify image file <_io.BytesIO object at 0x00000294B24774C0>\n",
      "⚠️ Failed to process image: cannot identify image file <_io.BytesIO object at 0x00000294B2476CA0>\n"
     ]
    },
    {
     "name": "stderr",
     "output_type": "stream",
     "text": [
      " 83%|██████████████████████████████████████████████████████████████▍            | 9724/11689 [1:29:55<07:33,  4.33it/s]"
     ]
    },
    {
     "name": "stdout",
     "output_type": "stream",
     "text": [
      "⚠️ Failed to process image: cannot identify image file <_io.BytesIO object at 0x00000294B24774C0>\n",
      "⚠️ Failed to process image: cannot identify image file <_io.BytesIO object at 0x00000294B2476CA0>\n"
     ]
    },
    {
     "name": "stderr",
     "output_type": "stream",
     "text": [
      " 83%|██████████████████████████████████████████████████████████████▍            | 9726/11689 [1:29:55<07:31,  4.35it/s]"
     ]
    },
    {
     "name": "stdout",
     "output_type": "stream",
     "text": [
      "⚠️ Failed to process image: cannot identify image file <_io.BytesIO object at 0x00000294B2474C20>\n",
      "⚠️ Failed to process image: cannot identify image file <_io.BytesIO object at 0x00000294B2476D90>\n"
     ]
    },
    {
     "name": "stderr",
     "output_type": "stream",
     "text": [
      " 84%|██████████████████████████████████████████████████████████████▊            | 9790/11689 [1:30:26<11:45,  2.69it/s]"
     ]
    },
    {
     "name": "stdout",
     "output_type": "stream",
     "text": [
      "⚠️ Failed to process image: cannot identify image file <_io.BytesIO object at 0x00000294B24767F0>\n",
      "⚠️ Failed to process image: cannot identify image file <_io.BytesIO object at 0x00000294B2476660>\n"
     ]
    },
    {
     "name": "stderr",
     "output_type": "stream",
     "text": [
      " 84%|██████████████████████████████████████████████████████████████▊            | 9794/11689 [1:30:27<07:45,  4.07it/s]"
     ]
    },
    {
     "name": "stdout",
     "output_type": "stream",
     "text": [
      "⚠️ Failed to process image: cannot identify image file <_io.BytesIO object at 0x00000294B2476660>\n",
      "⚠️ Failed to process image: cannot identify image file <_io.BytesIO object at 0x00000294B24767F0>\n"
     ]
    },
    {
     "name": "stderr",
     "output_type": "stream",
     "text": [
      " 84%|██████████████████████████████████████████████████████████████▊            | 9795/11689 [1:30:27<06:48,  4.63it/s]"
     ]
    },
    {
     "name": "stdout",
     "output_type": "stream",
     "text": [
      "⚠️ Failed to process image: cannot identify image file <_io.BytesIO object at 0x00000294B2476660>\n"
     ]
    },
    {
     "name": "stderr",
     "output_type": "stream",
     "text": [
      " 84%|██████████████████████████████████████████████████████████████▊            | 9796/11689 [1:30:28<07:14,  4.36it/s]"
     ]
    },
    {
     "name": "stdout",
     "output_type": "stream",
     "text": [
      "⚠️ Failed to process image: cannot identify image file <_io.BytesIO object at 0x00000294B24767F0>\n",
      "⚠️ Failed to process image: cannot identify image file <_io.BytesIO object at 0x00000294B2476660>\n"
     ]
    },
    {
     "name": "stderr",
     "output_type": "stream",
     "text": [
      " 85%|████████████████████████████████████████████████████████████████           | 9988/11689 [1:32:07<08:02,  3.53it/s]"
     ]
    },
    {
     "name": "stdout",
     "output_type": "stream",
     "text": [
      "⚠️ Failed to process image: cannot identify image file <_io.BytesIO object at 0x00000294B2486E30>\n",
      "⚠️ Failed to process image: cannot identify image file <_io.BytesIO object at 0x00000294B2486660>\n"
     ]
    },
    {
     "name": "stderr",
     "output_type": "stream",
     "text": [
      " 85%|████████████████████████████████████████████████████████████████           | 9990/11689 [1:32:07<06:36,  4.28it/s]"
     ]
    },
    {
     "name": "stdout",
     "output_type": "stream",
     "text": [
      "⚠️ Failed to process image: cannot identify image file <_io.BytesIO object at 0x00000294B2485260>\n",
      "⚠️ Failed to process image: cannot identify image file <_io.BytesIO object at 0x00000294B2484130>\n"
     ]
    },
    {
     "name": "stderr",
     "output_type": "stream",
     "text": [
      " 85%|████████████████████████████████████████████████████████████████           | 9993/11689 [1:32:07<04:17,  6.59it/s]"
     ]
    },
    {
     "name": "stdout",
     "output_type": "stream",
     "text": [
      "⚠️ Failed to process image: cannot identify image file <_io.BytesIO object at 0x00000294B2486E30>\n",
      "⚠️ Failed to process image: cannot identify image file <_io.BytesIO object at 0x00000294B2486660>\n",
      "⚠️ Failed to process image: cannot identify image file <_io.BytesIO object at 0x00000294B2485260>\n",
      "⚠️ Failed to process image: cannot identify image file <_io.BytesIO object at 0x00000294B2486660>\n"
     ]
    },
    {
     "name": "stderr",
     "output_type": "stream",
     "text": [
      " 86%|████████████████████████████████████████████████████████████████▏          | 9997/11689 [1:32:08<02:54,  9.68it/s]"
     ]
    },
    {
     "name": "stdout",
     "output_type": "stream",
     "text": [
      "⚠️ Failed to process image: cannot identify image file <_io.BytesIO object at 0x00000294B2484130>\n",
      "⚠️ Failed to process image: cannot identify image file <_io.BytesIO object at 0x00000294B2486660>\n",
      "⚠️ Failed to process image: cannot identify image file <_io.BytesIO object at 0x00000294B2485170>\n"
     ]
    },
    {
     "name": "stderr",
     "output_type": "stream",
     "text": [
      " 87%|████████████████████████████████████████████████████████████████▍         | 10183/11689 [1:33:44<07:49,  3.20it/s]"
     ]
    },
    {
     "name": "stdout",
     "output_type": "stream",
     "text": [
      "⚠️ Failed to process image: cannot identify image file <_io.BytesIO object at 0x00000294B2494B80>\n",
      "⚠️ Failed to process image: cannot identify image file <_io.BytesIO object at 0x00000294B2495170>\n",
      "⚠️ Failed to process image: cannot identify image file <_io.BytesIO object at 0x00000294B2497150>\n",
      "⚠️ Failed to process image: cannot identify image file <_io.BytesIO object at 0x00000294B2495170>\n"
     ]
    },
    {
     "name": "stderr",
     "output_type": "stream",
     "text": [
      " 87%|████████████████████████████████████████████████████████████████▍         | 10185/11689 [1:33:44<05:19,  4.71it/s]"
     ]
    },
    {
     "name": "stdout",
     "output_type": "stream",
     "text": [
      "⚠️ Failed to process image: cannot identify image file <_io.BytesIO object at 0x00000294B2494B80>\n",
      "⚠️ Failed to process image: cannot identify image file <_io.BytesIO object at 0x00000294B2495170>\n"
     ]
    },
    {
     "name": "stderr",
     "output_type": "stream",
     "text": [
      " 87%|████████████████████████████████████████████████████████████████▌         | 10203/11689 [1:33:53<08:40,  2.85it/s]"
     ]
    },
    {
     "name": "stdout",
     "output_type": "stream",
     "text": [
      "⚠️ Failed to process image: cannot identify image file <_io.BytesIO object at 0x00000294B2495170>\n",
      "⚠️ Failed to process image: cannot identify image file <_io.BytesIO object at 0x00000294B24872E0>\n"
     ]
    },
    {
     "name": "stderr",
     "output_type": "stream",
     "text": [
      " 87%|████████████████████████████████████████████████████████████████▌         | 10204/11689 [1:33:53<07:11,  3.44it/s]"
     ]
    },
    {
     "name": "stdout",
     "output_type": "stream",
     "text": [
      "⚠️ Failed to process image: cannot identify image file <_io.BytesIO object at 0x00000294B24941D0>\n"
     ]
    },
    {
     "name": "stderr",
     "output_type": "stream",
     "text": [
      " 87%|████████████████████████████████████████████████████████████████▌         | 10206/11689 [1:33:53<05:40,  4.35it/s]"
     ]
    },
    {
     "name": "stdout",
     "output_type": "stream",
     "text": [
      "⚠️ Failed to process image: cannot identify image file <_io.BytesIO object at 0x00000294B2496250>\n",
      "⚠️ Failed to process image: cannot identify image file <_io.BytesIO object at 0x00000294B24872E0>\n"
     ]
    },
    {
     "name": "stderr",
     "output_type": "stream",
     "text": [
      " 88%|█████████████████████████████████████████████████████████████████         | 10270/11689 [1:34:27<08:19,  2.84it/s]"
     ]
    },
    {
     "name": "stdout",
     "output_type": "stream",
     "text": [
      "⚠️ Failed to process image: cannot identify image file <_io.BytesIO object at 0x00000294B24971A0>\n",
      "⚠️ Failed to process image: cannot identify image file <_io.BytesIO object at 0x00000294B2496ED0>\n"
     ]
    },
    {
     "name": "stderr",
     "output_type": "stream",
     "text": [
      " 88%|█████████████████████████████████████████████████████████████████         | 10271/11689 [1:34:27<06:50,  3.45it/s]"
     ]
    },
    {
     "name": "stdout",
     "output_type": "stream",
     "text": [
      "⚠️ Failed to process image: cannot identify image file <_io.BytesIO object at 0x00000294B2497290>\n"
     ]
    },
    {
     "name": "stderr",
     "output_type": "stream",
     "text": [
      " 88%|█████████████████████████████████████████████████████████████████         | 10272/11689 [1:34:28<06:21,  3.72it/s]"
     ]
    },
    {
     "name": "stdout",
     "output_type": "stream",
     "text": [
      "⚠️ Failed to process image: cannot identify image file <_io.BytesIO object at 0x00000294B2495440>\n"
     ]
    },
    {
     "name": "stderr",
     "output_type": "stream",
     "text": [
      " 88%|█████████████████████████████████████████████████████████████████         | 10274/11689 [1:34:28<05:36,  4.21it/s]"
     ]
    },
    {
     "name": "stdout",
     "output_type": "stream",
     "text": [
      "⚠️ Failed to process image: cannot identify image file <_io.BytesIO object at 0x00000294B24971A0>\n",
      "⚠️ Failed to process image: cannot identify image file <_io.BytesIO object at 0x00000294B2496ED0>\n"
     ]
    },
    {
     "name": "stderr",
     "output_type": "stream",
     "text": [
      " 88%|█████████████████████████████████████████████████████████████████         | 10277/11689 [1:34:28<03:21,  6.99it/s]"
     ]
    },
    {
     "name": "stdout",
     "output_type": "stream",
     "text": [
      "⚠️ Failed to process image: cannot identify image file <_io.BytesIO object at 0x00000294B2497290>\n",
      "⚠️ Failed to process image: cannot identify image file <_io.BytesIO object at 0x00000294B2495440>\n",
      "⚠️ Failed to process image: cannot identify image file <_io.BytesIO object at 0x00000294B24971A0>\n",
      "⚠️ Failed to process image: cannot identify image file <_io.BytesIO object at 0x00000294B2495440>\n"
     ]
    },
    {
     "name": "stderr",
     "output_type": "stream",
     "text": [
      " 88%|█████████████████████████████████████████████████████████████████         | 10279/11689 [1:34:29<02:38,  8.91it/s]"
     ]
    },
    {
     "name": "stdout",
     "output_type": "stream",
     "text": [
      "⚠️ Failed to process image: cannot identify image file <_io.BytesIO object at 0x00000294B2497290>\n",
      "⚠️ Failed to process image: cannot identify image file <_io.BytesIO object at 0x00000294B2495440>\n"
     ]
    },
    {
     "name": "stderr",
     "output_type": "stream",
     "text": [
      " 89%|█████████████████████████████████████████████████████████████████▋        | 10368/11689 [1:35:15<07:26,  2.96it/s]"
     ]
    },
    {
     "name": "stdout",
     "output_type": "stream",
     "text": [
      "⚠️ Failed to process image: cannot identify image file <_io.BytesIO object at 0x00000294B249E5C0>\n",
      "⚠️ Failed to process image: cannot identify image file <_io.BytesIO object at 0x00000294B2495A80>\n"
     ]
    },
    {
     "name": "stderr",
     "output_type": "stream",
     "text": [
      " 89%|█████████████████████████████████████████████████████████████████▋        | 10369/11689 [1:35:15<07:00,  3.14it/s]"
     ]
    },
    {
     "name": "stdout",
     "output_type": "stream",
     "text": [
      "⚠️ Failed to process image: cannot identify image file <_io.BytesIO object at 0x00000294B249DBC0>\n"
     ]
    },
    {
     "name": "stderr",
     "output_type": "stream",
     "text": [
      " 89%|█████████████████████████████████████████████████████████████████▊        | 10397/11689 [1:35:29<06:44,  3.20it/s]"
     ]
    },
    {
     "name": "stdout",
     "output_type": "stream",
     "text": [
      "⚠️ Failed to process image: cannot identify image file <_io.BytesIO object at 0x00000294B249F470>\n",
      "⚠️ Failed to process image: cannot identify image file <_io.BytesIO object at 0x00000294B249EDE0>\n"
     ]
    },
    {
     "name": "stderr",
     "output_type": "stream",
     "text": [
      " 89%|█████████████████████████████████████████████████████████████████▊        | 10399/11689 [1:35:29<05:02,  4.26it/s]"
     ]
    },
    {
     "name": "stdout",
     "output_type": "stream",
     "text": [
      "⚠️ Failed to process image: cannot identify image file <_io.BytesIO object at 0x00000294B249F1A0>\n",
      "⚠️ Failed to process image: cannot identify image file <_io.BytesIO object at 0x00000294B249C040>\n"
     ]
    },
    {
     "name": "stderr",
     "output_type": "stream",
     "text": [
      " 89%|█████████████████████████████████████████████████████████████████▊        | 10402/11689 [1:35:29<02:57,  7.24it/s]"
     ]
    },
    {
     "name": "stdout",
     "output_type": "stream",
     "text": [
      "⚠️ Failed to process image: cannot identify image file <_io.BytesIO object at 0x00000294B249F470>\n",
      "⚠️ Failed to process image: cannot identify image file <_io.BytesIO object at 0x00000294B249EDE0>\n",
      "⚠️ Failed to process image: cannot identify image file <_io.BytesIO object at 0x00000294B249F1A0>\n"
     ]
    },
    {
     "name": "stderr",
     "output_type": "stream",
     "text": [
      " 89%|█████████████████████████████████████████████████████████████████▊        | 10404/11689 [1:35:29<02:25,  8.85it/s]"
     ]
    },
    {
     "name": "stdout",
     "output_type": "stream",
     "text": [
      "⚠️ Failed to process image: cannot identify image file <_io.BytesIO object at 0x00000294B249EDE0>\n",
      "⚠️ Failed to process image: cannot identify image file <_io.BytesIO object at 0x00000294B249C040>\n",
      "⚠️ Failed to process image: cannot identify image file <_io.BytesIO object at 0x00000294B249EDE0>\n"
     ]
    },
    {
     "name": "stderr",
     "output_type": "stream",
     "text": [
      " 90%|██████████████████████████████████████████████████████████████████▍       | 10499/11689 [1:36:16<06:06,  3.25it/s]"
     ]
    },
    {
     "name": "stdout",
     "output_type": "stream",
     "text": [
      "⚠️ Failed to process image: cannot identify image file <_io.BytesIO object at 0x00000294B249E4D0>\n",
      "⚠️ Failed to process image: cannot identify image file <_io.BytesIO object at 0x00000294B249CF40>\n"
     ]
    },
    {
     "name": "stderr",
     "output_type": "stream",
     "text": [
      " 90%|██████████████████████████████████████████████████████████████████▍       | 10501/11689 [1:36:16<04:46,  4.15it/s]"
     ]
    },
    {
     "name": "stdout",
     "output_type": "stream",
     "text": [
      "⚠️ Failed to process image: cannot identify image file <_io.BytesIO object at 0x00000294B249E4D0>\n",
      "⚠️ Failed to process image: cannot identify image file <_io.BytesIO object at 0x00000294B249CF40>\n"
     ]
    },
    {
     "name": "stderr",
     "output_type": "stream",
     "text": [
      " 90%|██████████████████████████████████████████████████████████████████▍       | 10503/11689 [1:36:16<03:46,  5.24it/s]"
     ]
    },
    {
     "name": "stdout",
     "output_type": "stream",
     "text": [
      "⚠️ Failed to process image: cannot identify image file <_io.BytesIO object at 0x00000294B249E4D0>\n",
      "⚠️ Failed to process image: cannot identify image file <_io.BytesIO object at 0x00000294B249CF40>\n"
     ]
    },
    {
     "name": "stderr",
     "output_type": "stream",
     "text": [
      " 90%|██████████████████████████████████████████████████████████████████▌       | 10507/11689 [1:36:17<02:05,  9.45it/s]"
     ]
    },
    {
     "name": "stdout",
     "output_type": "stream",
     "text": [
      "⚠️ Failed to process image: cannot identify image file <_io.BytesIO object at 0x00000294B249E4D0>\n",
      "⚠️ Failed to process image: cannot identify image file <_io.BytesIO object at 0x00000294B249CF40>\n",
      "⚠️ Failed to process image: cannot identify image file <_io.BytesIO object at 0x00000294B249E4D0>\n",
      "⚠️ Failed to process image: cannot identify image file <_io.BytesIO object at 0x00000294B249CF40>\n"
     ]
    },
    {
     "name": "stderr",
     "output_type": "stream",
     "text": [
      " 90%|██████████████████████████████████████████████████████████████████▌       | 10509/11689 [1:36:17<01:44, 11.24it/s]"
     ]
    },
    {
     "name": "stdout",
     "output_type": "stream",
     "text": [
      "⚠️ Failed to process image: cannot identify image file <_io.BytesIO object at 0x00000294B249E4D0>\n",
      "⚠️ Failed to process image: cannot identify image file <_io.BytesIO object at 0x00000294B249CF40>\n"
     ]
    },
    {
     "name": "stderr",
     "output_type": "stream",
     "text": [
      " 93%|████████████████████████████████████████████████████████████████████▍     | 10817/11689 [1:38:59<05:32,  2.63it/s]"
     ]
    },
    {
     "name": "stdout",
     "output_type": "stream",
     "text": [
      "⚠️ Failed to process image: cannot identify image file <_io.BytesIO object at 0x00000294B25E3F10>\n",
      "⚠️ Failed to process image: cannot identify image file <_io.BytesIO object at 0x00000294B25E0590>\n"
     ]
    },
    {
     "name": "stderr",
     "output_type": "stream",
     "text": [
      "100%|██████████████████████████████████████████████████████████████████████████| 11689/11689 [1:48:25<00:00,  1.80it/s]"
     ]
    },
    {
     "name": "stdout",
     "output_type": "stream",
     "text": [
      "✅ Saved catalog embeddings to: models/catalog_embeddings.npy\n"
     ]
    },
    {
     "name": "stderr",
     "output_type": "stream",
     "text": [
      "\n"
     ]
    }
   ],
   "source": [
    "import os\n",
    "import numpy as np\n",
    "import pandas as pd\n",
    "from PIL import Image\n",
    "from transformers import CLIPProcessor, CLIPModel\n",
    "import torch\n",
    "from tqdm import tqdm\n",
    "import requests\n",
    "from io import BytesIO\n",
    "\n",
    "# Use GPU if available\n",
    "device = \"cuda\" if torch.cuda.is_available() else \"cpu\"\n",
    "\n",
    "# Load model and processor\n",
    "model = CLIPModel.from_pretrained(\"openai/clip-vit-base-patch32\").to(device)\n",
    "processor = CLIPProcessor.from_pretrained(\"openai/clip-vit-base-patch32\")\n",
    "\n",
    "# Delete old .npy cache if exists\n",
    "try:\n",
    "    os.remove(\"models/catalog_embeddings.npy\")\n",
    "    print(\"🗑️ Removed old cached embeddings.\")\n",
    "except FileNotFoundError:\n",
    "    print(\"✅ No cache file to delete.\")\n",
    "\n",
    "def generate_catalog_embeddings(catalog_path=\"images.csv\", \n",
    "                                 image_url_column=\"image_url\", \n",
    "                                 cache_path=\"models/catalog_embeddings.npy\"):\n",
    "    df = pd.read_csv(catalog_path)\n",
    "\n",
    "    print(\"🧠 Generating catalog embeddings from scratch...\")\n",
    "    embeddings = []\n",
    "\n",
    "    for url in tqdm(df[image_url_column]):\n",
    "        try:\n",
    "            response = requests.get(url, timeout=5)\n",
    "            image = Image.open(BytesIO(response.content)).convert(\"RGB\")\n",
    "            inputs = processor(images=image, return_tensors=\"pt\").to(device)\n",
    "            with torch.no_grad():\n",
    "                embedding = model.get_image_features(**inputs)\n",
    "            embedding = embedding.cpu().numpy()[0]\n",
    "\n",
    "            # Check for NaNs (just in case)\n",
    "            if np.isnan(embedding).any():\n",
    "                raise ValueError(\"NaN detected in embedding\")\n",
    "\n",
    "            embeddings.append(embedding)\n",
    "        except Exception as e:\n",
    "            print(\"⚠️ Failed to process image:\", e)\n",
    "            embeddings.append(np.zeros(512))  # fallback for failed downloads\n",
    "\n",
    "    embeddings = np.array(embeddings, dtype=np.float32)\n",
    "    os.makedirs(\"models\", exist_ok=True)\n",
    "    np.save(cache_path, embeddings)\n",
    "    print(\"✅ Saved catalog embeddings to:\", cache_path)\n",
    "\n",
    "    return df, embeddings\n",
    "\n",
    "# Run the function\n",
    "df, embeddings = generate_catalog_embeddings()"
   ]
  },
  {
   "cell_type": "code",
   "execution_count": 24,
   "id": "6d93328d-f868-441a-bc0b-257690ac50ad",
   "metadata": {},
   "outputs": [
    {
     "name": "stdout",
     "output_type": "stream",
     "text": [
      "✅ Matched products for 2025-06-02_11-31-19_UTC: [2374, 2859, 1672, 7023, 7127]\n"
     ]
    }
   ],
   "source": [
    "import os\n",
    "import numpy as np\n",
    "from glob import glob\n",
    "from PIL import Image\n",
    "from sklearn.metrics.pairwise import cosine_similarity\n",
    "from transformers import CLIPProcessor, CLIPModel\n",
    "import torch\n",
    "\n",
    "# Load model/processor\n",
    "device = \"cuda\" if torch.cuda.is_available() else \"cpu\"\n",
    "model = CLIPModel.from_pretrained(\"openai/clip-vit-base-patch32\").to(device)\n",
    "processor = CLIPProcessor.from_pretrained(\"openai/clip-vit-base-patch32\")\n",
    "\n",
    "# Step 1: Load and clean catalog embeddings\n",
    "catalog_embeddings = np.load(\"models/catalog_embeddings.npy\").astype(\"float32\")\n",
    "norms = np.linalg.norm(catalog_embeddings, axis=1, keepdims=True)\n",
    "\n",
    "# Filter out zero-norm (bad) vectors\n",
    "valid_mask = norms.squeeze() != 0\n",
    "catalog_embeddings = catalog_embeddings[valid_mask]\n",
    "norms = norms[valid_mask]\n",
    "catalog_embeddings = catalog_embeddings / norms\n",
    "\n",
    "# Step 2: Embed cropped images from the video\n",
    "def embed_images(image_paths, batch_size=32):\n",
    "    embeddings = []\n",
    "    for i in range(0, len(image_paths), batch_size):\n",
    "        batch = image_paths[i:i+batch_size]\n",
    "        images = [Image.open(p).convert(\"RGB\") for p in batch]\n",
    "        inputs = processor(images=images, return_tensors=\"pt\", padding=True).to(device)\n",
    "        with torch.no_grad():\n",
    "            image_features = model.get_image_features(**inputs)\n",
    "        image_features = image_features / image_features.norm(p=2, dim=-1, keepdim=True)\n",
    "        embeddings.append(image_features.cpu().numpy())\n",
    "    return np.vstack(embeddings)\n",
    "\n",
    "# Step 3: Match crop embeddings to catalog\n",
    "def get_top_catalog_matches(crop_embeddings, catalog_embeddings, top_k=5):\n",
    "    video_embedding = np.mean(crop_embeddings, axis=0)\n",
    "    video_embedding = video_embedding / np.linalg.norm(video_embedding)\n",
    "    similarities = cosine_similarity([video_embedding], catalog_embeddings)[0]\n",
    "    top_indices = similarities.argsort()[-top_k:][::-1]\n",
    "    return top_indices.tolist()\n",
    "\n",
    "# Step 4: Run full pipeline for a video\n",
    "video_id = \"2025-06-02_11-31-19_UTC\"  # replace with your video_id\n",
    "crop_paths = sorted(glob(f\"cropped_objects/{video_id}/*.jpg\"))\n",
    "\n",
    "if not crop_paths:\n",
    "    print(f\"❌ No crops found for {video_id}\")\n",
    "else:\n",
    "    crop_embeddings = embed_images(crop_paths)\n",
    "    matched_products = get_top_catalog_matches(crop_embeddings, catalog_embeddings)\n",
    "    print(f\"✅ Matched products for {video_id}:\", matched_products)\n"
   ]
  },
  {
   "cell_type": "code",
   "execution_count": 25,
   "id": "78d63781-25a0-4f20-b835-b3a0f723ed20",
   "metadata": {},
   "outputs": [
    {
     "name": "stdout",
     "output_type": "stream",
     "text": [
      "✅ Predicted Vibes for 2025-06-02_11-31-19_UTC: ['Y2K', 'Coquette', 'Boho']\n"
     ]
    }
   ],
   "source": [
    "import os\n",
    "import json\n",
    "import torch\n",
    "import numpy as np\n",
    "from PIL import Image\n",
    "from glob import glob\n",
    "from transformers import CLIPProcessor, CLIPModel\n",
    "from tqdm import tqdm\n",
    "\n",
    "# Set device and load model\n",
    "device = \"cuda\" if torch.cuda.is_available() else \"cpu\"\n",
    "model = CLIPModel.from_pretrained(\"openai/clip-vit-base-patch32\").to(device)\n",
    "processor = CLIPProcessor.from_pretrained(\"openai/clip-vit-base-patch32\")\n",
    "\n",
    "# --- Load Vibes ---\n",
    "def load_vibes(vibe_path=\"vibeslist.json\"):\n",
    "    with open(vibe_path, \"r\") as f:\n",
    "        return json.load(f)\n",
    "\n",
    "def get_text_embeddings(vibes):\n",
    "    inputs = processor(text=vibes, return_tensors=\"pt\", padding=True).to(device)\n",
    "    with torch.no_grad():\n",
    "        text_features = model.get_text_features(**inputs)\n",
    "    return text_features / text_features.norm(p=2, dim=-1, keepdim=True)\n",
    "\n",
    "# --- Embed Image Crops ---\n",
    "def embed_images(image_paths, batch_size=32):\n",
    "    embeddings = []\n",
    "    for i in range(0, len(image_paths), batch_size):\n",
    "        batch = image_paths[i:i+batch_size]\n",
    "        images = [Image.open(p).convert(\"RGB\") for p in batch]\n",
    "        inputs = processor(images=images, return_tensors=\"pt\", padding=True).to(device)\n",
    "        with torch.no_grad():\n",
    "            image_features = model.get_image_features(**inputs)\n",
    "        image_features = image_features / image_features.norm(p=2, dim=-1, keepdim=True)\n",
    "        embeddings.append(image_features.cpu().numpy())\n",
    "    return np.vstack(embeddings)\n",
    "\n",
    "# --- Predict Vibes ---\n",
    "def predict_vibes(crop_embeddings, vibe_list, vibe_embeddings, top_k=3):\n",
    "    video_embedding = np.mean(crop_embeddings, axis=0)\n",
    "    video_embedding = video_embedding / np.linalg.norm(video_embedding)\n",
    "    similarities = vibe_embeddings.cpu().numpy() @ video_embedding\n",
    "    top_indices = similarities.argsort()[-top_k:][::-1]\n",
    "    return [vibe_list[i] for i in top_indices]\n",
    "\n",
    "# --- Run for One Video ---\n",
    "video_id = \"2025-06-02_11-31-19_UTC\"  # replace with your video ID\n",
    "crop_dir = f\"cropped_objects/{video_id}\"\n",
    "crop_paths = sorted(glob(f\"{crop_dir}/*.jpg\"))\n",
    "\n",
    "if not crop_paths:\n",
    "    print(f\"❌ No cropped images found for {video_id}\")\n",
    "else:\n",
    "    # Load vibe tags and embeddings\n",
    "    vibe_list = load_vibes(\"vibeslist.json\")\n",
    "    vibe_embeddings = get_text_embeddings(vibe_list)\n",
    "\n",
    "    # Embed image crops\n",
    "    crop_embeddings = embed_images(crop_paths)\n",
    "\n",
    "    # Predict vibes\n",
    "    predicted_vibes = predict_vibes(crop_embeddings, vibe_list, vibe_embeddings)\n",
    "    print(f\"✅ Predicted Vibes for {video_id}:\", predicted_vibes)"
   ]
  },
  {
   "cell_type": "code",
   "execution_count": 26,
   "id": "b1da3751-f863-4b05-a762-18be43db3716",
   "metadata": {},
   "outputs": [
    {
     "name": "stdout",
     "output_type": "stream",
     "text": [
      "✅ Output saved to outputs\\2025-06-02_11-31-19_UTC.json\n"
     ]
    }
   ],
   "source": [
    "import json\n",
    "import os\n",
    "\n",
    "def save_output(video_id, matched_products, predicted_vibes, output_dir=\"outputs\"):\n",
    "    os.makedirs(output_dir, exist_ok=True)\n",
    "    output_path = os.path.join(output_dir, f\"{video_id}.json\")\n",
    "\n",
    "    result = {\n",
    "        \"video_id\": video_id,\n",
    "        \"matched_products\": matched_products,\n",
    "        \"vibes\": predicted_vibes\n",
    "    }\n",
    "\n",
    "    with open(output_path, \"w\") as f:\n",
    "        json.dump(result, f, indent=2)\n",
    "    \n",
    "    print(f\"✅ Output saved to {output_path}\")\n",
    "\n",
    "# Example usage (from your earlier steps)\n",
    "# video_id = \"2025-05-22_08-25-12_UTC\"\n",
    "# matched_products = match_video(video_id)  # already returns top 5\n",
    "# predicted_vibes = predict_vibes(crop_embeddings, vibe_list, vibe_embeddings)\n",
    "\n",
    "save_output(video_id, matched_products, predicted_vibes)"
   ]
  },
  {
   "cell_type": "code",
   "execution_count": 8,
   "id": "6628af18-bb62-4b44-a4b5-b77552b90dc1",
   "metadata": {},
   "outputs": [
    {
     "data": {
      "text/html": [
       "<div>\n",
       "<style scoped>\n",
       "    .dataframe tbody tr th:only-of-type {\n",
       "        vertical-align: middle;\n",
       "    }\n",
       "\n",
       "    .dataframe tbody tr th {\n",
       "        vertical-align: top;\n",
       "    }\n",
       "\n",
       "    .dataframe thead th {\n",
       "        text-align: right;\n",
       "    }\n",
       "</style>\n",
       "<table border=\"1\" class=\"dataframe\">\n",
       "  <thead>\n",
       "    <tr style=\"text-align: right;\">\n",
       "      <th></th>\n",
       "      <th>product_id</th>\n",
       "      <th>type</th>\n",
       "      <th>color</th>\n",
       "    </tr>\n",
       "  </thead>\n",
       "  <tbody>\n",
       "    <tr>\n",
       "      <th>0</th>\n",
       "      <td>14976</td>\n",
       "      <td>Dress</td>\n",
       "      <td>Colour:Purple, Fabric:Cotton, Gender:Women, GI...</td>\n",
       "    </tr>\n",
       "    <tr>\n",
       "      <th>1</th>\n",
       "      <td>14977</td>\n",
       "      <td>Dress</td>\n",
       "      <td>Colour:Pink, Fabric:Cotton, Gender:Women, GID_...</td>\n",
       "    </tr>\n",
       "    <tr>\n",
       "      <th>2</th>\n",
       "      <td>14978</td>\n",
       "      <td>Jeans</td>\n",
       "      <td>Colour:Blue, Fabric:Cotton, Gender:Women, GID_...</td>\n",
       "    </tr>\n",
       "    <tr>\n",
       "      <th>3</th>\n",
       "      <td>14980</td>\n",
       "      <td>Dress</td>\n",
       "      <td>Colour:Blue, Fabric:Cotton, Gender:Women, GID_...</td>\n",
       "    </tr>\n",
       "    <tr>\n",
       "      <th>4</th>\n",
       "      <td>14981</td>\n",
       "      <td>Top</td>\n",
       "      <td>Colour:Tan, Fabric:Cotton, Gender:Women, GID_V...</td>\n",
       "    </tr>\n",
       "    <tr>\n",
       "      <th>...</th>\n",
       "      <td>...</td>\n",
       "      <td>...</td>\n",
       "      <td>...</td>\n",
       "    </tr>\n",
       "    <tr>\n",
       "      <th>964</th>\n",
       "      <td>118460</td>\n",
       "      <td>Top</td>\n",
       "      <td>Colour:Off White, Fabric:100% Tencel, Gender:W...</td>\n",
       "    </tr>\n",
       "    <tr>\n",
       "      <th>965</th>\n",
       "      <td>118461</td>\n",
       "      <td>Co-Ord</td>\n",
       "      <td>Colour:Off White, Fabric:100% Tencel, Gender:W...</td>\n",
       "    </tr>\n",
       "    <tr>\n",
       "      <th>966</th>\n",
       "      <td>118462</td>\n",
       "      <td>Skirt</td>\n",
       "      <td>Colour:White, Fabric:100% Viscose, Gender:Wome...</td>\n",
       "    </tr>\n",
       "    <tr>\n",
       "      <th>967</th>\n",
       "      <td>118463</td>\n",
       "      <td>Trouser</td>\n",
       "      <td>Colour:Green, Fabric:100% Cotton, Gender:Women...</td>\n",
       "    </tr>\n",
       "    <tr>\n",
       "      <th>968</th>\n",
       "      <td>118464</td>\n",
       "      <td>Trouser</td>\n",
       "      <td>Colour:Off White, Fabric:100% Cotton, Gender:W...</td>\n",
       "    </tr>\n",
       "  </tbody>\n",
       "</table>\n",
       "<p>969 rows × 3 columns</p>\n",
       "</div>"
      ],
      "text/plain": [
       "     product_id     type                                              color\n",
       "0         14976    Dress  Colour:Purple, Fabric:Cotton, Gender:Women, GI...\n",
       "1         14977    Dress  Colour:Pink, Fabric:Cotton, Gender:Women, GID_...\n",
       "2         14978    Jeans  Colour:Blue, Fabric:Cotton, Gender:Women, GID_...\n",
       "3         14980    Dress  Colour:Blue, Fabric:Cotton, Gender:Women, GID_...\n",
       "4         14981      Top  Colour:Tan, Fabric:Cotton, Gender:Women, GID_V...\n",
       "..          ...      ...                                                ...\n",
       "964      118460      Top  Colour:Off White, Fabric:100% Tencel, Gender:W...\n",
       "965      118461   Co-Ord  Colour:Off White, Fabric:100% Tencel, Gender:W...\n",
       "966      118462    Skirt  Colour:White, Fabric:100% Viscose, Gender:Wome...\n",
       "967      118463  Trouser  Colour:Green, Fabric:100% Cotton, Gender:Women...\n",
       "968      118464  Trouser  Colour:Off White, Fabric:100% Cotton, Gender:W...\n",
       "\n",
       "[969 rows x 3 columns]"
      ]
     },
     "execution_count": 8,
     "metadata": {},
     "output_type": "execute_result"
    }
   ],
   "source": [
    "df_meta"
   ]
  },
  {
   "cell_type": "code",
   "execution_count": 12,
   "id": "61edc689-37ca-45f7-8830-8ab38817549d",
   "metadata": {},
   "outputs": [
    {
     "data": {
      "text/html": [
       "<div>\n",
       "<style scoped>\n",
       "    .dataframe tbody tr th:only-of-type {\n",
       "        vertical-align: middle;\n",
       "    }\n",
       "\n",
       "    .dataframe tbody tr th {\n",
       "        vertical-align: top;\n",
       "    }\n",
       "\n",
       "    .dataframe thead th {\n",
       "        text-align: right;\n",
       "    }\n",
       "</style>\n",
       "<table border=\"1\" class=\"dataframe\">\n",
       "  <thead>\n",
       "    <tr style=\"text-align: right;\">\n",
       "      <th></th>\n",
       "      <th>product_id</th>\n",
       "      <th>type</th>\n",
       "      <th>color</th>\n",
       "    </tr>\n",
       "  </thead>\n",
       "  <tbody>\n",
       "    <tr>\n",
       "      <th>0</th>\n",
       "      <td>14976</td>\n",
       "      <td>Dress</td>\n",
       "      <td>Colour:Purple, Fabric:Cotton, Gender:Women, GI...</td>\n",
       "    </tr>\n",
       "    <tr>\n",
       "      <th>1</th>\n",
       "      <td>14977</td>\n",
       "      <td>Dress</td>\n",
       "      <td>Colour:Pink, Fabric:Cotton, Gender:Women, GID_...</td>\n",
       "    </tr>\n",
       "    <tr>\n",
       "      <th>2</th>\n",
       "      <td>14978</td>\n",
       "      <td>Jeans</td>\n",
       "      <td>Colour:Blue, Fabric:Cotton, Gender:Women, GID_...</td>\n",
       "    </tr>\n",
       "    <tr>\n",
       "      <th>3</th>\n",
       "      <td>14980</td>\n",
       "      <td>Dress</td>\n",
       "      <td>Colour:Blue, Fabric:Cotton, Gender:Women, GID_...</td>\n",
       "    </tr>\n",
       "    <tr>\n",
       "      <th>4</th>\n",
       "      <td>14981</td>\n",
       "      <td>Top</td>\n",
       "      <td>Colour:Tan, Fabric:Cotton, Gender:Women, GID_V...</td>\n",
       "    </tr>\n",
       "    <tr>\n",
       "      <th>...</th>\n",
       "      <td>...</td>\n",
       "      <td>...</td>\n",
       "      <td>...</td>\n",
       "    </tr>\n",
       "    <tr>\n",
       "      <th>964</th>\n",
       "      <td>118460</td>\n",
       "      <td>Top</td>\n",
       "      <td>Colour:Off White, Fabric:100% Tencel, Gender:W...</td>\n",
       "    </tr>\n",
       "    <tr>\n",
       "      <th>965</th>\n",
       "      <td>118461</td>\n",
       "      <td>Co-Ord</td>\n",
       "      <td>Colour:Off White, Fabric:100% Tencel, Gender:W...</td>\n",
       "    </tr>\n",
       "    <tr>\n",
       "      <th>966</th>\n",
       "      <td>118462</td>\n",
       "      <td>Skirt</td>\n",
       "      <td>Colour:White, Fabric:100% Viscose, Gender:Wome...</td>\n",
       "    </tr>\n",
       "    <tr>\n",
       "      <th>967</th>\n",
       "      <td>118463</td>\n",
       "      <td>Trouser</td>\n",
       "      <td>Colour:Green, Fabric:100% Cotton, Gender:Women...</td>\n",
       "    </tr>\n",
       "    <tr>\n",
       "      <th>968</th>\n",
       "      <td>118464</td>\n",
       "      <td>Trouser</td>\n",
       "      <td>Colour:Off White, Fabric:100% Cotton, Gender:W...</td>\n",
       "    </tr>\n",
       "  </tbody>\n",
       "</table>\n",
       "<p>969 rows × 3 columns</p>\n",
       "</div>"
      ],
      "text/plain": [
       "     product_id     type                                              color\n",
       "0         14976    Dress  Colour:Purple, Fabric:Cotton, Gender:Women, GI...\n",
       "1         14977    Dress  Colour:Pink, Fabric:Cotton, Gender:Women, GID_...\n",
       "2         14978    Jeans  Colour:Blue, Fabric:Cotton, Gender:Women, GID_...\n",
       "3         14980    Dress  Colour:Blue, Fabric:Cotton, Gender:Women, GID_...\n",
       "4         14981      Top  Colour:Tan, Fabric:Cotton, Gender:Women, GID_V...\n",
       "..          ...      ...                                                ...\n",
       "964      118460      Top  Colour:Off White, Fabric:100% Tencel, Gender:W...\n",
       "965      118461   Co-Ord  Colour:Off White, Fabric:100% Tencel, Gender:W...\n",
       "966      118462    Skirt  Colour:White, Fabric:100% Viscose, Gender:Wome...\n",
       "967      118463  Trouser  Colour:Green, Fabric:100% Cotton, Gender:Women...\n",
       "968      118464  Trouser  Colour:Off White, Fabric:100% Cotton, Gender:W...\n",
       "\n",
       "[969 rows x 3 columns]"
      ]
     },
     "execution_count": 12,
     "metadata": {},
     "output_type": "execute_result"
    }
   ],
   "source": [
    "df_catalog "
   ]
  },
  {
   "cell_type": "code",
   "execution_count": 16,
   "id": "3b632fbf-499e-4dc9-83cb-42d0411943f5",
   "metadata": {},
   "outputs": [
    {
     "name": "stdout",
     "output_type": "stream",
     "text": [
      "✅ Saved 11689 IDs to models/catalog_ids.json\n"
     ]
    }
   ],
   "source": [
    "import pandas as pd\n",
    "import json\n",
    "\n",
    "# Load product IDs from images.csv\n",
    "df = pd.read_csv(\"images.csv\")\n",
    "catalog_ids = df[\"id\"].tolist()\n",
    "\n",
    "# Save to JSON\n",
    "with open(\"models/catalog_ids.json\", \"w\") as f:\n",
    "    json.dump(catalog_ids, f)\n",
    "\n",
    "print(f\"✅ Saved {len(catalog_ids)} IDs to models/catalog_ids.json\")\n"
   ]
  },
  {
   "cell_type": "code",
   "execution_count": 6,
   "id": "0ec7b86e-797b-4b67-9d8b-02d1b3b8210b",
   "metadata": {},
   "outputs": [
    {
     "name": "stdout",
     "output_type": "stream",
     "text": [
      "\n",
      "📂 Processing: 2025-05-22_08-25-12_UTC\n",
      "✅ 2025-05-22_08-25-12_UTC — 0 valid objects cropped\n",
      "🖼️ Saved 0 crops to: cropped_objects\\2025-05-22_08-25-12_UTC\n",
      "\n",
      "📂 Processing: 2025-05-27_13-46-16_UTC\n",
      "✅ 2025-05-27_13-46-16_UTC — 39 valid objects cropped\n",
      "🖼️ Saved 39 crops to: cropped_objects\\2025-05-27_13-46-16_UTC\n",
      "🔢 Sample embedding vector (dim 5): [ 0.41829574  0.26952037 -0.21329166  0.2833177  -0.02384375]\n",
      "\n",
      "📂 Processing: 2025-05-28_13-40-09_UTC\n",
      "✅ 2025-05-28_13-40-09_UTC — 55 valid objects cropped\n",
      "🖼️ Saved 55 crops to: cropped_objects\\2025-05-28_13-40-09_UTC\n",
      "🔢 Sample embedding vector (dim 5): [ 0.0380868  -0.14358225 -0.14568007  0.508651   -0.05036414]\n",
      "\n",
      "📂 Processing: 2025-05-28_13-42-32_UTC\n",
      "✅ 2025-05-28_13-42-32_UTC — 62 valid objects cropped\n",
      "🖼️ Saved 62 crops to: cropped_objects\\2025-05-28_13-42-32_UTC\n",
      "🔢 Sample embedding vector (dim 5): [-0.16378038  0.11210231 -0.15507695  0.39340988 -0.57662433]\n",
      "\n",
      "📂 Processing: 2025-05-31_14-01-37_UTC\n",
      "✅ 2025-05-31_14-01-37_UTC — 23 valid objects cropped\n",
      "🖼️ Saved 23 crops to: cropped_objects\\2025-05-31_14-01-37_UTC\n",
      "🔢 Sample embedding vector (dim 5): [ 0.13587862  0.2369529  -0.22727951  0.37067753 -0.53545237]\n",
      "\n",
      "📂 Processing: 2025-06-02_11-31-19_UTC\n",
      "✅ 2025-06-02_11-31-19_UTC — 194 valid objects cropped\n",
      "🖼️ Saved 194 crops to: cropped_objects\\2025-06-02_11-31-19_UTC\n",
      "🔢 Sample embedding vector (dim 5): [ 0.02826448  0.18551587 -0.47734824  0.3207417  -0.08550564]\n"
     ]
    }
   ],
   "source": [
    "import os\n",
    "import json\n",
    "import cv2\n",
    "import numpy as np\n",
    "import torch\n",
    "from PIL import Image\n",
    "from transformers import CLIPProcessor, CLIPModel\n",
    "\n",
    "# ===== Load CLIP Model =====\n",
    "device = \"cuda\" if torch.cuda.is_available() else \"cpu\"\n",
    "clip_model = CLIPModel.from_pretrained(\"openai/clip-vit-base-patch32\").to(device)\n",
    "clip_processor = CLIPProcessor.from_pretrained(\"openai/clip-vit-base-patch32\")\n",
    "\n",
    "# ===== Fashion-related Classes =====\n",
    "FASHION_CLASSES = {\n",
    "    \"person\", \"handbag\", \"backpack\", \"tie\", \"suitcase\",\n",
    "    \"umbrella\", \"shoe\", \"sandals\", \"shirt\", \"dress\", \"pants\",\n",
    "    \"jeans\", \"skirt\", \"coat\", \"jacket\", \"top\", \"blouse\", \"trouser\"\n",
    "}\n",
    "\n",
    "# ===== Crop Function =====\n",
    "def crop_detected_objects(detection_json, frames_dir, output_dir):\n",
    "    os.makedirs(output_dir, exist_ok=True)\n",
    "    with open(detection_json, \"r\") as f:\n",
    "        detections = json.load(f)\n",
    "\n",
    "    crop_paths = []\n",
    "    for frame_obj in detections:\n",
    "        frame_name = frame_obj[\"frame\"]\n",
    "        frame_path = os.path.join(frames_dir, frame_name)\n",
    "        if not os.path.exists(frame_path):\n",
    "            continue\n",
    "        image = cv2.imread(frame_path)\n",
    "\n",
    "        for i, det in enumerate(frame_obj[\"detections\"]):\n",
    "            label = det.get(\"label\", det.get(\"class_name\", \"unknown\")).lower()\n",
    "            if label not in FASHION_CLASSES:\n",
    "                continue\n",
    "\n",
    "            if \"bbox\" not in det or len(det[\"bbox\"]) < 4:\n",
    "                continue\n",
    "\n",
    "            x, y, w, h = map(int, det[\"bbox\"])\n",
    "            x1 = max(int(x - w / 2), 0)\n",
    "            y1 = max(int(y - h / 2), 0)\n",
    "            x2 = min(int(x + w / 2), image.shape[1])\n",
    "            y2 = min(int(y + h / 2), image.shape[0])\n",
    "\n",
    "            crop = image[y1:y2, x1:x2]\n",
    "            if crop.size == 0 or crop.shape[0] < 50 or crop.shape[1] < 50:\n",
    "                continue\n",
    "\n",
    "            crop_path = os.path.join(output_dir, f\"{frame_name[:-4]}_obj_{i}.jpg\")\n",
    "            cv2.imwrite(crop_path, crop)\n",
    "            crop_paths.append(crop_path)\n",
    "\n",
    "    print(f\"✅ {os.path.basename(frames_dir)} — {len(crop_paths)} valid objects cropped\")\n",
    "    return crop_paths\n",
    "\n",
    "# ===== Embedding Function (for testing) =====\n",
    "def get_image_embedding(image_path_or_pil):\n",
    "    if isinstance(image_path_or_pil, str):\n",
    "        image = Image.open(image_path_or_pil).convert(\"RGB\")\n",
    "    else:\n",
    "        image = image_path_or_pil\n",
    "    inputs = clip_processor(images=image, return_tensors=\"pt\").to(device)\n",
    "    with torch.no_grad():\n",
    "        outputs = clip_model.get_image_features(**inputs)\n",
    "    return outputs[0].cpu().numpy()\n",
    "\n",
    "# ===== Run For All Videos =====\n",
    "base_frames_dir = \"frames\"\n",
    "base_outputs_dir = \"outputs\"\n",
    "base_crops_dir = \"cropped_objects\"\n",
    "\n",
    "all_video_ids = [d for d in os.listdir(base_frames_dir) if os.path.isdir(os.path.join(base_frames_dir, d))]\n",
    "\n",
    "for video_id in sorted(all_video_ids):\n",
    "    detection_json = os.path.join(base_outputs_dir, f\"{video_id}.json\")\n",
    "    frames_dir = os.path.join(base_frames_dir, video_id)\n",
    "    output_dir = os.path.join(base_crops_dir, video_id)\n",
    "\n",
    "    if not os.path.exists(detection_json):\n",
    "        print(f\"⚠️ Skipping {video_id} — detection JSON not found\")\n",
    "        continue\n",
    "\n",
    "    print(f\"\\n📂 Processing: {video_id}\")\n",
    "    crops = crop_detected_objects(detection_json, frames_dir, output_dir)\n",
    "    print(f\"🖼️ Saved {len(crops)} crops to: {output_dir}\")\n",
    "\n",
    "    # OPTIONAL CHECK — comment out in production\n",
    "    if crops:\n",
    "        emb = get_image_embedding(crops[0])\n",
    "        print(\"🔢 Sample embedding vector (dim 5):\", emb[:5])\n"
   ]
  },
  {
   "cell_type": "code",
   "execution_count": null,
   "id": "70acd252-cf1f-4431-8e48-62d258abdf38",
   "metadata": {},
   "outputs": [],
   "source": []
  }
 ],
 "metadata": {
  "kernelspec": {
   "display_name": "Python 3 (ipykernel)",
   "language": "python",
   "name": "python3"
  },
  "language_info": {
   "codemirror_mode": {
    "name": "ipython",
    "version": 3
   },
   "file_extension": ".py",
   "mimetype": "text/x-python",
   "name": "python",
   "nbconvert_exporter": "python",
   "pygments_lexer": "ipython3",
   "version": "3.12.7"
  }
 },
 "nbformat": 4,
 "nbformat_minor": 5
}
